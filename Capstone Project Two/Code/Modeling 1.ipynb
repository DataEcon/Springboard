{
 "cells": [
  {
   "cell_type": "code",
   "execution_count": 1,
   "metadata": {},
   "outputs": [],
   "source": [
    "import pandas as pd\n",
    "import numpy as np\n",
    "import datetime as dt\n",
    "import matplotlib.pyplot as plt\n",
    "import seaborn as sns\n",
    "sns.set()"
   ]
  },
  {
   "cell_type": "code",
   "execution_count": 2,
   "metadata": {},
   "outputs": [],
   "source": [
    "file_path_train = r'C:\\\\Users\\\\mshus\\\\Google Drive\\\\Data Science - Springboard\\\\Git_GitHub\\\\Springboard\\\\Capstone Project Two\\\\Data\\train_data.csv'\n",
    "file_path_test = r'C:\\\\Users\\\\mshus\\\\Google Drive\\\\Data Science - Springboard\\\\Git_GitHub\\\\Springboard\\\\Capstone Project Two\\\\Data\\test_data.csv'"
   ]
  },
  {
   "cell_type": "code",
   "execution_count": 3,
   "metadata": {},
   "outputs": [],
   "source": [
    "train_data = pd.read_csv(file_path_train, index_col = ['Date'])\n",
    "test_data = pd.read_csv(file_path_test, index_col = ['Date'])"
   ]
  },
  {
   "cell_type": "code",
   "execution_count": 4,
   "metadata": {},
   "outputs": [
    {
     "data": {
      "text/html": [
       "<div>\n",
       "<style scoped>\n",
       "    .dataframe tbody tr th:only-of-type {\n",
       "        vertical-align: middle;\n",
       "    }\n",
       "\n",
       "    .dataframe tbody tr th {\n",
       "        vertical-align: top;\n",
       "    }\n",
       "\n",
       "    .dataframe thead th {\n",
       "        text-align: right;\n",
       "    }\n",
       "</style>\n",
       "<table border=\"1\" class=\"dataframe\">\n",
       "  <thead>\n",
       "    <tr style=\"text-align: right;\">\n",
       "      <th></th>\n",
       "      <th>confirmed</th>\n",
       "      <th>death</th>\n",
       "      <th>recovered</th>\n",
       "      <th>High</th>\n",
       "      <th>Low</th>\n",
       "      <th>Open</th>\n",
       "      <th>Close</th>\n",
       "      <th>Volume</th>\n",
       "      <th>adjusted_close</th>\n",
       "      <th>first_diff_adj_stock</th>\n",
       "    </tr>\n",
       "    <tr>\n",
       "      <th>Date</th>\n",
       "      <th></th>\n",
       "      <th></th>\n",
       "      <th></th>\n",
       "      <th></th>\n",
       "      <th></th>\n",
       "      <th></th>\n",
       "      <th></th>\n",
       "      <th></th>\n",
       "      <th></th>\n",
       "      <th></th>\n",
       "    </tr>\n",
       "  </thead>\n",
       "  <tbody>\n",
       "    <tr>\n",
       "      <th>2020-01-23</th>\n",
       "      <td>1</td>\n",
       "      <td>0</td>\n",
       "      <td>0</td>\n",
       "      <td>57.980000</td>\n",
       "      <td>57.020000</td>\n",
       "      <td>57.599998</td>\n",
       "      <td>57.770000</td>\n",
       "      <td>227900.0</td>\n",
       "      <td>54.500458</td>\n",
       "      <td>-0.386795</td>\n",
       "    </tr>\n",
       "    <tr>\n",
       "      <th>2020-01-24</th>\n",
       "      <td>2</td>\n",
       "      <td>0</td>\n",
       "      <td>0</td>\n",
       "      <td>57.799999</td>\n",
       "      <td>56.840000</td>\n",
       "      <td>57.730000</td>\n",
       "      <td>57.160000</td>\n",
       "      <td>146200.0</td>\n",
       "      <td>53.924980</td>\n",
       "      <td>-0.575478</td>\n",
       "    </tr>\n",
       "    <tr>\n",
       "      <th>2020-01-27</th>\n",
       "      <td>5</td>\n",
       "      <td>0</td>\n",
       "      <td>0</td>\n",
       "      <td>55.689999</td>\n",
       "      <td>54.820000</td>\n",
       "      <td>55.139999</td>\n",
       "      <td>55.279999</td>\n",
       "      <td>230600.0</td>\n",
       "      <td>52.151379</td>\n",
       "      <td>-1.773602</td>\n",
       "    </tr>\n",
       "    <tr>\n",
       "      <th>2020-01-28</th>\n",
       "      <td>5</td>\n",
       "      <td>0</td>\n",
       "      <td>0</td>\n",
       "      <td>56.090000</td>\n",
       "      <td>55.160000</td>\n",
       "      <td>55.490002</td>\n",
       "      <td>55.500000</td>\n",
       "      <td>174400.0</td>\n",
       "      <td>52.358929</td>\n",
       "      <td>0.207550</td>\n",
       "    </tr>\n",
       "    <tr>\n",
       "      <th>2020-01-29</th>\n",
       "      <td>5</td>\n",
       "      <td>0</td>\n",
       "      <td>0</td>\n",
       "      <td>55.900002</td>\n",
       "      <td>54.939999</td>\n",
       "      <td>55.799999</td>\n",
       "      <td>55.230000</td>\n",
       "      <td>214500.0</td>\n",
       "      <td>52.104210</td>\n",
       "      <td>-0.254719</td>\n",
       "    </tr>\n",
       "  </tbody>\n",
       "</table>\n",
       "</div>"
      ],
      "text/plain": [
       "            confirmed  death  recovered       High        Low       Open  \\\n",
       "Date                                                                       \n",
       "2020-01-23          1      0          0  57.980000  57.020000  57.599998   \n",
       "2020-01-24          2      0          0  57.799999  56.840000  57.730000   \n",
       "2020-01-27          5      0          0  55.689999  54.820000  55.139999   \n",
       "2020-01-28          5      0          0  56.090000  55.160000  55.490002   \n",
       "2020-01-29          5      0          0  55.900002  54.939999  55.799999   \n",
       "\n",
       "                Close    Volume  adjusted_close  first_diff_adj_stock  \n",
       "Date                                                                   \n",
       "2020-01-23  57.770000  227900.0       54.500458             -0.386795  \n",
       "2020-01-24  57.160000  146200.0       53.924980             -0.575478  \n",
       "2020-01-27  55.279999  230600.0       52.151379             -1.773602  \n",
       "2020-01-28  55.500000  174400.0       52.358929              0.207550  \n",
       "2020-01-29  55.230000  214500.0       52.104210             -0.254719  "
      ]
     },
     "execution_count": 4,
     "metadata": {},
     "output_type": "execute_result"
    }
   ],
   "source": [
    "train_data.head()"
   ]
  },
  {
   "cell_type": "code",
   "execution_count": 5,
   "metadata": {
    "scrolled": true
   },
   "outputs": [
    {
     "name": "stdout",
     "output_type": "stream",
     "text": [
      "<class 'pandas.core.frame.DataFrame'>\n",
      "Index: 103 entries, 2020-01-23 to 2020-06-18\n",
      "Data columns (total 10 columns):\n",
      " #   Column                Non-Null Count  Dtype  \n",
      "---  ------                --------------  -----  \n",
      " 0   confirmed             103 non-null    int64  \n",
      " 1   death                 103 non-null    int64  \n",
      " 2   recovered             103 non-null    int64  \n",
      " 3   High                  103 non-null    float64\n",
      " 4   Low                   103 non-null    float64\n",
      " 5   Open                  103 non-null    float64\n",
      " 6   Close                 103 non-null    float64\n",
      " 7   Volume                103 non-null    float64\n",
      " 8   adjusted_close        103 non-null    float64\n",
      " 9   first_diff_adj_stock  103 non-null    float64\n",
      "dtypes: float64(7), int64(3)\n",
      "memory usage: 8.9+ KB\n"
     ]
    }
   ],
   "source": [
    "train_data.info()"
   ]
  },
  {
   "cell_type": "code",
   "execution_count": 45,
   "metadata": {},
   "outputs": [],
   "source": [
    "y1 = train_data['confirmed']\n",
    "y2 = train_data['death']\n",
    "y3 = train_data['recovered']"
   ]
  },
  {
   "cell_type": "code",
   "execution_count": 46,
   "metadata": {},
   "outputs": [],
   "source": [
    "x1 = train_data['Close']\n",
    "x2 = train_data['adjusted_close']\n",
    "x3 = train_data['Open']\n",
    "x4 = train_data['High']"
   ]
  },
  {
   "cell_type": "code",
   "execution_count": 48,
   "metadata": {},
   "outputs": [
    {
     "data": {
      "text/plain": [
       "<matplotlib.collections.PathCollection at 0x2b44f4f5508>"
      ]
     },
     "execution_count": 48,
     "metadata": {},
     "output_type": "execute_result"
    },
    {
     "data": {
      "image/png": "[encoded data removed]",
      "text/plain": [
       "<Figure size 432x288 with 1 Axes>"
      ]
     },
     "metadata": {},
     "output_type": "display_data"
    }
   ],
   "source": [
    "# confirmed and closing price\n",
    "plt.scatter(x1, y1)"
   ]
  },
  {
   "cell_type": "code",
   "execution_count": 49,
   "metadata": {},
   "outputs": [
    {
     "data": {
      "text/plain": [
       "<matplotlib.collections.PathCollection at 0x2b44e8d59c8>"
      ]
     },
     "execution_count": 49,
     "metadata": {},
     "output_type": "execute_result"
    },
    {
     "data": {
      "image/png": "[encoded data removed]",
      "text/plain": [
       "<Figure size 432x288 with 1 Axes>"
      ]
     },
     "metadata": {},
     "output_type": "display_data"
    }
   ],
   "source": [
    "# death and closing price\n",
    "plt.scatter(x1, y2)"
   ]
  },
  {
   "cell_type": "code",
   "execution_count": 50,
   "metadata": {},
   "outputs": [
    {
     "data": {
      "text/plain": [
       "<matplotlib.collections.PathCollection at 0x2b44e8c4c08>"
      ]
     },
     "execution_count": 50,
     "metadata": {},
     "output_type": "execute_result"
    },
    {
     "data": {
      "image/png": "[encoded data removed]",
      "text/plain": [
       "<Figure size 432x288 with 1 Axes>"
      ]
     },
     "metadata": {},
     "output_type": "display_data"
    }
   ],
   "source": [
    "# Recover and closing price\n",
    "plt.scatter(x1, y3)"
   ]
  },
  {
   "cell_type": "code",
   "execution_count": 52,
   "metadata": {},
   "outputs": [],
   "source": [
    "#Log closing price\n",
    "x11 = np.log(x1)"
   ]
  },
  {
   "cell_type": "code",
   "execution_count": 55,
   "metadata": {},
   "outputs": [],
   "source": [
    "y11 = np.log(y1)"
   ]
  },
  {
   "cell_type": "code",
   "execution_count": 56,
   "metadata": {},
   "outputs": [
    {
     "data": {
      "text/plain": [
       "<matplotlib.collections.PathCollection at 0x2b45226d988>"
      ]
     },
     "execution_count": 56,
     "metadata": {},
     "output_type": "execute_result"
    },
    {
     "data": {
      "image/png": "[encoded data removed]",
      "text/plain": [
       "<Figure size 432x288 with 1 Axes>"
      ]
     },
     "metadata": {},
     "output_type": "display_data"
    }
   ],
   "source": [
    "plt.scatter(x11, y11)"
   ]
  },
  {
   "cell_type": "code",
   "execution_count": null,
   "metadata": {},
   "outputs": [],
   "source": []
  },
  {
   "cell_type": "code",
   "execution_count": null,
   "metadata": {},
   "outputs": [],
   "source": []
  },
  {
   "cell_type": "code",
   "execution_count": 6,
   "metadata": {},
   "outputs": [
    {
     "data": {
      "text/plain": [
       "Index(['2020-01-23', '2020-01-24', '2020-01-27', '2020-01-28', '2020-01-29',\n",
       "       '2020-01-30', '2020-01-31', '2020-02-03', '2020-02-04', '2020-02-05',\n",
       "       ...\n",
       "       '2020-06-05', '2020-06-08', '2020-06-09', '2020-06-10', '2020-06-11',\n",
       "       '2020-06-12', '2020-06-15', '2020-06-16', '2020-06-17', '2020-06-18'],\n",
       "      dtype='object', name='Date', length=103)"
      ]
     },
     "execution_count": 6,
     "metadata": {},
     "output_type": "execute_result"
    }
   ],
   "source": [
    "train_data.index"
   ]
  },
  {
   "cell_type": "code",
   "execution_count": 7,
   "metadata": {},
   "outputs": [],
   "source": [
    "train_data.index = pd.DatetimeIndex(train_data.index).to_period('B').dropna()"
   ]
  },
  {
   "cell_type": "code",
   "execution_count": 8,
   "metadata": {},
   "outputs": [
    {
     "data": {
      "text/plain": [
       "PeriodIndex(['2020-01-23', '2020-01-24', '2020-01-27', '2020-01-28',\n",
       "             '2020-01-29', '2020-01-30', '2020-01-31', '2020-02-03',\n",
       "             '2020-02-04', '2020-02-05',\n",
       "             ...\n",
       "             '2020-06-05', '2020-06-08', '2020-06-09', '2020-06-10',\n",
       "             '2020-06-11', '2020-06-12', '2020-06-15', '2020-06-16',\n",
       "             '2020-06-17', '2020-06-18'],\n",
       "            dtype='period[B]', name='Date', length=103, freq='B')"
      ]
     },
     "execution_count": 8,
     "metadata": {},
     "output_type": "execute_result"
    }
   ],
   "source": [
    "train_data.index"
   ]
  },
  {
   "cell_type": "markdown",
   "metadata": {},
   "source": [
    "# AR Model "
   ]
  },
  {
   "cell_type": "markdown",
   "metadata": {},
   "source": [
    "### Optimal Lag Selection "
   ]
  },
  {
   "cell_type": "code",
   "execution_count": 9,
   "metadata": {},
   "outputs": [],
   "source": [
    "from statsmodels.graphics.tsaplots import plot_acf, plot_pacf"
   ]
  },
  {
   "cell_type": "code",
   "execution_count": 10,
   "metadata": {},
   "outputs": [],
   "source": [
    "import statsmodels.api as sm"
   ]
  },
  {
   "cell_type": "code",
   "execution_count": 11,
   "metadata": {},
   "outputs": [
    {
     "name": "stdout",
     "output_type": "stream",
     "text": [
      "p-value:0.1098348523476309\n"
     ]
    }
   ],
   "source": [
    "#ADF-test Original Data\n",
    "res = sm.tsa.adfuller(train_data['adjusted_close'].dropna(),regression='ct')\n",
    "print('p-value:{}'.format(res[1]))"
   ]
  },
  {
   "cell_type": "code",
   "execution_count": 12,
   "metadata": {},
   "outputs": [
    {
     "name": "stdout",
     "output_type": "stream",
     "text": [
      "p-value:1.6171892860477165e-21\n"
     ]
    }
   ],
   "source": [
    "#ADF-test(differenced-time-series)\n",
    "res = sm.tsa.adfuller(train_data['adjusted_close'].diff().dropna(),regression='c')\n",
    "print('p-value:{}'.format(res[1]))"
   ]
  },
  {
   "cell_type": "code",
   "execution_count": 13,
   "metadata": {},
   "outputs": [
    {
     "data": {
      "text/html": [
       "<div>\n",
       "<style scoped>\n",
       "    .dataframe tbody tr th:only-of-type {\n",
       "        vertical-align: middle;\n",
       "    }\n",
       "\n",
       "    .dataframe tbody tr th {\n",
       "        vertical-align: top;\n",
       "    }\n",
       "\n",
       "    .dataframe thead th {\n",
       "        text-align: right;\n",
       "    }\n",
       "</style>\n",
       "<table border=\"1\" class=\"dataframe\">\n",
       "  <thead>\n",
       "    <tr style=\"text-align: right;\">\n",
       "      <th></th>\n",
       "      <th>confirmed</th>\n",
       "      <th>death</th>\n",
       "      <th>recovered</th>\n",
       "      <th>High</th>\n",
       "      <th>Low</th>\n",
       "      <th>Open</th>\n",
       "      <th>Close</th>\n",
       "      <th>Volume</th>\n",
       "      <th>adjusted_close</th>\n",
       "      <th>first_diff_adj_stock</th>\n",
       "    </tr>\n",
       "    <tr>\n",
       "      <th>Date</th>\n",
       "      <th></th>\n",
       "      <th></th>\n",
       "      <th></th>\n",
       "      <th></th>\n",
       "      <th></th>\n",
       "      <th></th>\n",
       "      <th></th>\n",
       "      <th></th>\n",
       "      <th></th>\n",
       "      <th></th>\n",
       "    </tr>\n",
       "  </thead>\n",
       "  <tbody>\n",
       "    <tr>\n",
       "      <th>2020-01-23</th>\n",
       "      <td>1</td>\n",
       "      <td>0</td>\n",
       "      <td>0</td>\n",
       "      <td>57.980000</td>\n",
       "      <td>57.020000</td>\n",
       "      <td>57.599998</td>\n",
       "      <td>57.770000</td>\n",
       "      <td>227900.0</td>\n",
       "      <td>54.500458</td>\n",
       "      <td>-0.386795</td>\n",
       "    </tr>\n",
       "    <tr>\n",
       "      <th>2020-01-24</th>\n",
       "      <td>2</td>\n",
       "      <td>0</td>\n",
       "      <td>0</td>\n",
       "      <td>57.799999</td>\n",
       "      <td>56.840000</td>\n",
       "      <td>57.730000</td>\n",
       "      <td>57.160000</td>\n",
       "      <td>146200.0</td>\n",
       "      <td>53.924980</td>\n",
       "      <td>-0.575478</td>\n",
       "    </tr>\n",
       "    <tr>\n",
       "      <th>2020-01-27</th>\n",
       "      <td>5</td>\n",
       "      <td>0</td>\n",
       "      <td>0</td>\n",
       "      <td>55.689999</td>\n",
       "      <td>54.820000</td>\n",
       "      <td>55.139999</td>\n",
       "      <td>55.279999</td>\n",
       "      <td>230600.0</td>\n",
       "      <td>52.151379</td>\n",
       "      <td>-1.773602</td>\n",
       "    </tr>\n",
       "    <tr>\n",
       "      <th>2020-01-28</th>\n",
       "      <td>5</td>\n",
       "      <td>0</td>\n",
       "      <td>0</td>\n",
       "      <td>56.090000</td>\n",
       "      <td>55.160000</td>\n",
       "      <td>55.490002</td>\n",
       "      <td>55.500000</td>\n",
       "      <td>174400.0</td>\n",
       "      <td>52.358929</td>\n",
       "      <td>0.207550</td>\n",
       "    </tr>\n",
       "    <tr>\n",
       "      <th>2020-01-29</th>\n",
       "      <td>5</td>\n",
       "      <td>0</td>\n",
       "      <td>0</td>\n",
       "      <td>55.900002</td>\n",
       "      <td>54.939999</td>\n",
       "      <td>55.799999</td>\n",
       "      <td>55.230000</td>\n",
       "      <td>214500.0</td>\n",
       "      <td>52.104210</td>\n",
       "      <td>-0.254719</td>\n",
       "    </tr>\n",
       "    <tr>\n",
       "      <th>...</th>\n",
       "      <td>...</td>\n",
       "      <td>...</td>\n",
       "      <td>...</td>\n",
       "      <td>...</td>\n",
       "      <td>...</td>\n",
       "      <td>...</td>\n",
       "      <td>...</td>\n",
       "      <td>...</td>\n",
       "      <td>...</td>\n",
       "      <td>...</td>\n",
       "    </tr>\n",
       "    <tr>\n",
       "      <th>2020-06-12</th>\n",
       "      <td>2048986</td>\n",
       "      <td>115334</td>\n",
       "      <td>547386</td>\n",
       "      <td>44.590000</td>\n",
       "      <td>43.430000</td>\n",
       "      <td>44.580002</td>\n",
       "      <td>44.110001</td>\n",
       "      <td>244300.0</td>\n",
       "      <td>44.110001</td>\n",
       "      <td>0.260002</td>\n",
       "    </tr>\n",
       "    <tr>\n",
       "      <th>2020-06-15</th>\n",
       "      <td>2114026</td>\n",
       "      <td>116773</td>\n",
       "      <td>576334</td>\n",
       "      <td>44.090000</td>\n",
       "      <td>43.049999</td>\n",
       "      <td>43.349998</td>\n",
       "      <td>43.599998</td>\n",
       "      <td>154800.0</td>\n",
       "      <td>43.599998</td>\n",
       "      <td>-0.510002</td>\n",
       "    </tr>\n",
       "    <tr>\n",
       "      <th>2020-06-16</th>\n",
       "      <td>2137731</td>\n",
       "      <td>117612</td>\n",
       "      <td>583503</td>\n",
       "      <td>45.029999</td>\n",
       "      <td>44.009998</td>\n",
       "      <td>44.549999</td>\n",
       "      <td>44.230000</td>\n",
       "      <td>113200.0</td>\n",
       "      <td>44.230000</td>\n",
       "      <td>0.630001</td>\n",
       "    </tr>\n",
       "    <tr>\n",
       "      <th>2020-06-17</th>\n",
       "      <td>2163290</td>\n",
       "      <td>118363</td>\n",
       "      <td>592191</td>\n",
       "      <td>44.630001</td>\n",
       "      <td>44.009998</td>\n",
       "      <td>44.320000</td>\n",
       "      <td>44.369999</td>\n",
       "      <td>145000.0</td>\n",
       "      <td>44.369999</td>\n",
       "      <td>0.139999</td>\n",
       "    </tr>\n",
       "    <tr>\n",
       "      <th>2020-06-18</th>\n",
       "      <td>2191099</td>\n",
       "      <td>119067</td>\n",
       "      <td>599115</td>\n",
       "      <td>44.380001</td>\n",
       "      <td>43.779999</td>\n",
       "      <td>44.380001</td>\n",
       "      <td>44.080002</td>\n",
       "      <td>142500.0</td>\n",
       "      <td>44.080002</td>\n",
       "      <td>-0.289997</td>\n",
       "    </tr>\n",
       "  </tbody>\n",
       "</table>\n",
       "<p>103 rows × 10 columns</p>\n",
       "</div>"
      ],
      "text/plain": [
       "            confirmed   death  recovered       High        Low       Open  \\\n",
       "Date                                                                        \n",
       "2020-01-23          1       0          0  57.980000  57.020000  57.599998   \n",
       "2020-01-24          2       0          0  57.799999  56.840000  57.730000   \n",
       "2020-01-27          5       0          0  55.689999  54.820000  55.139999   \n",
       "2020-01-28          5       0          0  56.090000  55.160000  55.490002   \n",
       "2020-01-29          5       0          0  55.900002  54.939999  55.799999   \n",
       "...               ...     ...        ...        ...        ...        ...   \n",
       "2020-06-12    2048986  115334     547386  44.590000  43.430000  44.580002   \n",
       "2020-06-15    2114026  116773     576334  44.090000  43.049999  43.349998   \n",
       "2020-06-16    2137731  117612     583503  45.029999  44.009998  44.549999   \n",
       "2020-06-17    2163290  118363     592191  44.630001  44.009998  44.320000   \n",
       "2020-06-18    2191099  119067     599115  44.380001  43.779999  44.380001   \n",
       "\n",
       "                Close    Volume  adjusted_close  first_diff_adj_stock  \n",
       "Date                                                                   \n",
       "2020-01-23  57.770000  227900.0       54.500458             -0.386795  \n",
       "2020-01-24  57.160000  146200.0       53.924980             -0.575478  \n",
       "2020-01-27  55.279999  230600.0       52.151379             -1.773602  \n",
       "2020-01-28  55.500000  174400.0       52.358929              0.207550  \n",
       "2020-01-29  55.230000  214500.0       52.104210             -0.254719  \n",
       "...               ...       ...             ...                   ...  \n",
       "2020-06-12  44.110001  244300.0       44.110001              0.260002  \n",
       "2020-06-15  43.599998  154800.0       43.599998             -0.510002  \n",
       "2020-06-16  44.230000  113200.0       44.230000              0.630001  \n",
       "2020-06-17  44.369999  145000.0       44.369999              0.139999  \n",
       "2020-06-18  44.080002  142500.0       44.080002             -0.289997  \n",
       "\n",
       "[103 rows x 10 columns]"
      ]
     },
     "execution_count": 13,
     "metadata": {},
     "output_type": "execute_result"
    }
   ],
   "source": [
    "train_data"
   ]
  },
  {
   "cell_type": "code",
   "execution_count": 14,
   "metadata": {},
   "outputs": [
    {
     "data": {
      "text/plain": [
       "<Figure size 864x576 with 0 Axes>"
      ]
     },
     "metadata": {},
     "output_type": "display_data"
    },
    {
     "data": {
      "image/png": "[encoded data removed]",
      "text/plain": [
       "<Figure size 432x288 with 1 Axes>"
      ]
     },
     "metadata": {},
     "output_type": "display_data"
    }
   ],
   "source": [
    "# PACF of differenced data\n",
    "\n",
    "plt.figure(figsize = (12, 8))\n",
    "plot_pacf(train_data.adjusted_close, lags = 40, zero = False, method = ('ols'))\n",
    "plt.show()"
   ]
  },
  {
   "cell_type": "markdown",
   "metadata": {},
   "source": [
    "# Fiting the AR Model"
   ]
  },
  {
   "cell_type": "code",
   "execution_count": 15,
   "metadata": {},
   "outputs": [],
   "source": [
    "from statsmodels.tsa.arima_model import ARMA"
   ]
  },
  {
   "cell_type": "markdown",
   "metadata": {},
   "source": [
    "### Check the Model Performance"
   ]
  },
  {
   "cell_type": "code",
   "execution_count": 16,
   "metadata": {},
   "outputs": [],
   "source": [
    "from scipy.stats.distributions import chi2 \n",
    "\n",
    "# define function to compare the likelihood ratio\n",
    "\n",
    "def LLR_test(model1, model2, DF = 1):\n",
    "    L1 = model1.llf\n",
    "    L2 = model2.llf\n",
    "    LR = 2 *(L2 - L1)\n",
    "    p = chi2.sf(LR, DF).round(3)\n",
    "    \n",
    "    return p "
   ]
  },
  {
   "cell_type": "code",
   "execution_count": 17,
   "metadata": {},
   "outputs": [
    {
     "name": "stdout",
     "output_type": "stream",
     "text": [
      "                              ARMA Model Results                              \n",
      "==============================================================================\n",
      "Dep. Variable:         adjusted_close   No. Observations:                  103\n",
      "Model:                     ARMA(1, 0)   Log Likelihood                -169.300\n",
      "Method:                       css-mle   S.D. of innovations              1.239\n",
      "Date:                Wed, 29 Jul 2020   AIC                            344.600\n",
      "Time:                        09:26:13   BIC                            352.504\n",
      "Sample:                    01-23-2020   HQIC                           347.801\n",
      "                         - 06-18-2020                                         \n",
      "========================================================================================\n",
      "                           coef    std err          z      P>|z|      [0.025      0.975]\n",
      "----------------------------------------------------------------------------------------\n",
      "const                   47.3436      1.709     27.709      0.000      43.995      50.692\n",
      "ar.L1.adjusted_close     0.9362      0.037     25.214      0.000       0.863       1.009\n",
      "                                    Roots                                    \n",
      "=============================================================================\n",
      "                  Real          Imaginary           Modulus         Frequency\n",
      "-----------------------------------------------------------------------------\n",
      "AR.1            1.0682           +0.0000j            1.0682            0.0000\n",
      "-----------------------------------------------------------------------------\n"
     ]
    }
   ],
   "source": [
    "# AR ORDER 1\n",
    "ar1_model = ARMA(train_data.adjusted_close, order = (1, 0))\n",
    "result_ar1 = ar1_model.fit()\n",
    "print(result_ar1.summary())"
   ]
  },
  {
   "cell_type": "code",
   "execution_count": 18,
   "metadata": {},
   "outputs": [
    {
     "name": "stdout",
     "output_type": "stream",
     "text": [
      "                              ARMA Model Results                              \n",
      "==============================================================================\n",
      "Dep. Variable:         adjusted_close   No. Observations:                  103\n",
      "Model:                     ARMA(2, 0)   Log Likelihood                -168.567\n",
      "Method:                       css-mle   S.D. of innovations              1.230\n",
      "Date:                Wed, 29 Jul 2020   AIC                            345.134\n",
      "Time:                        09:26:13   BIC                            355.673\n",
      "Sample:                    01-23-2020   HQIC                           349.402\n",
      "                         - 06-18-2020                                         \n",
      "========================================================================================\n",
      "                           coef    std err          z      P>|z|      [0.025      0.975]\n",
      "----------------------------------------------------------------------------------------\n",
      "const                   47.4943      1.995     23.808      0.000      43.584      51.404\n",
      "ar.L1.adjusted_close     0.8265      0.097      8.494      0.000       0.636       1.017\n",
      "ar.L2.adjusted_close     0.1211      0.100      1.217      0.224      -0.074       0.316\n",
      "                                    Roots                                    \n",
      "=============================================================================\n",
      "                  Real          Imaginary           Modulus         Frequency\n",
      "-----------------------------------------------------------------------------\n",
      "AR.1            1.0487           +0.0000j            1.0487            0.0000\n",
      "AR.2           -7.8727           +0.0000j            7.8727            0.5000\n",
      "-----------------------------------------------------------------------------\n",
      "\n",
      "LLTest P-value = 0.226\n"
     ]
    }
   ],
   "source": [
    "# AR ORDER 2\n",
    "ar2_model = ARMA(train_data.adjusted_close, order = (2, 0))\n",
    "result_ar2 = ar2_model.fit()\n",
    "print(result_ar2.summary())\n",
    "\n",
    "print(\"\\nLLTest P-value = \" + str(LLR_test(result_ar1, result_ar2)))"
   ]
  },
  {
   "cell_type": "code",
   "execution_count": 19,
   "metadata": {},
   "outputs": [
    {
     "name": "stdout",
     "output_type": "stream",
     "text": [
      "                              ARMA Model Results                              \n",
      "==============================================================================\n",
      "Dep. Variable:         adjusted_close   No. Observations:                  103\n",
      "Model:                     ARMA(3, 0)   Log Likelihood                -168.529\n",
      "Method:                       css-mle   S.D. of innovations              1.229\n",
      "Date:                Wed, 29 Jul 2020   AIC                            347.059\n",
      "Time:                        09:26:13   BIC                            360.232\n",
      "Sample:                    01-23-2020   HQIC                           352.394\n",
      "                         - 06-18-2020                                         \n",
      "========================================================================================\n",
      "                           coef    std err          z      P>|z|      [0.025      0.975]\n",
      "----------------------------------------------------------------------------------------\n",
      "const                   47.5238      2.059     23.078      0.000      43.488      51.560\n",
      "ar.L1.adjusted_close     0.8229      0.098      8.383      0.000       0.631       1.015\n",
      "ar.L2.adjusted_close     0.0993      0.127      0.780      0.436      -0.150       0.349\n",
      "ar.L3.adjusted_close     0.0275      0.100      0.274      0.784      -0.169       0.224\n",
      "                                    Roots                                    \n",
      "=============================================================================\n",
      "                  Real          Imaginary           Modulus         Frequency\n",
      "-----------------------------------------------------------------------------\n",
      "AR.1            1.0452           -0.0000j            1.0452           -0.0000\n",
      "AR.2           -2.3279           -5.4190j            5.8979           -0.3146\n",
      "AR.3           -2.3279           +5.4190j            5.8979            0.3146\n",
      "-----------------------------------------------------------------------------\n",
      "\n",
      "LLTest P-value = 0.784\n"
     ]
    }
   ],
   "source": [
    "# AR ORDER 3\n",
    "ar3_model = ARMA(train_data.adjusted_close, order = (3, 0))\n",
    "result_ar3 = ar3_model.fit()\n",
    "print(result_ar3.summary())\n",
    "\n",
    "print(\"\\nLLTest P-value = \" + str(LLR_test(result_ar2, result_ar3)))"
   ]
  },
  {
   "cell_type": "code",
   "execution_count": 20,
   "metadata": {},
   "outputs": [
    {
     "name": "stdout",
     "output_type": "stream",
     "text": [
      "                              ARMA Model Results                              \n",
      "==============================================================================\n",
      "Dep. Variable:         adjusted_close   No. Observations:                  103\n",
      "Model:                     ARMA(5, 0)   Log Likelihood                -167.189\n",
      "Method:                       css-mle   S.D. of innovations              1.213\n",
      "Date:                Wed, 29 Jul 2020   AIC                            348.379\n",
      "Time:                        09:26:13   BIC                            366.822\n",
      "Sample:                    01-23-2020   HQIC                           355.849\n",
      "                         - 06-18-2020                                         \n",
      "========================================================================================\n",
      "                           coef    std err          z      P>|z|      [0.025      0.975]\n",
      "----------------------------------------------------------------------------------------\n",
      "const                   47.6011      2.223     21.410      0.000      43.244      51.959\n",
      "ar.L1.adjusted_close     0.8357      0.097      8.609      0.000       0.645       1.026\n",
      "ar.L2.adjusted_close     0.0952      0.127      0.752      0.452      -0.153       0.343\n",
      "ar.L3.adjusted_close     0.0730      0.127      0.576      0.565      -0.175       0.321\n",
      "ar.L4.adjusted_close    -0.1912      0.126     -1.518      0.129      -0.438       0.056\n",
      "ar.L5.adjusted_close     0.1427      0.098      1.451      0.147      -0.050       0.335\n",
      "                                    Roots                                    \n",
      "=============================================================================\n",
      "                  Real          Imaginary           Modulus         Frequency\n",
      "-----------------------------------------------------------------------------\n",
      "AR.1           -1.0510           -1.0732j            1.5021           -0.3733\n",
      "AR.2           -1.0510           +1.0732j            1.5021            0.3733\n",
      "AR.3            1.0367           -0.0000j            1.0367           -0.0000\n",
      "AR.4            1.2026           -1.2450j            1.7310           -0.1278\n",
      "AR.5            1.2026           +1.2450j            1.7310            0.1278\n",
      "-----------------------------------------------------------------------------\n",
      "\n",
      "LLTest P-value = 0.262\n"
     ]
    }
   ],
   "source": [
    "# AR ORDER 5\n",
    "ar5_model = ARMA(train_data.adjusted_close, order = (5, 0))\n",
    "result_ar5 = ar5_model.fit()\n",
    "print(result_ar5.summary())\n",
    "\n",
    "print(\"\\nLLTest P-value = \" + str(LLR_test(result_ar3, result_ar5, DF = 2)))"
   ]
  },
  {
   "cell_type": "code",
   "execution_count": 21,
   "metadata": {},
   "outputs": [
    {
     "name": "stdout",
     "output_type": "stream",
     "text": [
      "                              ARMA Model Results                              \n",
      "==============================================================================\n",
      "Dep. Variable:         adjusted_close   No. Observations:                  103\n",
      "Model:                    ARMA(10, 0)   Log Likelihood                -165.192\n",
      "Method:                       css-mle   S.D. of innovations              1.188\n",
      "Date:                Wed, 29 Jul 2020   AIC                            354.384\n",
      "Time:                        09:26:15   BIC                            386.001\n",
      "Sample:                    01-23-2020   HQIC                           367.190\n",
      "                         - 06-18-2020                                         \n",
      "=========================================================================================\n",
      "                            coef    std err          z      P>|z|      [0.025      0.975]\n",
      "-----------------------------------------------------------------------------------------\n",
      "const                    47.2779      1.636     28.900      0.000      44.072      50.484\n",
      "ar.L1.adjusted_close      0.8399      0.097      8.651      0.000       0.650       1.030\n",
      "ar.L2.adjusted_close      0.0938      0.128      0.733      0.463      -0.157       0.344\n",
      "ar.L3.adjusted_close      0.0628      0.128      0.491      0.624      -0.188       0.314\n",
      "ar.L4.adjusted_close     -0.1908      0.128     -1.496      0.135      -0.441       0.059\n",
      "ar.L5.adjusted_close      0.2364      0.129      1.834      0.067      -0.016       0.489\n",
      "ar.L6.adjusted_close      0.0090      0.130      0.069      0.945      -0.246       0.264\n",
      "ar.L7.adjusted_close     -0.0349      0.129     -0.271      0.786      -0.287       0.217\n",
      "ar.L8.adjusted_close     -0.0942      0.129     -0.732      0.464      -0.346       0.158\n",
      "ar.L9.adjusted_close      0.1473      0.128      1.153      0.249      -0.103       0.397\n",
      "ar.L10.adjusted_close    -0.1364      0.101     -1.346      0.178      -0.335       0.062\n",
      "                                    Roots                                     \n",
      "==============================================================================\n",
      "                   Real          Imaginary           Modulus         Frequency\n",
      "------------------------------------------------------------------------------\n",
      "AR.1            -1.1143           -0.4871j            1.2161           -0.4344\n",
      "AR.2            -1.1143           +0.4871j            1.2161            0.4344\n",
      "AR.3            -0.6342           -1.0022j            1.1860           -0.3398\n",
      "AR.4            -0.6342           +1.0022j            1.1860            0.3398\n",
      "AR.5             1.0924           -0.0799j            1.0953           -0.0116\n",
      "AR.6             1.0924           +0.0799j            1.0953            0.0116\n",
      "AR.7             0.8736           -0.9337j            1.2786           -0.1303\n",
      "AR.8             0.8736           +0.9337j            1.2786            0.1303\n",
      "AR.9             0.3222           -1.3009j            1.3402           -0.2114\n",
      "AR.10            0.3222           +1.3009j            1.3402            0.2114\n",
      "------------------------------------------------------------------------------\n",
      "\n",
      "LLTest P-value = 0.55\n"
     ]
    }
   ],
   "source": [
    "# AR ORDER 10\n",
    "ar10_model = ARMA(train_data.adjusted_close, order = (10, 0))\n",
    "result_ar10 = ar10_model.fit()\n",
    "print(result_ar10.summary())\n",
    "\n",
    "print(\"\\nLLTest P-value = \" + str(LLR_test(result_ar5, result_ar10, DF = 5)))"
   ]
  },
  {
   "cell_type": "code",
   "execution_count": 22,
   "metadata": {},
   "outputs": [
    {
     "name": "stdout",
     "output_type": "stream",
     "text": [
      "                              ARMA Model Results                              \n",
      "==============================================================================\n",
      "Dep. Variable:         adjusted_close   No. Observations:                  103\n",
      "Model:                    ARMA(15, 0)   Log Likelihood                -162.832\n",
      "Method:                       css-mle   S.D. of innovations              1.157\n",
      "Date:                Wed, 29 Jul 2020   AIC                            359.664\n",
      "Time:                        09:26:26   BIC                            404.455\n",
      "Sample:                    01-23-2020   HQIC                           377.806\n",
      "                         - 06-18-2020                                         \n",
      "=========================================================================================\n",
      "                            coef    std err          z      P>|z|      [0.025      0.975]\n",
      "-----------------------------------------------------------------------------------------\n",
      "const                    47.5720      2.124     22.399      0.000      43.409      51.735\n",
      "ar.L1.adjusted_close      0.8284      0.098      8.474      0.000       0.637       1.020\n",
      "ar.L2.adjusted_close      0.1166      0.128      0.911      0.362      -0.134       0.368\n",
      "ar.L3.adjusted_close      0.0896      0.128      0.698      0.485      -0.162       0.341\n",
      "ar.L4.adjusted_close     -0.1832      0.128     -1.433      0.152      -0.434       0.067\n",
      "ar.L5.adjusted_close      0.2136      0.130      1.646      0.100      -0.041       0.468\n",
      "ar.L6.adjusted_close     -0.0062      0.129     -0.048      0.962      -0.258       0.246\n",
      "ar.L7.adjusted_close     -0.0469      0.129     -0.363      0.716      -0.300       0.206\n",
      "ar.L8.adjusted_close     -0.1004      0.129     -0.779      0.436      -0.353       0.152\n",
      "ar.L9.adjusted_close      0.1390      0.129      1.076      0.282      -0.114       0.392\n",
      "ar.L10.adjusted_close    -0.2415      0.129     -1.866      0.062      -0.495       0.012\n",
      "ar.L11.adjusted_close    -0.0064      0.131     -0.049      0.961      -0.264       0.251\n",
      "ar.L12.adjusted_close     0.0710      0.130      0.545      0.586      -0.184       0.326\n",
      "ar.L13.adjusted_close     0.1085      0.129      0.839      0.402      -0.145       0.362\n",
      "ar.L14.adjusted_close     0.0618      0.129      0.481      0.630      -0.190       0.314\n",
      "ar.L15.adjusted_close    -0.0911      0.103     -0.884      0.377      -0.293       0.111\n",
      "                                    Roots                                     \n",
      "==============================================================================\n",
      "                   Real          Imaginary           Modulus         Frequency\n",
      "------------------------------------------------------------------------------\n",
      "AR.1            -1.0341           -0.4636j            1.1333           -0.4329\n",
      "AR.2            -1.0341           +0.4636j            1.1333            0.4329\n",
      "AR.3            -1.3783           -0.0000j            1.3783           -0.5000\n",
      "AR.4            -0.6879           -0.9236j            1.1516           -0.3519\n",
      "AR.5            -0.6879           +0.9236j            1.1516            0.3519\n",
      "AR.6            -0.4517           -1.1837j            1.2670           -0.3080\n",
      "AR.7            -0.4517           +1.1837j            1.2670            0.3080\n",
      "AR.8             0.1982           -1.1005j            1.1182           -0.2216\n",
      "AR.9             0.1982           +1.1005j            1.1182            0.2216\n",
      "AR.10            0.6683           -0.8484j            1.0800           -0.1438\n",
      "AR.11            0.6683           +0.8484j            1.0800            0.1438\n",
      "AR.12            1.0444           -0.0000j            1.0444           -0.0000\n",
      "AR.13            1.1123           -0.3559j            1.1678           -0.0493\n",
      "AR.14            1.1123           +0.3559j            1.1678            0.0493\n",
      "AR.15            1.4029           -0.0000j            1.4029           -0.0000\n",
      "------------------------------------------------------------------------------\n",
      "n\\LLTest P-value = 0.451\n"
     ]
    }
   ],
   "source": [
    "# AR ORDER 15\n",
    "ar15_model = ARMA(train_data.adjusted_close, order = (15, 0))\n",
    "result_ar15 = ar15_model.fit()\n",
    "print(result_ar15.summary())\n",
    "\n",
    "print(\"n\\LLTest P-value = \" + str(LLR_test(result_ar10, result_ar15, DF = 5)))"
   ]
  },
  {
   "cell_type": "markdown",
   "metadata": {},
   "source": [
    "# MA Model"
   ]
  },
  {
   "cell_type": "code",
   "execution_count": 23,
   "metadata": {},
   "outputs": [
    {
     "data": {
      "text/html": [
       "<div>\n",
       "<style scoped>\n",
       "    .dataframe tbody tr th:only-of-type {\n",
       "        vertical-align: middle;\n",
       "    }\n",
       "\n",
       "    .dataframe tbody tr th {\n",
       "        vertical-align: top;\n",
       "    }\n",
       "\n",
       "    .dataframe thead th {\n",
       "        text-align: right;\n",
       "    }\n",
       "</style>\n",
       "<table border=\"1\" class=\"dataframe\">\n",
       "  <thead>\n",
       "    <tr style=\"text-align: right;\">\n",
       "      <th></th>\n",
       "      <th>confirmed</th>\n",
       "      <th>death</th>\n",
       "      <th>recovered</th>\n",
       "      <th>High</th>\n",
       "      <th>Low</th>\n",
       "      <th>Open</th>\n",
       "      <th>Close</th>\n",
       "      <th>Volume</th>\n",
       "      <th>adjusted_close</th>\n",
       "      <th>first_diff_adj_stock</th>\n",
       "    </tr>\n",
       "    <tr>\n",
       "      <th>Date</th>\n",
       "      <th></th>\n",
       "      <th></th>\n",
       "      <th></th>\n",
       "      <th></th>\n",
       "      <th></th>\n",
       "      <th></th>\n",
       "      <th></th>\n",
       "      <th></th>\n",
       "      <th></th>\n",
       "      <th></th>\n",
       "    </tr>\n",
       "  </thead>\n",
       "  <tbody>\n",
       "    <tr>\n",
       "      <th>2020-01-23</th>\n",
       "      <td>1</td>\n",
       "      <td>0</td>\n",
       "      <td>0</td>\n",
       "      <td>57.980000</td>\n",
       "      <td>57.020000</td>\n",
       "      <td>57.599998</td>\n",
       "      <td>57.770000</td>\n",
       "      <td>227900.0</td>\n",
       "      <td>54.500458</td>\n",
       "      <td>-0.386795</td>\n",
       "    </tr>\n",
       "    <tr>\n",
       "      <th>2020-01-24</th>\n",
       "      <td>2</td>\n",
       "      <td>0</td>\n",
       "      <td>0</td>\n",
       "      <td>57.799999</td>\n",
       "      <td>56.840000</td>\n",
       "      <td>57.730000</td>\n",
       "      <td>57.160000</td>\n",
       "      <td>146200.0</td>\n",
       "      <td>53.924980</td>\n",
       "      <td>-0.575478</td>\n",
       "    </tr>\n",
       "    <tr>\n",
       "      <th>2020-01-27</th>\n",
       "      <td>5</td>\n",
       "      <td>0</td>\n",
       "      <td>0</td>\n",
       "      <td>55.689999</td>\n",
       "      <td>54.820000</td>\n",
       "      <td>55.139999</td>\n",
       "      <td>55.279999</td>\n",
       "      <td>230600.0</td>\n",
       "      <td>52.151379</td>\n",
       "      <td>-1.773602</td>\n",
       "    </tr>\n",
       "    <tr>\n",
       "      <th>2020-01-28</th>\n",
       "      <td>5</td>\n",
       "      <td>0</td>\n",
       "      <td>0</td>\n",
       "      <td>56.090000</td>\n",
       "      <td>55.160000</td>\n",
       "      <td>55.490002</td>\n",
       "      <td>55.500000</td>\n",
       "      <td>174400.0</td>\n",
       "      <td>52.358929</td>\n",
       "      <td>0.207550</td>\n",
       "    </tr>\n",
       "    <tr>\n",
       "      <th>2020-01-29</th>\n",
       "      <td>5</td>\n",
       "      <td>0</td>\n",
       "      <td>0</td>\n",
       "      <td>55.900002</td>\n",
       "      <td>54.939999</td>\n",
       "      <td>55.799999</td>\n",
       "      <td>55.230000</td>\n",
       "      <td>214500.0</td>\n",
       "      <td>52.104210</td>\n",
       "      <td>-0.254719</td>\n",
       "    </tr>\n",
       "  </tbody>\n",
       "</table>\n",
       "</div>"
      ],
      "text/plain": [
       "            confirmed  death  recovered       High        Low       Open  \\\n",
       "Date                                                                       \n",
       "2020-01-23          1      0          0  57.980000  57.020000  57.599998   \n",
       "2020-01-24          2      0          0  57.799999  56.840000  57.730000   \n",
       "2020-01-27          5      0          0  55.689999  54.820000  55.139999   \n",
       "2020-01-28          5      0          0  56.090000  55.160000  55.490002   \n",
       "2020-01-29          5      0          0  55.900002  54.939999  55.799999   \n",
       "\n",
       "                Close    Volume  adjusted_close  first_diff_adj_stock  \n",
       "Date                                                                   \n",
       "2020-01-23  57.770000  227900.0       54.500458             -0.386795  \n",
       "2020-01-24  57.160000  146200.0       53.924980             -0.575478  \n",
       "2020-01-27  55.279999  230600.0       52.151379             -1.773602  \n",
       "2020-01-28  55.500000  174400.0       52.358929              0.207550  \n",
       "2020-01-29  55.230000  214500.0       52.104210             -0.254719  "
      ]
     },
     "execution_count": 23,
     "metadata": {},
     "output_type": "execute_result"
    }
   ],
   "source": [
    "train_data.head()"
   ]
  },
  {
   "cell_type": "code",
   "execution_count": 24,
   "metadata": {},
   "outputs": [
    {
     "data": {
      "text/plain": [
       "<Figure size 864x576 with 0 Axes>"
      ]
     },
     "metadata": {},
     "output_type": "display_data"
    },
    {
     "data": {
      "image/png": "[encoded data removed]",
      "text/plain": [
       "<Figure size 432x288 with 1 Axes>"
      ]
     },
     "metadata": {},
     "output_type": "display_data"
    }
   ],
   "source": [
    "# ACF of differenced data\n",
    "\n",
    "plt.figure(figsize = (12, 8))\n",
    "plot_acf(train_data.adjusted_close, lags = 40, zero = False)\n",
    "plt.show()"
   ]
  },
  {
   "cell_type": "code",
   "execution_count": 25,
   "metadata": {},
   "outputs": [
    {
     "name": "stdout",
     "output_type": "stream",
     "text": [
      "                              ARMA Model Results                              \n",
      "==============================================================================\n",
      "Dep. Variable:         adjusted_close   No. Observations:                  103\n",
      "Model:                     ARMA(0, 1)   Log Likelihood                -218.362\n",
      "Method:                       css-mle   S.D. of innovations              2.006\n",
      "Date:                Wed, 29 Jul 2020   AIC                            442.725\n",
      "Time:                        09:26:31   BIC                            450.629\n",
      "Sample:                    01-23-2020   HQIC                           445.926\n",
      "                         - 06-18-2020                                         \n",
      "========================================================================================\n",
      "                           coef    std err          z      P>|z|      [0.025      0.975]\n",
      "----------------------------------------------------------------------------------------\n",
      "const                   46.8079      0.354    132.343      0.000      46.115      47.501\n",
      "ma.L1.adjusted_close     0.7970      0.048     16.528      0.000       0.702       0.892\n",
      "                                    Roots                                    \n",
      "=============================================================================\n",
      "                  Real          Imaginary           Modulus         Frequency\n",
      "-----------------------------------------------------------------------------\n",
      "MA.1           -1.2547           +0.0000j            1.2547            0.5000\n",
      "-----------------------------------------------------------------------------\n"
     ]
    }
   ],
   "source": [
    "# MA ORDER 1\n",
    "ma1_model = ARMA(train_data.adjusted_close, order = (0,1))\n",
    "result_ma1 = ma1_model.fit()\n",
    "print(result_ma1.summary())"
   ]
  },
  {
   "cell_type": "code",
   "execution_count": 26,
   "metadata": {},
   "outputs": [
    {
     "name": "stdout",
     "output_type": "stream",
     "text": [
      "                              ARMA Model Results                              \n",
      "==============================================================================\n",
      "Dep. Variable:         adjusted_close   No. Observations:                  103\n",
      "Model:                     ARMA(0, 2)   Log Likelihood                -203.602\n",
      "Method:                       css-mle   S.D. of innovations              1.738\n",
      "Date:                Wed, 29 Jul 2020   AIC                            415.205\n",
      "Time:                        09:26:31   BIC                            425.744\n",
      "Sample:                    01-23-2020   HQIC                           419.474\n",
      "                         - 06-18-2020                                         \n",
      "========================================================================================\n",
      "                           coef    std err          z      P>|z|      [0.025      0.975]\n",
      "----------------------------------------------------------------------------------------\n",
      "const                   46.8213      0.409    114.414      0.000      46.019      47.623\n",
      "ma.L1.adjusted_close     0.9490      0.096      9.838      0.000       0.760       1.138\n",
      "ma.L2.adjusted_close     0.4583      0.070      6.587      0.000       0.322       0.595\n",
      "                                    Roots                                    \n",
      "=============================================================================\n",
      "                  Real          Imaginary           Modulus         Frequency\n",
      "-----------------------------------------------------------------------------\n",
      "MA.1           -1.0354           -1.0535j            1.4772           -0.3736\n",
      "MA.2           -1.0354           +1.0535j            1.4772            0.3736\n",
      "-----------------------------------------------------------------------------\n",
      "n\\LLTest P-value = 0.0\n"
     ]
    }
   ],
   "source": [
    "# MA ORDER 2\n",
    "ma2_model = ARMA(train_data.adjusted_close, order = (0,2))\n",
    "result_ma2 = ma2_model.fit()\n",
    "print(result_ma2.summary())\n",
    "\n",
    "print(\"n\\LLTest P-value = \" + str(LLR_test(result_ma1, result_ma2)))"
   ]
  },
  {
   "cell_type": "code",
   "execution_count": 27,
   "metadata": {},
   "outputs": [
    {
     "name": "stdout",
     "output_type": "stream",
     "text": [
      "                              ARMA Model Results                              \n",
      "==============================================================================\n",
      "Dep. Variable:         adjusted_close   No. Observations:                  103\n",
      "Model:                     ARMA(0, 3)   Log Likelihood                -185.096\n",
      "Method:                       css-mle   S.D. of innovations              1.446\n",
      "Date:                Wed, 29 Jul 2020   AIC                            380.191\n",
      "Time:                        09:26:32   BIC                            393.365\n",
      "Sample:                    01-23-2020   HQIC                           385.527\n",
      "                         - 06-18-2020                                         \n",
      "========================================================================================\n",
      "                           coef    std err          z      P>|z|      [0.025      0.975]\n",
      "----------------------------------------------------------------------------------------\n",
      "const                   46.8582      0.478     98.015      0.000      45.921      47.795\n",
      "ma.L1.adjusted_close     0.9852      0.083     11.807      0.000       0.822       1.149\n",
      "ma.L2.adjusted_close     0.8455      0.090      9.361      0.000       0.668       1.023\n",
      "ma.L3.adjusted_close     0.5656      0.071      8.008      0.000       0.427       0.704\n",
      "                                    Roots                                    \n",
      "=============================================================================\n",
      "                  Real          Imaginary           Modulus         Frequency\n",
      "-----------------------------------------------------------------------------\n",
      "MA.1           -1.2400           -0.0000j            1.2400           -0.5000\n",
      "MA.2           -0.1275           -1.1873j            1.1941           -0.2670\n",
      "MA.3           -0.1275           +1.1873j            1.1941            0.2670\n",
      "-----------------------------------------------------------------------------\n",
      "n\\LLTest P-value = 0.0\n"
     ]
    }
   ],
   "source": [
    "# MA ORDER 3\n",
    "ma3_model = ARMA(train_data.adjusted_close, order = (0,3))\n",
    "result_ma3 = ma3_model.fit()\n",
    "print(result_ma3.summary())\n",
    "\n",
    "print(\"n\\LLTest P-value = \" + str(LLR_test(result_ma2, result_ma3)))"
   ]
  },
  {
   "cell_type": "code",
   "execution_count": 28,
   "metadata": {},
   "outputs": [
    {
     "name": "stdout",
     "output_type": "stream",
     "text": [
      "                              ARMA Model Results                              \n",
      "==============================================================================\n",
      "Dep. Variable:         adjusted_close   No. Observations:                  103\n",
      "Model:                     ARMA(0, 4)   Log Likelihood                -182.261\n",
      "Method:                       css-mle   S.D. of innovations              1.408\n",
      "Date:                Wed, 29 Jul 2020   AIC                            376.522\n",
      "Time:                        09:26:32   BIC                            392.331\n",
      "Sample:                    01-23-2020   HQIC                           382.925\n",
      "                         - 06-18-2020                                         \n",
      "========================================================================================\n",
      "                           coef    std err          z      P>|z|      [0.025      0.975]\n",
      "----------------------------------------------------------------------------------------\n",
      "const                   46.8705      0.534     87.750      0.000      45.824      47.917\n",
      "ma.L1.adjusted_close     1.0399      0.095     10.925      0.000       0.853       1.226\n",
      "ma.L2.adjusted_close     0.9427      0.121      7.781      0.000       0.705       1.180\n",
      "ma.L3.adjusted_close     0.7141      0.104      6.857      0.000       0.510       0.918\n",
      "ma.L4.adjusted_close     0.2102      0.088      2.387      0.017       0.038       0.383\n",
      "                                    Roots                                    \n",
      "=============================================================================\n",
      "                  Real          Imaginary           Modulus         Frequency\n",
      "-----------------------------------------------------------------------------\n",
      "MA.1            0.0294           -1.2187j            1.2190           -0.2462\n",
      "MA.2            0.0294           +1.2187j            1.2190            0.2462\n",
      "MA.3           -1.7276           -0.4651j            1.7891           -0.4581\n",
      "MA.4           -1.7276           +0.4651j            1.7891            0.4581\n",
      "-----------------------------------------------------------------------------\n",
      "n\\LLTest P-value = 0.017\n"
     ]
    }
   ],
   "source": [
    "# MA ORDER 4\n",
    "ma4_model = ARMA(train_data.adjusted_close, order = (0,4))\n",
    "result_ma4 = ma4_model.fit()\n",
    "print(result_ma4.summary())\n",
    "\n",
    "print(\"n\\LLTest P-value = \" + str(LLR_test(result_ma3, result_ma4)))"
   ]
  },
  {
   "cell_type": "code",
   "execution_count": 29,
   "metadata": {},
   "outputs": [
    {
     "name": "stdout",
     "output_type": "stream",
     "text": [
      "                              ARMA Model Results                              \n",
      "==============================================================================\n",
      "Dep. Variable:         adjusted_close   No. Observations:                  103\n",
      "Model:                     ARMA(0, 5)   Log Likelihood                -178.626\n",
      "Method:                       css-mle   S.D. of innovations              1.359\n",
      "Date:                Wed, 29 Jul 2020   AIC                            371.252\n",
      "Time:                        09:26:32   BIC                            389.695\n",
      "Sample:                    01-23-2020   HQIC                           378.722\n",
      "                         - 06-18-2020                                         \n",
      "========================================================================================\n",
      "                           coef    std err          z      P>|z|      [0.025      0.975]\n",
      "----------------------------------------------------------------------------------------\n",
      "const                   46.8967      0.579     81.050      0.000      45.763      48.031\n",
      "ma.L1.adjusted_close     0.9289      0.102      9.112      0.000       0.729       1.129\n",
      "ma.L2.adjusted_close     0.8785      0.117      7.484      0.000       0.648       1.109\n",
      "ma.L3.adjusted_close     0.8279      0.118      6.996      0.000       0.596       1.060\n",
      "ma.L4.adjusted_close     0.4783      0.147      3.256      0.001       0.190       0.766\n",
      "ma.L5.adjusted_close     0.2877      0.090      3.188      0.001       0.111       0.465\n",
      "                                    Roots                                    \n",
      "=============================================================================\n",
      "                  Real          Imaginary           Modulus         Frequency\n",
      "-----------------------------------------------------------------------------\n",
      "MA.1            0.4256           -1.1387j            1.2157           -0.1931\n",
      "MA.2            0.4256           +1.1387j            1.2157            0.1931\n",
      "MA.3           -1.1979           -0.0000j            1.1979           -0.5000\n",
      "MA.4           -0.6580           -1.2372j            1.4013           -0.3278\n",
      "MA.5           -0.6580           +1.2372j            1.4013            0.3278\n",
      "-----------------------------------------------------------------------------\n",
      "n\\LLTest P-value = 0.007\n"
     ]
    }
   ],
   "source": [
    "# MA ORDER 5\n",
    "ma5_model = ARMA(train_data.adjusted_close, order = (0,5))\n",
    "result_ma5 = ma5_model.fit()\n",
    "print(result_ma5.summary())\n",
    "\n",
    "print(\"n\\LLTest P-value = \" + str(LLR_test(result_ma4, result_ma5)))"
   ]
  },
  {
   "cell_type": "code",
   "execution_count": 30,
   "metadata": {},
   "outputs": [
    {
     "name": "stdout",
     "output_type": "stream",
     "text": [
      "                              ARMA Model Results                              \n",
      "==============================================================================\n",
      "Dep. Variable:         adjusted_close   No. Observations:                  103\n",
      "Model:                     ARMA(0, 6)   Log Likelihood                -175.289\n",
      "Method:                       css-mle   S.D. of innovations              1.315\n",
      "Date:                Wed, 29 Jul 2020   AIC                            366.578\n",
      "Time:                        09:26:32   BIC                            387.656\n",
      "Sample:                    01-23-2020   HQIC                           375.116\n",
      "                         - 06-18-2020                                         \n",
      "========================================================================================\n",
      "                           coef    std err          z      P>|z|      [0.025      0.975]\n",
      "----------------------------------------------------------------------------------------\n",
      "const                   46.9150      0.638     73.537      0.000      45.665      48.165\n",
      "ma.L1.adjusted_close     0.9540      0.098      9.708      0.000       0.761       1.147\n",
      "ma.L2.adjusted_close     0.9546      0.137      6.990      0.000       0.687       1.222\n",
      "ma.L3.adjusted_close     0.9313      0.154      6.034      0.000       0.629       1.234\n",
      "ma.L4.adjusted_close     0.5408      0.144      3.762      0.000       0.259       0.823\n",
      "ma.L5.adjusted_close     0.4368      0.104      4.187      0.000       0.232       0.641\n",
      "ma.L6.adjusted_close     0.2137      0.080      2.685      0.007       0.058       0.370\n",
      "                                    Roots                                    \n",
      "=============================================================================\n",
      "                  Real          Imaginary           Modulus         Frequency\n",
      "-----------------------------------------------------------------------------\n",
      "MA.1            0.6024           -1.0997j            1.2539           -0.1702\n",
      "MA.2            0.6024           +1.0997j            1.2539            0.1702\n",
      "MA.3           -0.2531           -1.1988j            1.2253           -0.2831\n",
      "MA.4           -0.2531           +1.1988j            1.2253            0.2831\n",
      "MA.5           -1.3712           -0.3203j            1.4081           -0.4635\n",
      "MA.6           -1.3712           +0.3203j            1.4081            0.4635\n",
      "-----------------------------------------------------------------------------\n",
      "n\\LLTest P-value = 0.01\n"
     ]
    }
   ],
   "source": [
    "# MA ORDER 6\n",
    "ma6_model = ARMA(train_data.adjusted_close, order = (0,6))\n",
    "result_ma6 = ma6_model.fit()\n",
    "print(result_ma6.summary())\n",
    "\n",
    "print(\"n\\LLTest P-value = \" + str(LLR_test(result_ma5, result_ma6)))"
   ]
  },
  {
   "cell_type": "code",
   "execution_count": 31,
   "metadata": {},
   "outputs": [
    {
     "name": "stdout",
     "output_type": "stream",
     "text": [
      "                              ARMA Model Results                              \n",
      "==============================================================================\n",
      "Dep. Variable:         adjusted_close   No. Observations:                  103\n",
      "Model:                     ARMA(0, 7)   Log Likelihood                -173.431\n",
      "Method:                       css-mle   S.D. of innovations              1.291\n",
      "Date:                Wed, 29 Jul 2020   AIC                            364.862\n",
      "Time:                        09:26:33   BIC                            388.575\n",
      "Sample:                    01-23-2020   HQIC                           374.467\n",
      "                         - 06-18-2020                                         \n",
      "========================================================================================\n",
      "                           coef    std err          z      P>|z|      [0.025      0.975]\n",
      "----------------------------------------------------------------------------------------\n",
      "const                   46.9349      0.672     69.894      0.000      45.619      48.251\n",
      "ma.L1.adjusted_close     0.9556      0.101      9.507      0.000       0.759       1.153\n",
      "ma.L2.adjusted_close     0.9140      0.146      6.249      0.000       0.627       1.201\n",
      "ma.L3.adjusted_close     0.8558      0.166      5.148      0.000       0.530       1.182\n",
      "ma.L4.adjusted_close     0.5697      0.148      3.838      0.000       0.279       0.861\n",
      "ma.L5.adjusted_close     0.5178      0.119      4.346      0.000       0.284       0.751\n",
      "ma.L6.adjusted_close     0.3950      0.116      3.405      0.001       0.168       0.622\n",
      "ma.L7.adjusted_close     0.2000      0.096      2.076      0.038       0.011       0.389\n",
      "                                    Roots                                    \n",
      "=============================================================================\n",
      "                  Real          Imaginary           Modulus         Frequency\n",
      "-----------------------------------------------------------------------------\n",
      "MA.1            0.7785           -0.9376j            1.2186           -0.1397\n",
      "MA.2            0.7785           +0.9376j            1.2186            0.1397\n",
      "MA.3           -0.0926           -1.1626j            1.1663           -0.2626\n",
      "MA.4           -0.0926           +1.1626j            1.1663            0.2626\n",
      "MA.5           -1.2204           -0.0000j            1.2204           -0.5000\n",
      "MA.6           -1.0631           -0.9475j            1.4241           -0.3841\n",
      "MA.7           -1.0631           +0.9475j            1.4241            0.3841\n",
      "-----------------------------------------------------------------------------\n",
      "n\\LLTest P-value = 0.054\n"
     ]
    }
   ],
   "source": [
    "# MA ORDER 7\n",
    "ma7_model = ARMA(train_data.adjusted_close, order = (0,7))\n",
    "result_ma7 = ma7_model.fit()\n",
    "print(result_ma7.summary())\n",
    "\n",
    "print(\"n\\LLTest P-value = \" + str(LLR_test(result_ma6, result_ma7)))"
   ]
  },
  {
   "cell_type": "code",
   "execution_count": 32,
   "metadata": {},
   "outputs": [
    {
     "name": "stdout",
     "output_type": "stream",
     "text": [
      "                              ARMA Model Results                              \n",
      "==============================================================================\n",
      "Dep. Variable:         adjusted_close   No. Observations:                  103\n",
      "Model:                     ARMA(0, 8)   Log Likelihood                -172.758\n",
      "Method:                       css-mle   S.D. of innovations              1.283\n",
      "Date:                Wed, 29 Jul 2020   AIC                            365.515\n",
      "Time:                        09:26:33   BIC                            391.862\n",
      "Sample:                    01-23-2020   HQIC                           376.187\n",
      "                         - 06-18-2020                                         \n",
      "========================================================================================\n",
      "                           coef    std err          z      P>|z|      [0.025      0.975]\n",
      "----------------------------------------------------------------------------------------\n",
      "const                   46.9588      0.689     68.185      0.000      45.609      48.309\n",
      "ma.L1.adjusted_close     0.9109      0.117      7.796      0.000       0.682       1.140\n",
      "ma.L2.adjusted_close     0.8484      0.180      4.705      0.000       0.495       1.202\n",
      "ma.L3.adjusted_close     0.8011      0.205      3.908      0.000       0.399       1.203\n",
      "ma.L4.adjusted_close     0.5108      0.189      2.704      0.007       0.141       0.881\n",
      "ma.L5.adjusted_close     0.5615      0.121      4.659      0.000       0.325       0.798\n",
      "ma.L6.adjusted_close     0.4876      0.143      3.411      0.001       0.207       0.768\n",
      "ma.L7.adjusted_close     0.3345      0.182      1.843      0.065      -0.021       0.690\n",
      "ma.L8.adjusted_close     0.1409      0.140      1.004      0.315      -0.134       0.416\n",
      "                                    Roots                                    \n",
      "=============================================================================\n",
      "                  Real          Imaginary           Modulus         Frequency\n",
      "-----------------------------------------------------------------------------\n",
      "MA.1            0.8453           -0.8135j            1.1732           -0.1219\n",
      "MA.2            0.8453           +0.8135j            1.1732            0.1219\n",
      "MA.3            0.0081           -1.1777j            1.1777           -0.2489\n",
      "MA.4            0.0081           +1.1777j            1.1777            0.2489\n",
      "MA.5           -0.7085           -1.2343j            1.4232           -0.3329\n",
      "MA.6           -0.7085           +1.2343j            1.4232            0.3329\n",
      "MA.7           -1.3322           -0.2471j            1.3549           -0.4708\n",
      "MA.8           -1.3322           +0.2471j            1.3549            0.4708\n",
      "-----------------------------------------------------------------------------\n",
      "n\\LLTest P-value = 0.246\n"
     ]
    }
   ],
   "source": [
    "# MA ORDER 8\n",
    "ma8_model = ARMA(train_data.adjusted_close, order = (0,8))\n",
    "result_ma8 = ma8_model.fit()\n",
    "print(result_ma8.summary())\n",
    "\n",
    "print(\"n\\LLTest P-value = \" + str(LLR_test(result_ma7, result_ma8)))"
   ]
  },
  {
   "cell_type": "code",
   "execution_count": 33,
   "metadata": {},
   "outputs": [
    {
     "name": "stdout",
     "output_type": "stream",
     "text": [
      "                              ARMA Model Results                              \n",
      "==============================================================================\n",
      "Dep. Variable:         adjusted_close   No. Observations:                  103\n",
      "Model:                     ARMA(0, 9)   Log Likelihood                -166.541\n",
      "Method:                       css-mle   S.D. of innovations              1.161\n",
      "Date:                Wed, 29 Jul 2020   AIC                            355.082\n",
      "Time:                        09:26:44   BIC                            384.064\n",
      "Sample:                    01-23-2020   HQIC                           366.821\n",
      "                         - 06-18-2020                                         \n",
      "========================================================================================\n",
      "                           coef    std err          z      P>|z|      [0.025      0.975]\n",
      "----------------------------------------------------------------------------------------\n",
      "const                   47.0484      0.754     62.381      0.000      45.570      48.527\n",
      "ma.L1.adjusted_close     0.6316      0.102      6.204      0.000       0.432       0.831\n",
      "ma.L2.adjusted_close     0.6089      0.111      5.493      0.000       0.392       0.826\n",
      "ma.L3.adjusted_close     0.7569      0.117      6.496      0.000       0.528       0.985\n",
      "ma.L4.adjusted_close     0.6596      0.097      6.781      0.000       0.469       0.850\n",
      "ma.L5.adjusted_close     0.5993      0.090      6.646      0.000       0.423       0.776\n",
      "ma.L6.adjusted_close     0.5958      0.131      4.563      0.000       0.340       0.852\n",
      "ma.L7.adjusted_close     0.6779      0.147      4.602      0.000       0.389       0.967\n",
      "ma.L8.adjusted_close     0.7320      0.143      5.119      0.000       0.452       1.012\n",
      "ma.L9.adjusted_close     0.5937      0.111      5.372      0.000       0.377       0.810\n",
      "                                    Roots                                    \n",
      "=============================================================================\n",
      "                  Real          Imaginary           Modulus         Frequency\n",
      "-----------------------------------------------------------------------------\n",
      "MA.1            0.8354           -0.5735j            1.0133           -0.0957\n",
      "MA.2            0.8354           +0.5735j            1.0133            0.0957\n",
      "MA.3            0.3351           -0.9423j            1.0001           -0.1956\n",
      "MA.4            0.3351           +0.9423j            1.0001            0.1956\n",
      "MA.5           -0.3283           -1.0493j            1.0994           -0.2983\n",
      "MA.6           -0.3283           +1.0493j            1.0994            0.2983\n",
      "MA.7           -1.0886           -0.0000j            1.0886           -0.5000\n",
      "MA.8           -0.9143           -0.6406j            1.1164           -0.4027\n",
      "MA.9           -0.9143           +0.6406j            1.1164            0.4027\n",
      "-----------------------------------------------------------------------------\n",
      "n\\LLTest P-value = 0.0\n"
     ]
    }
   ],
   "source": [
    "# MA ORDER 9\n",
    "ma9_model = ARMA(train_data.adjusted_close, order = (0,9))\n",
    "result_ma9 = ma9_model.fit()\n",
    "print(result_ma9.summary())\n",
    "\n",
    "print(\"n\\LLTest P-value = \" + str(LLR_test(result_ma8, result_ma9)))"
   ]
  },
  {
   "cell_type": "markdown",
   "metadata": {},
   "source": [
    "# ARMA Model"
   ]
  },
  {
   "cell_type": "markdown",
   "metadata": {},
   "source": [
    "### Determine the order"
   ]
  },
  {
   "cell_type": "code",
   "execution_count": 34,
   "metadata": {},
   "outputs": [
    {
     "name": "stdout",
     "output_type": "stream",
     "text": [
      "ARMA(p,q) = (1, 0) is the best order for this model.\n"
     ]
    },
    {
     "name": "stderr",
     "output_type": "stream",
     "text": [
      "C:\\ProgramData\\Anaconda3\\lib\\site-packages\\statsmodels\\tsa\\tsatools.py:716: RuntimeWarning: invalid value encountered in log\n",
      "  invmacoefs = -np.log((1-macoefs)/(1+macoefs))\n"
     ]
    }
   ],
   "source": [
    "# Automatic Order Selection\n",
    "order_selection = sm.tsa.arma_order_select_ic(train_data['adjusted_close'].values, max_ar = 4, \n",
    "max_ma = 7, ic = \"aic\")\n",
    "\n",
    "print('ARMA(p,q) =',order_selection['aic_min_order'],'is the best order for this model.')"
   ]
  },
  {
   "cell_type": "code",
   "execution_count": 35,
   "metadata": {},
   "outputs": [],
   "source": [
    "# Note: since ARMA order is (1, 0), no ARMA model will be run"
   ]
  },
  {
   "cell_type": "code",
   "execution_count": 36,
   "metadata": {},
   "outputs": [],
   "source": [
    "from statsmodels.tsa.arima_model import ARIMA"
   ]
  },
  {
   "cell_type": "code",
   "execution_count": 43,
   "metadata": {},
   "outputs": [
    {
     "data": {
      "text/html": [
       "<div>\n",
       "<style scoped>\n",
       "    .dataframe tbody tr th:only-of-type {\n",
       "        vertical-align: middle;\n",
       "    }\n",
       "\n",
       "    .dataframe tbody tr th {\n",
       "        vertical-align: top;\n",
       "    }\n",
       "\n",
       "    .dataframe thead th {\n",
       "        text-align: right;\n",
       "    }\n",
       "</style>\n",
       "<table border=\"1\" class=\"dataframe\">\n",
       "  <thead>\n",
       "    <tr style=\"text-align: right;\">\n",
       "      <th></th>\n",
       "      <th>confirmed</th>\n",
       "      <th>death</th>\n",
       "      <th>recovered</th>\n",
       "      <th>High</th>\n",
       "      <th>Low</th>\n",
       "      <th>Open</th>\n",
       "      <th>Close</th>\n",
       "      <th>Volume</th>\n",
       "      <th>adjusted_close</th>\n",
       "      <th>first_diff_adj_stock</th>\n",
       "    </tr>\n",
       "    <tr>\n",
       "      <th>Date</th>\n",
       "      <th></th>\n",
       "      <th></th>\n",
       "      <th></th>\n",
       "      <th></th>\n",
       "      <th></th>\n",
       "      <th></th>\n",
       "      <th></th>\n",
       "      <th></th>\n",
       "      <th></th>\n",
       "      <th></th>\n",
       "    </tr>\n",
       "  </thead>\n",
       "  <tbody>\n",
       "    <tr>\n",
       "      <th>2020-01-23</th>\n",
       "      <td>1</td>\n",
       "      <td>0</td>\n",
       "      <td>0</td>\n",
       "      <td>57.980000</td>\n",
       "      <td>57.020000</td>\n",
       "      <td>57.599998</td>\n",
       "      <td>57.770000</td>\n",
       "      <td>227900.0</td>\n",
       "      <td>54.500458</td>\n",
       "      <td>-0.386795</td>\n",
       "    </tr>\n",
       "    <tr>\n",
       "      <th>2020-01-24</th>\n",
       "      <td>2</td>\n",
       "      <td>0</td>\n",
       "      <td>0</td>\n",
       "      <td>57.799999</td>\n",
       "      <td>56.840000</td>\n",
       "      <td>57.730000</td>\n",
       "      <td>57.160000</td>\n",
       "      <td>146200.0</td>\n",
       "      <td>53.924980</td>\n",
       "      <td>-0.575478</td>\n",
       "    </tr>\n",
       "    <tr>\n",
       "      <th>2020-01-27</th>\n",
       "      <td>5</td>\n",
       "      <td>0</td>\n",
       "      <td>0</td>\n",
       "      <td>55.689999</td>\n",
       "      <td>54.820000</td>\n",
       "      <td>55.139999</td>\n",
       "      <td>55.279999</td>\n",
       "      <td>230600.0</td>\n",
       "      <td>52.151379</td>\n",
       "      <td>-1.773602</td>\n",
       "    </tr>\n",
       "    <tr>\n",
       "      <th>2020-01-28</th>\n",
       "      <td>5</td>\n",
       "      <td>0</td>\n",
       "      <td>0</td>\n",
       "      <td>56.090000</td>\n",
       "      <td>55.160000</td>\n",
       "      <td>55.490002</td>\n",
       "      <td>55.500000</td>\n",
       "      <td>174400.0</td>\n",
       "      <td>52.358929</td>\n",
       "      <td>0.207550</td>\n",
       "    </tr>\n",
       "    <tr>\n",
       "      <th>2020-01-29</th>\n",
       "      <td>5</td>\n",
       "      <td>0</td>\n",
       "      <td>0</td>\n",
       "      <td>55.900002</td>\n",
       "      <td>54.939999</td>\n",
       "      <td>55.799999</td>\n",
       "      <td>55.230000</td>\n",
       "      <td>214500.0</td>\n",
       "      <td>52.104210</td>\n",
       "      <td>-0.254719</td>\n",
       "    </tr>\n",
       "  </tbody>\n",
       "</table>\n",
       "</div>"
      ],
      "text/plain": [
       "            confirmed  death  recovered       High        Low       Open  \\\n",
       "Date                                                                       \n",
       "2020-01-23          1      0          0  57.980000  57.020000  57.599998   \n",
       "2020-01-24          2      0          0  57.799999  56.840000  57.730000   \n",
       "2020-01-27          5      0          0  55.689999  54.820000  55.139999   \n",
       "2020-01-28          5      0          0  56.090000  55.160000  55.490002   \n",
       "2020-01-29          5      0          0  55.900002  54.939999  55.799999   \n",
       "\n",
       "                Close    Volume  adjusted_close  first_diff_adj_stock  \n",
       "Date                                                                   \n",
       "2020-01-23  57.770000  227900.0       54.500458             -0.386795  \n",
       "2020-01-24  57.160000  146200.0       53.924980             -0.575478  \n",
       "2020-01-27  55.279999  230600.0       52.151379             -1.773602  \n",
       "2020-01-28  55.500000  174400.0       52.358929              0.207550  \n",
       "2020-01-29  55.230000  214500.0       52.104210             -0.254719  "
      ]
     },
     "execution_count": 43,
     "metadata": {},
     "output_type": "execute_result"
    }
   ],
   "source": [
    "# ARIMA (1, 1, 1)\n",
    "train_data.head()"
   ]
  },
  {
   "cell_type": "code",
   "execution_count": 38,
   "metadata": {},
   "outputs": [
    {
     "name": "stdout",
     "output_type": "stream",
     "text": [
      "                              ARMA Model Results                              \n",
      "==============================================================================\n",
      "Dep. Variable:         adjusted_close   No. Observations:                  103\n",
      "Model:                     ARMA(0, 8)   Log Likelihood                -172.758\n",
      "Method:                       css-mle   S.D. of innovations              1.283\n",
      "Date:                Wed, 29 Jul 2020   AIC                            365.515\n",
      "Time:                        09:27:05   BIC                            391.862\n",
      "Sample:                    01-23-2020   HQIC                           376.187\n",
      "                         - 06-18-2020                                         \n",
      "========================================================================================\n",
      "                           coef    std err          z      P>|z|      [0.025      0.975]\n",
      "----------------------------------------------------------------------------------------\n",
      "const                   46.9588      0.689     68.185      0.000      45.609      48.309\n",
      "ma.L1.adjusted_close     0.9109      0.117      7.796      0.000       0.682       1.140\n",
      "ma.L2.adjusted_close     0.8484      0.180      4.705      0.000       0.495       1.202\n",
      "ma.L3.adjusted_close     0.8011      0.205      3.908      0.000       0.399       1.203\n",
      "ma.L4.adjusted_close     0.5108      0.189      2.704      0.007       0.141       0.881\n",
      "ma.L5.adjusted_close     0.5615      0.121      4.659      0.000       0.325       0.798\n",
      "ma.L6.adjusted_close     0.4876      0.143      3.411      0.001       0.207       0.768\n",
      "ma.L7.adjusted_close     0.3345      0.182      1.843      0.065      -0.021       0.690\n",
      "ma.L8.adjusted_close     0.1409      0.140      1.004      0.315      -0.134       0.416\n",
      "                                    Roots                                    \n",
      "=============================================================================\n",
      "                  Real          Imaginary           Modulus         Frequency\n",
      "-----------------------------------------------------------------------------\n",
      "MA.1            0.8453           -0.8135j            1.1732           -0.1219\n",
      "MA.2            0.8453           +0.8135j            1.1732            0.1219\n",
      "MA.3            0.0081           -1.1777j            1.1777           -0.2489\n",
      "MA.4            0.0081           +1.1777j            1.1777            0.2489\n",
      "MA.5           -0.7085           -1.2343j            1.4232           -0.3329\n",
      "MA.6           -0.7085           +1.2343j            1.4232            0.3329\n",
      "MA.7           -1.3322           -0.2471j            1.3549           -0.4708\n",
      "MA.8           -1.3322           +0.2471j            1.3549            0.4708\n",
      "-----------------------------------------------------------------------------\n"
     ]
    }
   ],
   "source": [
    "# MA ORDER 8\n",
    "ma8_model = ARMA(train_data.adjusted_close, order = (0,8))\n",
    "result_ma8 = ma8_model.fit()\n",
    "print(result_ma8.summary())"
   ]
  },
  {
   "cell_type": "markdown",
   "metadata": {},
   "source": [
    "# ARIMA Model"
   ]
  },
  {
   "cell_type": "code",
   "execution_count": 39,
   "metadata": {},
   "outputs": [],
   "source": [
    "# install the package\n",
    "#!pip install pmdarima\n",
    "# from pmdarima.arima import auto_arima"
   ]
  },
  {
   "cell_type": "code",
   "execution_count": 40,
   "metadata": {},
   "outputs": [],
   "source": [
    "import pmdarima as pm"
   ]
  },
  {
   "cell_type": "code",
   "execution_count": 59,
   "metadata": {},
   "outputs": [
    {
     "ename": "ValueError",
     "evalue": "Expected 2D array, got 1D array instead:\narray=[      1       2       5       5       5       5       7      11      11\n      11      11      11      11      12      12      13      13      13\n      13      13      15      15      15      15      16      16      53\n      73     104     174     222     519     711    1109    1561    2157\n    4360    6141    8917   14157   19479   43850   54112   66055   84091\n  102276  162707  188724  214205  244610  276547  367215  397992  429686\n  464442  581813  608878  637974  669272  701996  783716  809318  837422\n  871617  907908  990983 1015518 1043038 1072667 1106829 1184086 1208271\n 1233527 1261409 1288587 1352962 1375152 1396110 1423727 1449027 1514901\n 1535350 1559157 1584512 1608653 1689163 1707445 1730260 1754764 1816479\n 1837374 1857332 1878683 1903907 1961785 1979912 2000706 2023656 2048986\n 2114026 2137731 2163290 2191099].\nReshape your data either using array.reshape(-1, 1) if your data has a single feature or array.reshape(1, -1) if it contains a single sample.",
     "output_type": "error",
     "traceback": [
      "\u001b[1;31m---------------------------------------------------------------------------\u001b[0m",
      "\u001b[1;31mValueError\u001b[0m                                Traceback (most recent call last)",
      "\u001b[1;32m<ipython-input-59-e3963b6f72d3>\u001b[0m in \u001b[0;36m<module>\u001b[1;34m\u001b[0m\n\u001b[0;32m      1\u001b[0m \u001b[1;31m# Fit your model\u001b[0m\u001b[1;33m\u001b[0m\u001b[1;33m\u001b[0m\u001b[1;33m\u001b[0m\u001b[0m\n\u001b[1;32m----> 2\u001b[1;33m \u001b[0mmodel\u001b[0m \u001b[1;33m=\u001b[0m \u001b[0mpm\u001b[0m\u001b[1;33m.\u001b[0m\u001b[0mauto_arima\u001b[0m\u001b[1;33m(\u001b[0m\u001b[0mtrain_data\u001b[0m\u001b[1;33m.\u001b[0m\u001b[0madjusted_close\u001b[0m\u001b[1;33m,\u001b[0m \u001b[0mexogenous\u001b[0m \u001b[1;33m=\u001b[0m \u001b[0mtrain_data\u001b[0m\u001b[1;33m.\u001b[0m\u001b[0mconfirmed\u001b[0m\u001b[1;33m)\u001b[0m\u001b[1;33m\u001b[0m\u001b[1;33m\u001b[0m\u001b[0m\n\u001b[0m",
      "\u001b[1;32mC:\\ProgramData\\Anaconda3\\lib\\site-packages\\pmdarima\\arima\\auto.py\u001b[0m in \u001b[0;36mauto_arima\u001b[1;34m(y, exogenous, start_p, d, start_q, max_p, max_d, max_q, start_P, D, start_Q, max_P, max_D, max_Q, max_order, m, seasonal, stationary, information_criterion, alpha, test, seasonal_test, stepwise, n_jobs, start_params, trend, method, maxiter, offset_test_args, seasonal_test_args, suppress_warnings, error_action, trace, random, random_state, n_fits, return_valid_fits, out_of_sample_size, scoring, scoring_args, with_intercept, sarimax_kwargs, **fit_args)\u001b[0m\n\u001b[0;32m    382\u001b[0m     \u001b[0mxx\u001b[0m \u001b[1;33m=\u001b[0m \u001b[0my\u001b[0m\u001b[1;33m.\u001b[0m\u001b[0mcopy\u001b[0m\u001b[1;33m(\u001b[0m\u001b[1;33m)\u001b[0m\u001b[1;33m\u001b[0m\u001b[1;33m\u001b[0m\u001b[0m\n\u001b[0;32m    383\u001b[0m     \u001b[1;32mif\u001b[0m \u001b[0mexogenous\u001b[0m \u001b[1;32mis\u001b[0m \u001b[1;32mnot\u001b[0m \u001b[1;32mNone\u001b[0m\u001b[1;33m:\u001b[0m\u001b[1;33m\u001b[0m\u001b[1;33m\u001b[0m\u001b[0m\n\u001b[1;32m--> 384\u001b[1;33m         \u001b[0mlm\u001b[0m \u001b[1;33m=\u001b[0m \u001b[0mLinearRegression\u001b[0m\u001b[1;33m(\u001b[0m\u001b[1;33m)\u001b[0m\u001b[1;33m.\u001b[0m\u001b[0mfit\u001b[0m\u001b[1;33m(\u001b[0m\u001b[0mexogenous\u001b[0m\u001b[1;33m,\u001b[0m \u001b[0my\u001b[0m\u001b[1;33m)\u001b[0m\u001b[1;33m\u001b[0m\u001b[1;33m\u001b[0m\u001b[0m\n\u001b[0m\u001b[0;32m    385\u001b[0m         \u001b[0mxx\u001b[0m \u001b[1;33m=\u001b[0m \u001b[0my\u001b[0m \u001b[1;33m-\u001b[0m \u001b[0mlm\u001b[0m\u001b[1;33m.\u001b[0m\u001b[0mpredict\u001b[0m\u001b[1;33m(\u001b[0m\u001b[0mexogenous\u001b[0m\u001b[1;33m)\u001b[0m\u001b[1;33m\u001b[0m\u001b[1;33m\u001b[0m\u001b[0m\n\u001b[0;32m    386\u001b[0m \u001b[1;33m\u001b[0m\u001b[0m\n",
      "\u001b[1;32mC:\\ProgramData\\Anaconda3\\lib\\site-packages\\sklearn\\linear_model\\_base.py\u001b[0m in \u001b[0;36mfit\u001b[1;34m(self, X, y, sample_weight)\u001b[0m\n\u001b[0;32m    490\u001b[0m         \u001b[0mn_jobs_\u001b[0m \u001b[1;33m=\u001b[0m \u001b[0mself\u001b[0m\u001b[1;33m.\u001b[0m\u001b[0mn_jobs\u001b[0m\u001b[1;33m\u001b[0m\u001b[1;33m\u001b[0m\u001b[0m\n\u001b[0;32m    491\u001b[0m         X, y = check_X_y(X, y, accept_sparse=['csr', 'csc', 'coo'],\n\u001b[1;32m--> 492\u001b[1;33m                          y_numeric=True, multi_output=True)\n\u001b[0m\u001b[0;32m    493\u001b[0m \u001b[1;33m\u001b[0m\u001b[0m\n\u001b[0;32m    494\u001b[0m         \u001b[1;32mif\u001b[0m \u001b[0msample_weight\u001b[0m \u001b[1;32mis\u001b[0m \u001b[1;32mnot\u001b[0m \u001b[1;32mNone\u001b[0m\u001b[1;33m:\u001b[0m\u001b[1;33m\u001b[0m\u001b[1;33m\u001b[0m\u001b[0m\n",
      "\u001b[1;32mC:\\ProgramData\\Anaconda3\\lib\\site-packages\\sklearn\\utils\\validation.py\u001b[0m in \u001b[0;36mcheck_X_y\u001b[1;34m(X, y, accept_sparse, accept_large_sparse, dtype, order, copy, force_all_finite, ensure_2d, allow_nd, multi_output, ensure_min_samples, ensure_min_features, y_numeric, warn_on_dtype, estimator)\u001b[0m\n\u001b[0;32m    753\u001b[0m                     \u001b[0mensure_min_features\u001b[0m\u001b[1;33m=\u001b[0m\u001b[0mensure_min_features\u001b[0m\u001b[1;33m,\u001b[0m\u001b[1;33m\u001b[0m\u001b[1;33m\u001b[0m\u001b[0m\n\u001b[0;32m    754\u001b[0m                     \u001b[0mwarn_on_dtype\u001b[0m\u001b[1;33m=\u001b[0m\u001b[0mwarn_on_dtype\u001b[0m\u001b[1;33m,\u001b[0m\u001b[1;33m\u001b[0m\u001b[1;33m\u001b[0m\u001b[0m\n\u001b[1;32m--> 755\u001b[1;33m                     estimator=estimator)\n\u001b[0m\u001b[0;32m    756\u001b[0m     \u001b[1;32mif\u001b[0m \u001b[0mmulti_output\u001b[0m\u001b[1;33m:\u001b[0m\u001b[1;33m\u001b[0m\u001b[1;33m\u001b[0m\u001b[0m\n\u001b[0;32m    757\u001b[0m         y = check_array(y, 'csr', force_all_finite=True, ensure_2d=False,\n",
      "\u001b[1;32mC:\\ProgramData\\Anaconda3\\lib\\site-packages\\sklearn\\utils\\validation.py\u001b[0m in \u001b[0;36mcheck_array\u001b[1;34m(array, accept_sparse, accept_large_sparse, dtype, order, copy, force_all_finite, ensure_2d, allow_nd, ensure_min_samples, ensure_min_features, warn_on_dtype, estimator)\u001b[0m\n\u001b[0;32m    554\u001b[0m                     \u001b[1;34m\"Reshape your data either using array.reshape(-1, 1) if \"\u001b[0m\u001b[1;33m\u001b[0m\u001b[1;33m\u001b[0m\u001b[0m\n\u001b[0;32m    555\u001b[0m                     \u001b[1;34m\"your data has a single feature or array.reshape(1, -1) \"\u001b[0m\u001b[1;33m\u001b[0m\u001b[1;33m\u001b[0m\u001b[0m\n\u001b[1;32m--> 556\u001b[1;33m                     \"if it contains a single sample.\".format(array))\n\u001b[0m\u001b[0;32m    557\u001b[0m \u001b[1;33m\u001b[0m\u001b[0m\n\u001b[0;32m    558\u001b[0m         \u001b[1;31m# in the future np.flexible dtypes will be handled like object dtypes\u001b[0m\u001b[1;33m\u001b[0m\u001b[1;33m\u001b[0m\u001b[1;33m\u001b[0m\u001b[0m\n",
      "\u001b[1;31mValueError\u001b[0m: Expected 2D array, got 1D array instead:\narray=[      1       2       5       5       5       5       7      11      11\n      11      11      11      11      12      12      13      13      13\n      13      13      15      15      15      15      16      16      53\n      73     104     174     222     519     711    1109    1561    2157\n    4360    6141    8917   14157   19479   43850   54112   66055   84091\n  102276  162707  188724  214205  244610  276547  367215  397992  429686\n  464442  581813  608878  637974  669272  701996  783716  809318  837422\n  871617  907908  990983 1015518 1043038 1072667 1106829 1184086 1208271\n 1233527 1261409 1288587 1352962 1375152 1396110 1423727 1449027 1514901\n 1535350 1559157 1584512 1608653 1689163 1707445 1730260 1754764 1816479\n 1837374 1857332 1878683 1903907 1961785 1979912 2000706 2023656 2048986\n 2114026 2137731 2163290 2191099].\nReshape your data either using array.reshape(-1, 1) if your data has a single feature or array.reshape(1, -1) if it contains a single sample."
     ]
    }
   ],
   "source": [
    "# Fit your model\n",
    "model = pm.auto_arima(train_data.adjusted_close, exogenous = train_data.confirmed)"
   ]
  },
  {
   "cell_type": "code",
   "execution_count": 58,
   "metadata": {},
   "outputs": [
    {
     "data": {
      "text/html": [
       "<table class=\"simpletable\">\n",
       "<caption>SARIMAX Results</caption>\n",
       "<tr>\n",
       "  <th>Dep. Variable:</th>           <td>y</td>        <th>  No. Observations:  </th>    <td>103</td>  \n",
       "</tr>\n",
       "<tr>\n",
       "  <th>Model:</th>           <td>SARIMAX(0, 1, 0)</td> <th>  Log Likelihood     </th> <td>-167.890</td>\n",
       "</tr>\n",
       "<tr>\n",
       "  <th>Date:</th>            <td>Wed, 29 Jul 2020</td> <th>  AIC                </th>  <td>337.779</td>\n",
       "</tr>\n",
       "<tr>\n",
       "  <th>Time:</th>                <td>13:21:50</td>     <th>  BIC                </th>  <td>340.404</td>\n",
       "</tr>\n",
       "<tr>\n",
       "  <th>Sample:</th>                  <td>0</td>        <th>  HQIC               </th>  <td>338.842</td>\n",
       "</tr>\n",
       "<tr>\n",
       "  <th></th>                      <td> - 103</td>      <th>                     </th>     <td> </td>   \n",
       "</tr>\n",
       "<tr>\n",
       "  <th>Covariance Type:</th>        <td>opg</td>       <th>                     </th>     <td> </td>   \n",
       "</tr>\n",
       "</table>\n",
       "<table class=\"simpletable\">\n",
       "<tr>\n",
       "     <td></td>       <th>coef</th>     <th>std err</th>      <th>z</th>      <th>P>|z|</th>  <th>[0.025</th>    <th>0.975]</th>  \n",
       "</tr>\n",
       "<tr>\n",
       "  <th>sigma2</th> <td>    1.5747</td> <td>    0.176</td> <td>    8.940</td> <td> 0.000</td> <td>    1.229</td> <td>    1.920</td>\n",
       "</tr>\n",
       "</table>\n",
       "<table class=\"simpletable\">\n",
       "<tr>\n",
       "  <th>Ljung-Box (Q):</th>          <td>34.00</td> <th>  Jarque-Bera (JB):  </th> <td>10.59</td>\n",
       "</tr>\n",
       "<tr>\n",
       "  <th>Prob(Q):</th>                <td>0.74</td>  <th>  Prob(JB):          </th> <td>0.01</td> \n",
       "</tr>\n",
       "<tr>\n",
       "  <th>Heteroskedasticity (H):</th> <td>0.86</td>  <th>  Skew:              </th> <td>0.45</td> \n",
       "</tr>\n",
       "<tr>\n",
       "  <th>Prob(H) (two-sided):</th>    <td>0.67</td>  <th>  Kurtosis:          </th> <td>4.30</td> \n",
       "</tr>\n",
       "</table><br/><br/>Warnings:<br/>[1] Covariance matrix calculated using the outer product of gradients (complex-step)."
      ],
      "text/plain": [
       "<class 'statsmodels.iolib.summary.Summary'>\n",
       "\"\"\"\n",
       "                               SARIMAX Results                                \n",
       "==============================================================================\n",
       "Dep. Variable:                      y   No. Observations:                  103\n",
       "Model:               SARIMAX(0, 1, 0)   Log Likelihood                -167.890\n",
       "Date:                Wed, 29 Jul 2020   AIC                            337.779\n",
       "Time:                        13:21:50   BIC                            340.404\n",
       "Sample:                             0   HQIC                           338.842\n",
       "                                - 103                                         \n",
       "Covariance Type:                  opg                                         \n",
       "==============================================================================\n",
       "                 coef    std err          z      P>|z|      [0.025      0.975]\n",
       "------------------------------------------------------------------------------\n",
       "sigma2         1.5747      0.176      8.940      0.000       1.229       1.920\n",
       "===================================================================================\n",
       "Ljung-Box (Q):                       34.00   Jarque-Bera (JB):                10.59\n",
       "Prob(Q):                              0.74   Prob(JB):                         0.01\n",
       "Heteroskedasticity (H):               0.86   Skew:                             0.45\n",
       "Prob(H) (two-sided):                  0.67   Kurtosis:                         4.30\n",
       "===================================================================================\n",
       "\n",
       "Warnings:\n",
       "[1] Covariance matrix calculated using the outer product of gradients (complex-step).\n",
       "\"\"\""
      ]
     },
     "execution_count": 58,
     "metadata": {},
     "output_type": "execute_result"
    }
   ],
   "source": [
    "model.summary()"
   ]
  },
  {
   "cell_type": "code",
   "execution_count": null,
   "metadata": {},
   "outputs": [],
   "source": []
  }
 ],
 "metadata": {
  "kernelspec": {
   "display_name": "Python 3",
   "language": "python",
   "name": "python3"
  },
  "language_info": {
   "codemirror_mode": {
    "name": "ipython",
    "version": 3
   },
   "file_extension": ".py",
   "mimetype": "text/x-python",
   "name": "python",
   "nbconvert_exporter": "python",
   "pygments_lexer": "ipython3",
   "version": "3.7.6"
  }
 },
 "nbformat": 4,
 "nbformat_minor": 4
}

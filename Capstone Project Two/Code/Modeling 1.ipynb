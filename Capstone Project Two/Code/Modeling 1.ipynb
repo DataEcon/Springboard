{
 "cells": [
  {
   "cell_type": "code",
   "execution_count": 1,
   "metadata": {},
   "outputs": [],
   "source": [
    "import pandas as pd\n",
    "import numpy as np\n",
    "import datetime as dt\n",
    "import matplotlib.pyplot as plt\n",
    "import seaborn as sns\n",
    "sns.set()"
   ]
  },
  {
   "cell_type": "code",
   "execution_count": 2,
   "metadata": {},
   "outputs": [],
   "source": [
    "file_path_train = r'C:\\\\Users\\\\mshus\\\\Google Drive\\\\Data Science - Springboard\\\\Git_GitHub\\\\Springboard\\\\Capstone Project Two\\\\Data\\train_data.csv'\n",
    "file_path_test = r'C:\\\\Users\\\\mshus\\\\Google Drive\\\\Data Science - Springboard\\\\Git_GitHub\\\\Springboard\\\\Capstone Project Two\\\\Data\\test_data.csv'"
   ]
  },
  {
   "cell_type": "code",
   "execution_count": 3,
   "metadata": {},
   "outputs": [],
   "source": [
    "train_data = pd.read_csv(file_path_train, index_col = ['Date'])\n",
    "test_data = pd.read_csv(file_path_test, index_col = ['Date'])"
   ]
  },
  {
   "cell_type": "code",
   "execution_count": 4,
   "metadata": {},
   "outputs": [
    {
     "data": {
      "text/html": [
       "<div>\n",
       "<style scoped>\n",
       "    .dataframe tbody tr th:only-of-type {\n",
       "        vertical-align: middle;\n",
       "    }\n",
       "\n",
       "    .dataframe tbody tr th {\n",
       "        vertical-align: top;\n",
       "    }\n",
       "\n",
       "    .dataframe thead th {\n",
       "        text-align: right;\n",
       "    }\n",
       "</style>\n",
       "<table border=\"1\" class=\"dataframe\">\n",
       "  <thead>\n",
       "    <tr style=\"text-align: right;\">\n",
       "      <th></th>\n",
       "      <th>confirmed</th>\n",
       "      <th>High</th>\n",
       "      <th>Volume</th>\n",
       "      <th>adjusted_close</th>\n",
       "      <th>first_diff_adj_stock</th>\n",
       "    </tr>\n",
       "    <tr>\n",
       "      <th>Date</th>\n",
       "      <th></th>\n",
       "      <th></th>\n",
       "      <th></th>\n",
       "      <th></th>\n",
       "      <th></th>\n",
       "    </tr>\n",
       "  </thead>\n",
       "  <tbody>\n",
       "    <tr>\n",
       "      <th>2020-01-23</th>\n",
       "      <td>1</td>\n",
       "      <td>57.980000</td>\n",
       "      <td>227900.0</td>\n",
       "      <td>54.500458</td>\n",
       "      <td>-0.386795</td>\n",
       "    </tr>\n",
       "    <tr>\n",
       "      <th>2020-01-24</th>\n",
       "      <td>2</td>\n",
       "      <td>57.799999</td>\n",
       "      <td>146200.0</td>\n",
       "      <td>53.924980</td>\n",
       "      <td>-0.575478</td>\n",
       "    </tr>\n",
       "    <tr>\n",
       "      <th>2020-01-27</th>\n",
       "      <td>5</td>\n",
       "      <td>55.689999</td>\n",
       "      <td>230600.0</td>\n",
       "      <td>52.151379</td>\n",
       "      <td>-1.773602</td>\n",
       "    </tr>\n",
       "    <tr>\n",
       "      <th>2020-01-28</th>\n",
       "      <td>5</td>\n",
       "      <td>56.090000</td>\n",
       "      <td>174400.0</td>\n",
       "      <td>52.358929</td>\n",
       "      <td>0.207550</td>\n",
       "    </tr>\n",
       "    <tr>\n",
       "      <th>2020-01-29</th>\n",
       "      <td>5</td>\n",
       "      <td>55.900002</td>\n",
       "      <td>214500.0</td>\n",
       "      <td>52.104210</td>\n",
       "      <td>-0.254719</td>\n",
       "    </tr>\n",
       "  </tbody>\n",
       "</table>\n",
       "</div>"
      ],
      "text/plain": [
       "            confirmed       High    Volume  adjusted_close  \\\n",
       "Date                                                         \n",
       "2020-01-23          1  57.980000  227900.0       54.500458   \n",
       "2020-01-24          2  57.799999  146200.0       53.924980   \n",
       "2020-01-27          5  55.689999  230600.0       52.151379   \n",
       "2020-01-28          5  56.090000  174400.0       52.358929   \n",
       "2020-01-29          5  55.900002  214500.0       52.104210   \n",
       "\n",
       "            first_diff_adj_stock  \n",
       "Date                              \n",
       "2020-01-23             -0.386795  \n",
       "2020-01-24             -0.575478  \n",
       "2020-01-27             -1.773602  \n",
       "2020-01-28              0.207550  \n",
       "2020-01-29             -0.254719  "
      ]
     },
     "execution_count": 4,
     "metadata": {},
     "output_type": "execute_result"
    }
   ],
   "source": [
    "train_data.head()"
   ]
  },
  {
   "cell_type": "code",
   "execution_count": 5,
   "metadata": {
    "scrolled": true
   },
   "outputs": [
    {
     "name": "stdout",
     "output_type": "stream",
     "text": [
      "<class 'pandas.core.frame.DataFrame'>\n",
      "Index: 102 entries, 2020-01-23 to 2020-06-17\n",
      "Data columns (total 5 columns):\n",
      " #   Column                Non-Null Count  Dtype  \n",
      "---  ------                --------------  -----  \n",
      " 0   confirmed             102 non-null    int64  \n",
      " 1   High                  102 non-null    float64\n",
      " 2   Volume                102 non-null    float64\n",
      " 3   adjusted_close        102 non-null    float64\n",
      " 4   first_diff_adj_stock  102 non-null    float64\n",
      "dtypes: float64(4), int64(1)\n",
      "memory usage: 4.8+ KB\n"
     ]
    }
   ],
   "source": [
    "train_data.info()"
   ]
  },
  {
   "cell_type": "code",
   "execution_count": 6,
   "metadata": {},
   "outputs": [
    {
     "data": {
      "text/plain": [
       "Index(['2020-01-23', '2020-01-24', '2020-01-27', '2020-01-28', '2020-01-29',\n",
       "       '2020-01-30', '2020-01-31', '2020-02-03', '2020-02-04', '2020-02-05',\n",
       "       ...\n",
       "       '2020-06-04', '2020-06-05', '2020-06-08', '2020-06-09', '2020-06-10',\n",
       "       '2020-06-11', '2020-06-12', '2020-06-15', '2020-06-16', '2020-06-17'],\n",
       "      dtype='object', name='Date', length=102)"
      ]
     },
     "execution_count": 6,
     "metadata": {},
     "output_type": "execute_result"
    }
   ],
   "source": [
    "train_data.index"
   ]
  },
  {
   "cell_type": "code",
   "execution_count": 7,
   "metadata": {},
   "outputs": [],
   "source": [
    "train_data.index = pd.DatetimeIndex(train_data.index).to_period('B').dropna()"
   ]
  },
  {
   "cell_type": "code",
   "execution_count": 8,
   "metadata": {},
   "outputs": [
    {
     "data": {
      "text/plain": [
       "PeriodIndex(['2020-01-23', '2020-01-24', '2020-01-27', '2020-01-28',\n",
       "             '2020-01-29', '2020-01-30', '2020-01-31', '2020-02-03',\n",
       "             '2020-02-04', '2020-02-05',\n",
       "             ...\n",
       "             '2020-06-04', '2020-06-05', '2020-06-08', '2020-06-09',\n",
       "             '2020-06-10', '2020-06-11', '2020-06-12', '2020-06-15',\n",
       "             '2020-06-16', '2020-06-17'],\n",
       "            dtype='period[B]', name='Date', length=102, freq='B')"
      ]
     },
     "execution_count": 8,
     "metadata": {},
     "output_type": "execute_result"
    }
   ],
   "source": [
    "train_data.index"
   ]
  },
  {
   "cell_type": "markdown",
   "metadata": {},
   "source": [
    "# AR Model "
   ]
  },
  {
   "cell_type": "markdown",
   "metadata": {},
   "source": [
    "### Optimal Lag Selection "
   ]
  },
  {
   "cell_type": "code",
   "execution_count": 9,
   "metadata": {},
   "outputs": [],
   "source": [
    "from statsmodels.graphics.tsaplots import plot_acf, plot_pacf"
   ]
  },
  {
   "cell_type": "code",
   "execution_count": 77,
   "metadata": {},
   "outputs": [],
   "source": [
    "import statsmodels.api as sm"
   ]
  },
  {
   "cell_type": "code",
   "execution_count": 81,
   "metadata": {},
   "outputs": [
    {
     "name": "stdout",
     "output_type": "stream",
     "text": [
      "p-value:0.11598416517321397\n"
     ]
    }
   ],
   "source": [
    "#ADF-test Original Data\n",
    "res = sm.tsa.adfuller(train_data['adjusted_close'].dropna(),regression='ct')\n",
    "print('p-value:{}'.format(res[1]))"
   ]
  },
  {
   "cell_type": "code",
   "execution_count": 86,
   "metadata": {},
   "outputs": [
    {
     "name": "stdout",
     "output_type": "stream",
     "text": [
      "p-value:2.2463937445899166e-21\n"
     ]
    }
   ],
   "source": [
    "#ADF-test(differenced-time-series)\n",
    "res = sm.tsa.adfuller(train_data['adjusted_close'].diff().dropna(),regression='c')\n",
    "print('p-value:{}'.format(res[1]))"
   ]
  },
  {
   "cell_type": "code",
   "execution_count": 78,
   "metadata": {},
   "outputs": [
    {
     "data": {
      "text/html": [
       "<div>\n",
       "<style scoped>\n",
       "    .dataframe tbody tr th:only-of-type {\n",
       "        vertical-align: middle;\n",
       "    }\n",
       "\n",
       "    .dataframe tbody tr th {\n",
       "        vertical-align: top;\n",
       "    }\n",
       "\n",
       "    .dataframe thead th {\n",
       "        text-align: right;\n",
       "    }\n",
       "</style>\n",
       "<table border=\"1\" class=\"dataframe\">\n",
       "  <thead>\n",
       "    <tr style=\"text-align: right;\">\n",
       "      <th></th>\n",
       "      <th>confirmed</th>\n",
       "      <th>High</th>\n",
       "      <th>Volume</th>\n",
       "      <th>adjusted_close</th>\n",
       "      <th>first_diff_adj_stock</th>\n",
       "    </tr>\n",
       "    <tr>\n",
       "      <th>Date</th>\n",
       "      <th></th>\n",
       "      <th></th>\n",
       "      <th></th>\n",
       "      <th></th>\n",
       "      <th></th>\n",
       "    </tr>\n",
       "  </thead>\n",
       "  <tbody>\n",
       "    <tr>\n",
       "      <th>2020-01-23</th>\n",
       "      <td>1</td>\n",
       "      <td>57.980000</td>\n",
       "      <td>227900.0</td>\n",
       "      <td>54.500458</td>\n",
       "      <td>-0.386795</td>\n",
       "    </tr>\n",
       "    <tr>\n",
       "      <th>2020-01-24</th>\n",
       "      <td>2</td>\n",
       "      <td>57.799999</td>\n",
       "      <td>146200.0</td>\n",
       "      <td>53.924980</td>\n",
       "      <td>-0.575478</td>\n",
       "    </tr>\n",
       "    <tr>\n",
       "      <th>2020-01-27</th>\n",
       "      <td>5</td>\n",
       "      <td>55.689999</td>\n",
       "      <td>230600.0</td>\n",
       "      <td>52.151379</td>\n",
       "      <td>-1.773602</td>\n",
       "    </tr>\n",
       "    <tr>\n",
       "      <th>2020-01-28</th>\n",
       "      <td>5</td>\n",
       "      <td>56.090000</td>\n",
       "      <td>174400.0</td>\n",
       "      <td>52.358929</td>\n",
       "      <td>0.207550</td>\n",
       "    </tr>\n",
       "    <tr>\n",
       "      <th>2020-01-29</th>\n",
       "      <td>5</td>\n",
       "      <td>55.900002</td>\n",
       "      <td>214500.0</td>\n",
       "      <td>52.104210</td>\n",
       "      <td>-0.254719</td>\n",
       "    </tr>\n",
       "    <tr>\n",
       "      <th>...</th>\n",
       "      <td>...</td>\n",
       "      <td>...</td>\n",
       "      <td>...</td>\n",
       "      <td>...</td>\n",
       "      <td>...</td>\n",
       "    </tr>\n",
       "    <tr>\n",
       "      <th>2020-06-11</th>\n",
       "      <td>2023656</td>\n",
       "      <td>45.169998</td>\n",
       "      <td>247500.0</td>\n",
       "      <td>43.849998</td>\n",
       "      <td>-2.490002</td>\n",
       "    </tr>\n",
       "    <tr>\n",
       "      <th>2020-06-12</th>\n",
       "      <td>2048986</td>\n",
       "      <td>44.590000</td>\n",
       "      <td>244300.0</td>\n",
       "      <td>44.110001</td>\n",
       "      <td>0.260002</td>\n",
       "    </tr>\n",
       "    <tr>\n",
       "      <th>2020-06-15</th>\n",
       "      <td>2114026</td>\n",
       "      <td>44.090000</td>\n",
       "      <td>154800.0</td>\n",
       "      <td>43.599998</td>\n",
       "      <td>-0.510002</td>\n",
       "    </tr>\n",
       "    <tr>\n",
       "      <th>2020-06-16</th>\n",
       "      <td>2137731</td>\n",
       "      <td>45.029999</td>\n",
       "      <td>113200.0</td>\n",
       "      <td>44.230000</td>\n",
       "      <td>0.630001</td>\n",
       "    </tr>\n",
       "    <tr>\n",
       "      <th>2020-06-17</th>\n",
       "      <td>2163290</td>\n",
       "      <td>44.630001</td>\n",
       "      <td>145000.0</td>\n",
       "      <td>44.369999</td>\n",
       "      <td>0.139999</td>\n",
       "    </tr>\n",
       "  </tbody>\n",
       "</table>\n",
       "<p>102 rows × 5 columns</p>\n",
       "</div>"
      ],
      "text/plain": [
       "            confirmed       High    Volume  adjusted_close  \\\n",
       "Date                                                         \n",
       "2020-01-23          1  57.980000  227900.0       54.500458   \n",
       "2020-01-24          2  57.799999  146200.0       53.924980   \n",
       "2020-01-27          5  55.689999  230600.0       52.151379   \n",
       "2020-01-28          5  56.090000  174400.0       52.358929   \n",
       "2020-01-29          5  55.900002  214500.0       52.104210   \n",
       "...               ...        ...       ...             ...   \n",
       "2020-06-11    2023656  45.169998  247500.0       43.849998   \n",
       "2020-06-12    2048986  44.590000  244300.0       44.110001   \n",
       "2020-06-15    2114026  44.090000  154800.0       43.599998   \n",
       "2020-06-16    2137731  45.029999  113200.0       44.230000   \n",
       "2020-06-17    2163290  44.630001  145000.0       44.369999   \n",
       "\n",
       "            first_diff_adj_stock  \n",
       "Date                              \n",
       "2020-01-23             -0.386795  \n",
       "2020-01-24             -0.575478  \n",
       "2020-01-27             -1.773602  \n",
       "2020-01-28              0.207550  \n",
       "2020-01-29             -0.254719  \n",
       "...                          ...  \n",
       "2020-06-11             -2.490002  \n",
       "2020-06-12              0.260002  \n",
       "2020-06-15             -0.510002  \n",
       "2020-06-16              0.630001  \n",
       "2020-06-17              0.139999  \n",
       "\n",
       "[102 rows x 5 columns]"
      ]
     },
     "execution_count": 78,
     "metadata": {},
     "output_type": "execute_result"
    }
   ],
   "source": [
    "train_data"
   ]
  },
  {
   "cell_type": "code",
   "execution_count": null,
   "metadata": {},
   "outputs": [],
   "source": []
  },
  {
   "cell_type": "code",
   "execution_count": null,
   "metadata": {},
   "outputs": [],
   "source": []
  },
  {
   "cell_type": "code",
   "execution_count": 55,
   "metadata": {},
   "outputs": [
    {
     "data": {
      "text/plain": [
       "<Figure size 864x576 with 0 Axes>"
      ]
     },
     "metadata": {},
     "output_type": "display_data"
    },
    {
     "data": {
      "image/png": "[encoded data removed]",
      "text/plain": [
       "<Figure size 432x288 with 1 Axes>"
      ]
     },
     "metadata": {},
     "output_type": "display_data"
    }
   ],
   "source": [
    "# PACF of differenced data\n",
    "\n",
    "plt.figure(figsize = (12, 8))\n",
    "plot_pacf(train_data.adjusted_close, lags = 40, zero = False, method = ('ols'))\n",
    "plt.show()"
   ]
  },
  {
   "cell_type": "markdown",
   "metadata": {},
   "source": [
    "# Fiting the AR Model"
   ]
  },
  {
   "cell_type": "code",
   "execution_count": 11,
   "metadata": {},
   "outputs": [],
   "source": [
    "from statsmodels.tsa.arima_model import ARMA"
   ]
  },
  {
   "cell_type": "markdown",
   "metadata": {},
   "source": [
    "### Check the Model Performance"
   ]
  },
  {
   "cell_type": "code",
   "execution_count": 12,
   "metadata": {},
   "outputs": [],
   "source": [
    "from scipy.stats.distributions import chi2 \n",
    "\n",
    "# define function to compare the likelihood ratio\n",
    "\n",
    "def LLR_test(model1, model2, DF = 1):\n",
    "    L1 = model1.llf\n",
    "    L2 = model2.llf\n",
    "    LR = 2 *(L2 - L1)\n",
    "    p = chi2.sf(LR, DF).round(3)\n",
    "    \n",
    "    return p "
   ]
  },
  {
   "cell_type": "code",
   "execution_count": 47,
   "metadata": {},
   "outputs": [
    {
     "name": "stdout",
     "output_type": "stream",
     "text": [
      "                              ARMA Model Results                              \n",
      "==============================================================================\n",
      "Dep. Variable:         adjusted_close   No. Observations:                  102\n",
      "Model:                     ARMA(1, 0)   Log Likelihood                -168.089\n",
      "Method:                       css-mle   S.D. of innovations              1.245\n",
      "Date:                Mon, 27 Jul 2020   AIC                            342.177\n",
      "Time:                        16:13:43   BIC                            350.052\n",
      "Sample:                    01-23-2020   HQIC                           345.366\n",
      "                         - 06-17-2020                                         \n",
      "========================================================================================\n",
      "                           coef    std err          z      P>|z|      [0.025      0.975]\n",
      "----------------------------------------------------------------------------------------\n",
      "const                   47.3919      1.696     27.937      0.000      44.067      50.717\n",
      "ar.L1.adjusted_close     0.9350      0.037     24.960      0.000       0.862       1.008\n",
      "                                    Roots                                    \n",
      "=============================================================================\n",
      "                  Real          Imaginary           Modulus         Frequency\n",
      "-----------------------------------------------------------------------------\n",
      "AR.1            1.0696           +0.0000j            1.0696            0.0000\n",
      "-----------------------------------------------------------------------------\n"
     ]
    }
   ],
   "source": [
    "# AR ORDER 1\n",
    "ar1_model = ARMA(train_data.adjusted_close, order = (1, 0))\n",
    "result_ar1 = ar1_model.fit()\n",
    "print(result_ar1.summary())"
   ]
  },
  {
   "cell_type": "code",
   "execution_count": 48,
   "metadata": {},
   "outputs": [
    {
     "name": "stdout",
     "output_type": "stream",
     "text": [
      "                              ARMA Model Results                              \n",
      "==============================================================================\n",
      "Dep. Variable:         adjusted_close   No. Observations:                  102\n",
      "Model:                     ARMA(2, 0)   Log Likelihood                -167.375\n",
      "Method:                       css-mle   S.D. of innovations              1.235\n",
      "Date:                Mon, 27 Jul 2020   AIC                            342.750\n",
      "Time:                        16:13:48   BIC                            353.250\n",
      "Sample:                    01-23-2020   HQIC                           347.002\n",
      "                         - 06-17-2020                                         \n",
      "========================================================================================\n",
      "                           coef    std err          z      P>|z|      [0.025      0.975]\n",
      "----------------------------------------------------------------------------------------\n",
      "const                   47.5404      1.976     24.055      0.000      43.667      51.414\n",
      "ar.L1.adjusted_close     0.8264      0.098      8.456      0.000       0.635       1.018\n",
      "ar.L2.adjusted_close     0.1201      0.100      1.201      0.230      -0.076       0.316\n",
      "                                    Roots                                    \n",
      "=============================================================================\n",
      "                  Real          Imaginary           Modulus         Frequency\n",
      "-----------------------------------------------------------------------------\n",
      "AR.1            1.0499           +0.0000j            1.0499            0.0000\n",
      "AR.2           -7.9333           +0.0000j            7.9333            0.5000\n",
      "-----------------------------------------------------------------------------\n",
      "\n",
      "LLTest P-value = 0.232\n"
     ]
    }
   ],
   "source": [
    "# AR ORDER 2\n",
    "ar2_model = ARMA(train_data.adjusted_close, order = (2, 0))\n",
    "result_ar2 = ar2_model.fit()\n",
    "print(result_ar2.summary())\n",
    "\n",
    "print(\"\\nLLTest P-value = \" + str(LLR_test(result_ar1, result_ar2)))"
   ]
  },
  {
   "cell_type": "code",
   "execution_count": 49,
   "metadata": {},
   "outputs": [
    {
     "name": "stdout",
     "output_type": "stream",
     "text": [
      "                              ARMA Model Results                              \n",
      "==============================================================================\n",
      "Dep. Variable:         adjusted_close   No. Observations:                  102\n",
      "Model:                     ARMA(3, 0)   Log Likelihood                -167.344\n",
      "Method:                       css-mle   S.D. of innovations              1.235\n",
      "Date:                Mon, 27 Jul 2020   AIC                            344.688\n",
      "Time:                        16:14:02   BIC                            357.813\n",
      "Sample:                    01-23-2020   HQIC                           350.003\n",
      "                         - 06-17-2020                                         \n",
      "========================================================================================\n",
      "                           coef    std err          z      P>|z|      [0.025      0.975]\n",
      "----------------------------------------------------------------------------------------\n",
      "const                   47.5655      2.035     23.373      0.000      43.577      51.554\n",
      "ar.L1.adjusted_close     0.8231      0.099      8.348      0.000       0.630       1.016\n",
      "ar.L2.adjusted_close     0.1002      0.128      0.783      0.434      -0.151       0.351\n",
      "ar.L3.adjusted_close     0.0251      0.101      0.249      0.804      -0.173       0.223\n",
      "                                    Roots                                    \n",
      "=============================================================================\n",
      "                  Real          Imaginary           Modulus         Frequency\n",
      "-----------------------------------------------------------------------------\n",
      "AR.1            1.0466           -0.0000j            1.0466           -0.0000\n",
      "AR.2           -2.5183           -5.6308j            6.1683           -0.3169\n",
      "AR.3           -2.5183           +5.6308j            6.1683            0.3169\n",
      "-----------------------------------------------------------------------------\n",
      "\n",
      "LLTest P-value = 0.804\n"
     ]
    }
   ],
   "source": [
    "# AR ORDER 3\n",
    "ar3_model = ARMA(train_data.adjusted_close, order = (3, 0))\n",
    "result_ar3 = ar3_model.fit()\n",
    "print(result_ar3.summary())\n",
    "\n",
    "print(\"\\nLLTest P-value = \" + str(LLR_test(result_ar2, result_ar3)))"
   ]
  },
  {
   "cell_type": "code",
   "execution_count": 50,
   "metadata": {},
   "outputs": [
    {
     "name": "stdout",
     "output_type": "stream",
     "text": [
      "                              ARMA Model Results                              \n",
      "==============================================================================\n",
      "Dep. Variable:         adjusted_close   No. Observations:                  102\n",
      "Model:                     ARMA(5, 0)   Log Likelihood                -166.035\n",
      "Method:                       css-mle   S.D. of innovations              1.218\n",
      "Date:                Mon, 27 Jul 2020   AIC                            346.071\n",
      "Time:                        16:14:20   BIC                            364.446\n",
      "Sample:                    01-23-2020   HQIC                           353.511\n",
      "                         - 06-17-2020                                         \n",
      "========================================================================================\n",
      "                           coef    std err          z      P>|z|      [0.025      0.975]\n",
      "----------------------------------------------------------------------------------------\n",
      "const                   47.6359      2.200     21.654      0.000      43.324      51.948\n",
      "ar.L1.adjusted_close     0.8358      0.098      8.570      0.000       0.645       1.027\n",
      "ar.L2.adjusted_close     0.0960      0.127      0.755      0.450      -0.153       0.345\n",
      "ar.L3.adjusted_close     0.0708      0.127      0.556      0.579      -0.179       0.321\n",
      "ar.L4.adjusted_close    -0.1900      0.127     -1.501      0.133      -0.438       0.058\n",
      "ar.L5.adjusted_close     0.1417      0.099      1.433      0.152      -0.052       0.335\n",
      "                                    Roots                                    \n",
      "=============================================================================\n",
      "                  Real          Imaginary           Modulus         Frequency\n",
      "-----------------------------------------------------------------------------\n",
      "AR.1           -1.0540           -1.0742j            1.5050           -0.3735\n",
      "AR.2           -1.0540           +1.0742j            1.5050            0.3735\n",
      "AR.3            1.0377           -0.0000j            1.0377           -0.0000\n",
      "AR.4            1.2056           -1.2449j            1.7330           -0.1275\n",
      "AR.5            1.2056           +1.2449j            1.7330            0.1275\n",
      "-----------------------------------------------------------------------------\n",
      "\n",
      "LLTest P-value = 0.27\n"
     ]
    }
   ],
   "source": [
    "# AR ORDER 5\n",
    "ar5_model = ARMA(train_data.adjusted_close, order = (5, 0))\n",
    "result_ar5 = ar5_model.fit()\n",
    "print(result_ar5.summary())\n",
    "\n",
    "print(\"\\nLLTest P-value = \" + str(LLR_test(result_ar3, result_ar5, DF = 2)))"
   ]
  },
  {
   "cell_type": "code",
   "execution_count": 51,
   "metadata": {},
   "outputs": [
    {
     "name": "stdout",
     "output_type": "stream",
     "text": [
      "                              ARMA Model Results                              \n",
      "==============================================================================\n",
      "Dep. Variable:         adjusted_close   No. Observations:                  102\n",
      "Model:                    ARMA(10, 0)   Log Likelihood                -164.067\n",
      "Method:                       css-mle   S.D. of innovations              1.193\n",
      "Date:                Mon, 27 Jul 2020   AIC                            352.134\n",
      "Time:                        16:14:33   BIC                            383.634\n",
      "Sample:                    01-23-2020   HQIC                           364.890\n",
      "                         - 06-17-2020                                         \n",
      "=========================================================================================\n",
      "                            coef    std err          z      P>|z|      [0.025      0.975]\n",
      "-----------------------------------------------------------------------------------------\n",
      "const                    47.3100      1.635     28.928      0.000      44.105      50.515\n",
      "ar.L1.adjusted_close      0.8395      0.098      8.607      0.000       0.648       1.031\n",
      "ar.L2.adjusted_close      0.0944      0.128      0.735      0.462      -0.157       0.346\n",
      "ar.L3.adjusted_close      0.0610      0.129      0.474      0.635      -0.191       0.313\n",
      "ar.L4.adjusted_close     -0.1902      0.128     -1.485      0.138      -0.441       0.061\n",
      "ar.L5.adjusted_close      0.2320      0.131      1.777      0.076      -0.024       0.488\n",
      "ar.L6.adjusted_close      0.0107      0.131      0.081      0.935      -0.246       0.267\n",
      "ar.L7.adjusted_close     -0.0318      0.130     -0.245      0.806      -0.286       0.222\n",
      "ar.L8.adjusted_close     -0.0940      0.129     -0.727      0.467      -0.347       0.159\n",
      "ar.L9.adjusted_close      0.1499      0.129      1.165      0.244      -0.102       0.402\n",
      "ar.L10.adjusted_close    -0.1394      0.103     -1.359      0.174      -0.340       0.062\n",
      "                                    Roots                                     \n",
      "==============================================================================\n",
      "                   Real          Imaginary           Modulus         Frequency\n",
      "------------------------------------------------------------------------------\n",
      "AR.1            -1.1121           -0.4844j            1.2130           -0.4346\n",
      "AR.2            -1.1121           +0.4844j            1.2130            0.4346\n",
      "AR.3            -0.6322           -1.0015j            1.1844           -0.3396\n",
      "AR.4            -0.6322           +1.0015j            1.1844            0.3396\n",
      "AR.5             1.0928           -0.0801j            1.0958           -0.0117\n",
      "AR.6             1.0928           +0.0801j            1.0958            0.0117\n",
      "AR.7             0.8727           -0.9259j            1.2724           -0.1297\n",
      "AR.8             0.8727           +0.9259j            1.2724            0.1297\n",
      "AR.9             0.3164           -1.2990j            1.3370           -0.2120\n",
      "AR.10            0.3164           +1.2990j            1.3370            0.2120\n",
      "------------------------------------------------------------------------------\n",
      "\n",
      "LLTest P-value = 0.559\n"
     ]
    }
   ],
   "source": [
    "# AR ORDER 10\n",
    "ar10_model = ARMA(train_data.adjusted_close, order = (10, 0))\n",
    "result_ar10 = ar10_model.fit()\n",
    "print(result_ar10.summary())\n",
    "\n",
    "print(\"\\nLLTest P-value = \" + str(LLR_test(result_ar5, result_ar10, DF = 5)))"
   ]
  },
  {
   "cell_type": "code",
   "execution_count": 52,
   "metadata": {},
   "outputs": [
    {
     "name": "stdout",
     "output_type": "stream",
     "text": [
      "                              ARMA Model Results                              \n",
      "==============================================================================\n",
      "Dep. Variable:         adjusted_close   No. Observations:                  102\n",
      "Model:                    ARMA(15, 0)   Log Likelihood                -161.757\n",
      "Method:                       css-mle   S.D. of innovations              1.163\n",
      "Date:                Mon, 27 Jul 2020   AIC                            357.514\n",
      "Time:                        16:14:54   BIC                            402.139\n",
      "Sample:                    01-23-2020   HQIC                           375.584\n",
      "                         - 06-17-2020                                         \n",
      "=========================================================================================\n",
      "                            coef    std err          z      P>|z|      [0.025      0.975]\n",
      "-----------------------------------------------------------------------------------------\n",
      "const                    47.5829      2.114     22.513      0.000      43.440      51.725\n",
      "ar.L1.adjusted_close      0.8288      0.098      8.433      0.000       0.636       1.021\n",
      "ar.L2.adjusted_close      0.1165      0.129      0.905      0.365      -0.136       0.369\n",
      "ar.L3.adjusted_close      0.0888      0.129      0.688      0.492      -0.164       0.342\n",
      "ar.L4.adjusted_close     -0.1832      0.128     -1.426      0.154      -0.435       0.069\n",
      "ar.L5.adjusted_close      0.2111      0.132      1.602      0.109      -0.047       0.469\n",
      "ar.L6.adjusted_close     -0.0055      0.129     -0.042      0.966      -0.259       0.248\n",
      "ar.L7.adjusted_close     -0.0449      0.130     -0.344      0.730      -0.301       0.211\n",
      "ar.L8.adjusted_close     -0.1004      0.129     -0.775      0.438      -0.354       0.153\n",
      "ar.L9.adjusted_close      0.1404      0.130      1.077      0.281      -0.115       0.396\n",
      "ar.L10.adjusted_close    -0.2429      0.131     -1.859      0.063      -0.499       0.013\n",
      "ar.L11.adjusted_close    -0.0042      0.133     -0.032      0.975      -0.265       0.257\n",
      "ar.L12.adjusted_close     0.0702      0.131      0.536      0.592      -0.187       0.327\n",
      "ar.L13.adjusted_close     0.1080      0.130      0.831      0.406      -0.147       0.363\n",
      "ar.L14.adjusted_close     0.0616      0.129      0.477      0.633      -0.191       0.315\n",
      "ar.L15.adjusted_close    -0.0919      0.104     -0.886      0.376      -0.295       0.111\n",
      "                                    Roots                                     \n",
      "==============================================================================\n",
      "                   Real          Imaginary           Modulus         Frequency\n",
      "------------------------------------------------------------------------------\n",
      "AR.1            -1.0335           -0.4623j            1.1322           -0.4331\n",
      "AR.2            -1.0335           +0.4623j            1.1322            0.4331\n",
      "AR.3            -1.3792           -0.0000j            1.3792           -0.5000\n",
      "AR.4            -0.6872           -0.9231j            1.1508           -0.3519\n",
      "AR.5            -0.6872           +0.9231j            1.1508            0.3519\n",
      "AR.6            -0.4504           -1.1838j            1.2666           -0.3079\n",
      "AR.7            -0.4504           +1.1838j            1.2666            0.3079\n",
      "AR.8             0.1976           -1.1008j            1.1184           -0.2217\n",
      "AR.9             0.1976           +1.1008j            1.1184            0.2217\n",
      "AR.10            0.6685           -0.8484j            1.0801           -0.1438\n",
      "AR.11            0.6685           +0.8484j            1.0801            0.1438\n",
      "AR.12            1.0455           -0.0000j            1.0455           -0.0000\n",
      "AR.13            1.1133           -0.3601j            1.1701           -0.0498\n",
      "AR.14            1.1133           +0.3601j            1.1701            0.0498\n",
      "AR.15            1.3874           -0.0000j            1.3874           -0.0000\n",
      "------------------------------------------------------------------------------\n",
      "n\\LLTest P-value = 0.464\n"
     ]
    }
   ],
   "source": [
    "# AR ORDER 15\n",
    "ar15_model = ARMA(train_data.adjusted_close, order = (15, 0))\n",
    "result_ar15 = ar15_model.fit()\n",
    "print(result_ar15.summary())\n",
    "\n",
    "print(\"n\\LLTest P-value = \" + str(LLR_test(result_ar10, result_ar15, DF = 5)))"
   ]
  },
  {
   "cell_type": "markdown",
   "metadata": {},
   "source": [
    "# MA Model"
   ]
  },
  {
   "cell_type": "code",
   "execution_count": 56,
   "metadata": {},
   "outputs": [
    {
     "data": {
      "text/html": [
       "<div>\n",
       "<style scoped>\n",
       "    .dataframe tbody tr th:only-of-type {\n",
       "        vertical-align: middle;\n",
       "    }\n",
       "\n",
       "    .dataframe tbody tr th {\n",
       "        vertical-align: top;\n",
       "    }\n",
       "\n",
       "    .dataframe thead th {\n",
       "        text-align: right;\n",
       "    }\n",
       "</style>\n",
       "<table border=\"1\" class=\"dataframe\">\n",
       "  <thead>\n",
       "    <tr style=\"text-align: right;\">\n",
       "      <th></th>\n",
       "      <th>confirmed</th>\n",
       "      <th>High</th>\n",
       "      <th>Volume</th>\n",
       "      <th>adjusted_close</th>\n",
       "      <th>first_diff_adj_stock</th>\n",
       "    </tr>\n",
       "    <tr>\n",
       "      <th>Date</th>\n",
       "      <th></th>\n",
       "      <th></th>\n",
       "      <th></th>\n",
       "      <th></th>\n",
       "      <th></th>\n",
       "    </tr>\n",
       "  </thead>\n",
       "  <tbody>\n",
       "    <tr>\n",
       "      <th>2020-01-23</th>\n",
       "      <td>1</td>\n",
       "      <td>57.980000</td>\n",
       "      <td>227900.0</td>\n",
       "      <td>54.500458</td>\n",
       "      <td>-0.386795</td>\n",
       "    </tr>\n",
       "    <tr>\n",
       "      <th>2020-01-24</th>\n",
       "      <td>2</td>\n",
       "      <td>57.799999</td>\n",
       "      <td>146200.0</td>\n",
       "      <td>53.924980</td>\n",
       "      <td>-0.575478</td>\n",
       "    </tr>\n",
       "    <tr>\n",
       "      <th>2020-01-27</th>\n",
       "      <td>5</td>\n",
       "      <td>55.689999</td>\n",
       "      <td>230600.0</td>\n",
       "      <td>52.151379</td>\n",
       "      <td>-1.773602</td>\n",
       "    </tr>\n",
       "    <tr>\n",
       "      <th>2020-01-28</th>\n",
       "      <td>5</td>\n",
       "      <td>56.090000</td>\n",
       "      <td>174400.0</td>\n",
       "      <td>52.358929</td>\n",
       "      <td>0.207550</td>\n",
       "    </tr>\n",
       "    <tr>\n",
       "      <th>2020-01-29</th>\n",
       "      <td>5</td>\n",
       "      <td>55.900002</td>\n",
       "      <td>214500.0</td>\n",
       "      <td>52.104210</td>\n",
       "      <td>-0.254719</td>\n",
       "    </tr>\n",
       "  </tbody>\n",
       "</table>\n",
       "</div>"
      ],
      "text/plain": [
       "            confirmed       High    Volume  adjusted_close  \\\n",
       "Date                                                         \n",
       "2020-01-23          1  57.980000  227900.0       54.500458   \n",
       "2020-01-24          2  57.799999  146200.0       53.924980   \n",
       "2020-01-27          5  55.689999  230600.0       52.151379   \n",
       "2020-01-28          5  56.090000  174400.0       52.358929   \n",
       "2020-01-29          5  55.900002  214500.0       52.104210   \n",
       "\n",
       "            first_diff_adj_stock  \n",
       "Date                              \n",
       "2020-01-23             -0.386795  \n",
       "2020-01-24             -0.575478  \n",
       "2020-01-27             -1.773602  \n",
       "2020-01-28              0.207550  \n",
       "2020-01-29             -0.254719  "
      ]
     },
     "execution_count": 56,
     "metadata": {},
     "output_type": "execute_result"
    }
   ],
   "source": [
    "train_data.head()"
   ]
  },
  {
   "cell_type": "code",
   "execution_count": 53,
   "metadata": {},
   "outputs": [
    {
     "data": {
      "text/plain": [
       "<Figure size 864x576 with 0 Axes>"
      ]
     },
     "metadata": {},
     "output_type": "display_data"
    },
    {
     "data": {
      "image/png": "[encoded data removed]",
      "text/plain": [
       "<Figure size 432x288 with 1 Axes>"
      ]
     },
     "metadata": {},
     "output_type": "display_data"
    }
   ],
   "source": [
    "# ACF of differenced data\n",
    "\n",
    "plt.figure(figsize = (12, 8))\n",
    "plot_acf(train_data.adjusted_close, lags = 40, zero = False)\n",
    "plt.show()"
   ]
  },
  {
   "cell_type": "code",
   "execution_count": 57,
   "metadata": {},
   "outputs": [
    {
     "name": "stdout",
     "output_type": "stream",
     "text": [
      "                              ARMA Model Results                              \n",
      "==============================================================================\n",
      "Dep. Variable:         adjusted_close   No. Observations:                  102\n",
      "Model:                     ARMA(0, 1)   Log Likelihood                -216.503\n",
      "Method:                       css-mle   S.D. of innovations              2.011\n",
      "Date:                Mon, 27 Jul 2020   AIC                            439.005\n",
      "Time:                        16:17:33   BIC                            446.880\n",
      "Sample:                    01-23-2020   HQIC                           442.194\n",
      "                         - 06-17-2020                                         \n",
      "========================================================================================\n",
      "                           coef    std err          z      P>|z|      [0.025      0.975]\n",
      "----------------------------------------------------------------------------------------\n",
      "const                   46.8322      0.356    131.455      0.000      46.134      47.530\n",
      "ma.L1.adjusted_close     0.7968      0.049     16.286      0.000       0.701       0.893\n",
      "                                    Roots                                    \n",
      "=============================================================================\n",
      "                  Real          Imaginary           Modulus         Frequency\n",
      "-----------------------------------------------------------------------------\n",
      "MA.1           -1.2550           +0.0000j            1.2550            0.5000\n",
      "-----------------------------------------------------------------------------\n"
     ]
    }
   ],
   "source": [
    "# MA ORDER 1\n",
    "ma1_model = ARMA(train_data.adjusted_close, order = (0,1))\n",
    "result_ma1 = ma1_model.fit()\n",
    "print(result_ma1.summary())"
   ]
  },
  {
   "cell_type": "code",
   "execution_count": 58,
   "metadata": {},
   "outputs": [
    {
     "name": "stdout",
     "output_type": "stream",
     "text": [
      "                              ARMA Model Results                              \n",
      "==============================================================================\n",
      "Dep. Variable:         adjusted_close   No. Observations:                  102\n",
      "Model:                     ARMA(0, 2)   Log Likelihood                -201.697\n",
      "Method:                       css-mle   S.D. of innovations              1.739\n",
      "Date:                Mon, 27 Jul 2020   AIC                            411.393\n",
      "Time:                        16:17:40   BIC                            421.893\n",
      "Sample:                    01-23-2020   HQIC                           415.645\n",
      "                         - 06-17-2020                                         \n",
      "========================================================================================\n",
      "                           coef    std err          z      P>|z|      [0.025      0.975]\n",
      "----------------------------------------------------------------------------------------\n",
      "const                   46.8590      0.412    113.808      0.000      46.052      47.666\n",
      "ma.L1.adjusted_close     0.9469      0.095      9.934      0.000       0.760       1.134\n",
      "ma.L2.adjusted_close     0.4619      0.069      6.729      0.000       0.327       0.596\n",
      "                                    Roots                                    \n",
      "=============================================================================\n",
      "                  Real          Imaginary           Modulus         Frequency\n",
      "-----------------------------------------------------------------------------\n",
      "MA.1           -1.0250           -1.0556j            1.4714           -0.3727\n",
      "MA.2           -1.0250           +1.0556j            1.4714            0.3727\n",
      "-----------------------------------------------------------------------------\n",
      "n\\LLTest P-value = 0.0\n"
     ]
    }
   ],
   "source": [
    "# MA ORDER 2\n",
    "ma2_model = ARMA(train_data.adjusted_close, order = (0,2))\n",
    "result_ma2 = ma2_model.fit()\n",
    "print(result_ma2.summary())\n",
    "\n",
    "print(\"n\\LLTest P-value = \" + str(LLR_test(result_ma1, result_ma2)))"
   ]
  },
  {
   "cell_type": "code",
   "execution_count": 59,
   "metadata": {},
   "outputs": [
    {
     "name": "stdout",
     "output_type": "stream",
     "text": [
      "                              ARMA Model Results                              \n",
      "==============================================================================\n",
      "Dep. Variable:         adjusted_close   No. Observations:                  102\n",
      "Model:                     ARMA(0, 3)   Log Likelihood                -183.688\n",
      "Method:                       css-mle   S.D. of innovations              1.452\n",
      "Date:                Mon, 27 Jul 2020   AIC                            377.375\n",
      "Time:                        16:17:46   BIC                            390.500\n",
      "Sample:                    01-23-2020   HQIC                           382.690\n",
      "                         - 06-17-2020                                         \n",
      "========================================================================================\n",
      "                           coef    std err          z      P>|z|      [0.025      0.975]\n",
      "----------------------------------------------------------------------------------------\n",
      "const                   46.8809      0.481     97.413      0.000      45.938      47.824\n",
      "ma.L1.adjusted_close     0.9840      0.084     11.659      0.000       0.819       1.149\n",
      "ma.L2.adjusted_close     0.8423      0.092      9.196      0.000       0.663       1.022\n",
      "ma.L3.adjusted_close     0.5636      0.071      7.885      0.000       0.423       0.704\n",
      "                                    Roots                                    \n",
      "=============================================================================\n",
      "                  Real          Imaginary           Modulus         Frequency\n",
      "-----------------------------------------------------------------------------\n",
      "MA.1           -1.2404           -0.0000j            1.2404           -0.5000\n",
      "MA.2           -0.1271           -1.1893j            1.1961           -0.2670\n",
      "MA.3           -0.1271           +1.1893j            1.1961            0.2670\n",
      "-----------------------------------------------------------------------------\n",
      "n\\LLTest P-value = 0.0\n"
     ]
    }
   ],
   "source": [
    "# MA ORDER 3\n",
    "ma3_model = ARMA(train_data.adjusted_close, order = (0,3))\n",
    "result_ma3 = ma3_model.fit()\n",
    "print(result_ma3.summary())\n",
    "\n",
    "print(\"n\\LLTest P-value = \" + str(LLR_test(result_ma2, result_ma3)))"
   ]
  },
  {
   "cell_type": "code",
   "execution_count": 60,
   "metadata": {},
   "outputs": [
    {
     "name": "stdout",
     "output_type": "stream",
     "text": [
      "                              ARMA Model Results                              \n",
      "==============================================================================\n",
      "Dep. Variable:         adjusted_close   No. Observations:                  102\n",
      "Model:                     ARMA(0, 4)   Log Likelihood                -180.868\n",
      "Method:                       css-mle   S.D. of innovations              1.413\n",
      "Date:                Mon, 27 Jul 2020   AIC                            373.735\n",
      "Time:                        16:17:52   BIC                            389.485\n",
      "Sample:                    01-23-2020   HQIC                           380.113\n",
      "                         - 06-17-2020                                         \n",
      "========================================================================================\n",
      "                           coef    std err          z      P>|z|      [0.025      0.975]\n",
      "----------------------------------------------------------------------------------------\n",
      "const                   46.8976      0.537     87.404      0.000      45.846      47.949\n",
      "ma.L1.adjusted_close     1.0334      0.097     10.646      0.000       0.843       1.224\n",
      "ma.L2.adjusted_close     0.9363      0.123      7.613      0.000       0.695       1.177\n",
      "ma.L3.adjusted_close     0.7082      0.105      6.763      0.000       0.503       0.913\n",
      "ma.L4.adjusted_close     0.2130      0.090      2.365      0.018       0.036       0.390\n",
      "                                    Roots                                    \n",
      "=============================================================================\n",
      "                  Real          Imaginary           Modulus         Frequency\n",
      "-----------------------------------------------------------------------------\n",
      "MA.1            0.0354           -1.2219j            1.2224           -0.2454\n",
      "MA.2            0.0354           +1.2219j            1.2224            0.2454\n",
      "MA.3           -1.6978           -0.5091j            1.7725           -0.4536\n",
      "MA.4           -1.6978           +0.5091j            1.7725            0.4536\n",
      "-----------------------------------------------------------------------------\n",
      "n\\LLTest P-value = 0.018\n"
     ]
    }
   ],
   "source": [
    "# MA ORDER 4\n",
    "ma4_model = ARMA(train_data.adjusted_close, order = (0,4))\n",
    "result_ma4 = ma4_model.fit()\n",
    "print(result_ma4.summary())\n",
    "\n",
    "print(\"n\\LLTest P-value = \" + str(LLR_test(result_ma3, result_ma4)))"
   ]
  },
  {
   "cell_type": "code",
   "execution_count": 61,
   "metadata": {},
   "outputs": [
    {
     "name": "stdout",
     "output_type": "stream",
     "text": [
      "                              ARMA Model Results                              \n",
      "==============================================================================\n",
      "Dep. Variable:         adjusted_close   No. Observations:                  102\n",
      "Model:                     ARMA(0, 5)   Log Likelihood                -177.001\n",
      "Method:                       css-mle   S.D. of innovations              1.360\n",
      "Date:                Mon, 27 Jul 2020   AIC                            368.002\n",
      "Time:                        16:17:56   BIC                            386.377\n",
      "Sample:                    01-23-2020   HQIC                           375.443\n",
      "                         - 06-17-2020                                         \n",
      "========================================================================================\n",
      "                           coef    std err          z      P>|z|      [0.025      0.975]\n",
      "----------------------------------------------------------------------------------------\n",
      "const                   46.9478      0.584     80.396      0.000      45.803      48.092\n",
      "ma.L1.adjusted_close     0.9270      0.101      9.186      0.000       0.729       1.125\n",
      "ma.L2.adjusted_close     0.8759      0.116      7.565      0.000       0.649       1.103\n",
      "ma.L3.adjusted_close     0.8339      0.119      6.989      0.000       0.600       1.068\n",
      "ma.L4.adjusted_close     0.4883      0.144      3.396      0.001       0.207       0.770\n",
      "ma.L5.adjusted_close     0.2912      0.088      3.303      0.001       0.118       0.464\n",
      "                                    Roots                                    \n",
      "=============================================================================\n",
      "                  Real          Imaginary           Modulus         Frequency\n",
      "-----------------------------------------------------------------------------\n",
      "MA.1            0.4261           -1.1297j            1.2073           -0.1926\n",
      "MA.2            0.4261           +1.1297j            1.2073            0.1926\n",
      "MA.3           -1.1981           -0.0000j            1.1981           -0.5000\n",
      "MA.4           -0.6655           -1.2343j            1.4022           -0.3287\n",
      "MA.5           -0.6655           +1.2343j            1.4022            0.3287\n",
      "-----------------------------------------------------------------------------\n",
      "n\\LLTest P-value = 0.005\n"
     ]
    }
   ],
   "source": [
    "# MA ORDER 5\n",
    "ma5_model = ARMA(train_data.adjusted_close, order = (0,5))\n",
    "result_ma5 = ma5_model.fit()\n",
    "print(result_ma5.summary())\n",
    "\n",
    "print(\"n\\LLTest P-value = \" + str(LLR_test(result_ma4, result_ma5)))"
   ]
  },
  {
   "cell_type": "code",
   "execution_count": 62,
   "metadata": {},
   "outputs": [
    {
     "name": "stdout",
     "output_type": "stream",
     "text": [
      "                              ARMA Model Results                              \n",
      "==============================================================================\n",
      "Dep. Variable:         adjusted_close   No. Observations:                  102\n",
      "Model:                     ARMA(0, 6)   Log Likelihood                -173.922\n",
      "Method:                       css-mle   S.D. of innovations              1.319\n",
      "Date:                Mon, 27 Jul 2020   AIC                            363.843\n",
      "Time:                        16:18:02   BIC                            384.843\n",
      "Sample:                    01-23-2020   HQIC                           372.347\n",
      "                         - 06-17-2020                                         \n",
      "========================================================================================\n",
      "                           coef    std err          z      P>|z|      [0.025      0.975]\n",
      "----------------------------------------------------------------------------------------\n",
      "const                   46.9518      0.644     72.962      0.000      45.691      48.213\n",
      "ma.L1.adjusted_close     0.9524      0.098      9.693      0.000       0.760       1.145\n",
      "ma.L2.adjusted_close     0.9555      0.135      7.058      0.000       0.690       1.221\n",
      "ma.L3.adjusted_close     0.9332      0.154      6.075      0.000       0.632       1.234\n",
      "ma.L4.adjusted_close     0.5465      0.144      3.795      0.000       0.264       0.829\n",
      "ma.L5.adjusted_close     0.4379      0.105      4.158      0.000       0.231       0.644\n",
      "ma.L6.adjusted_close     0.2085      0.081      2.589      0.010       0.051       0.366\n",
      "                                    Roots                                    \n",
      "=============================================================================\n",
      "                  Real          Imaginary           Modulus         Frequency\n",
      "-----------------------------------------------------------------------------\n",
      "MA.1            0.5955           -1.0992j            1.2501           -0.1710\n",
      "MA.2            0.5955           +1.0992j            1.2501            0.1710\n",
      "MA.3           -0.2596           -1.2051j            1.2328           -0.2838\n",
      "MA.4           -0.2596           +1.2051j            1.2328            0.2838\n",
      "MA.5           -1.3861           -0.3133j            1.4210           -0.4646\n",
      "MA.6           -1.3861           +0.3133j            1.4210            0.4646\n",
      "-----------------------------------------------------------------------------\n",
      "n\\LLTest P-value = 0.013\n"
     ]
    }
   ],
   "source": [
    "# MA ORDER 6\n",
    "ma6_model = ARMA(train_data.adjusted_close, order = (0,6))\n",
    "result_ma6 = ma6_model.fit()\n",
    "print(result_ma6.summary())\n",
    "\n",
    "print(\"n\\LLTest P-value = \" + str(LLR_test(result_ma5, result_ma6)))"
   ]
  },
  {
   "cell_type": "code",
   "execution_count": 63,
   "metadata": {},
   "outputs": [
    {
     "name": "stdout",
     "output_type": "stream",
     "text": [
      "                              ARMA Model Results                              \n",
      "==============================================================================\n",
      "Dep. Variable:         adjusted_close   No. Observations:                  102\n",
      "Model:                     ARMA(0, 7)   Log Likelihood                -172.147\n",
      "Method:                       css-mle   S.D. of innovations              1.296\n",
      "Date:                Mon, 27 Jul 2020   AIC                            362.294\n",
      "Time:                        16:18:08   BIC                            385.919\n",
      "Sample:                    01-23-2020   HQIC                           371.861\n",
      "                         - 06-17-2020                                         \n",
      "========================================================================================\n",
      "                           coef    std err          z      P>|z|      [0.025      0.975]\n",
      "----------------------------------------------------------------------------------------\n",
      "const                   46.9654      0.679     69.186      0.000      45.635      48.296\n",
      "ma.L1.adjusted_close     0.9574      0.101      9.460      0.000       0.759       1.156\n",
      "ma.L2.adjusted_close     0.9203      0.148      6.200      0.000       0.629       1.211\n",
      "ma.L3.adjusted_close     0.8644      0.170      5.092      0.000       0.532       1.197\n",
      "ma.L4.adjusted_close     0.5769      0.152      3.792      0.000       0.279       0.875\n",
      "ma.L5.adjusted_close     0.5162      0.121      4.275      0.000       0.280       0.753\n",
      "ma.L6.adjusted_close     0.3869      0.118      3.280      0.001       0.156       0.618\n",
      "ma.L7.adjusted_close     0.1969      0.098      2.008      0.045       0.005       0.389\n",
      "                                    Roots                                    \n",
      "=============================================================================\n",
      "                  Real          Imaginary           Modulus         Frequency\n",
      "-----------------------------------------------------------------------------\n",
      "MA.1            0.7757           -0.9455j            1.2230           -0.1406\n",
      "MA.2            0.7757           +0.9455j            1.2230            0.1406\n",
      "MA.3           -0.0895           -1.1684j            1.1718           -0.2622\n",
      "MA.4           -0.0895           +1.1684j            1.1718            0.2622\n",
      "MA.5           -1.2195           -0.0000j            1.2195           -0.5000\n",
      "MA.6           -1.0589           -0.9522j            1.4241           -0.3834\n",
      "MA.7           -1.0589           +0.9522j            1.4241            0.3834\n",
      "-----------------------------------------------------------------------------\n",
      "n\\LLTest P-value = 0.06\n"
     ]
    }
   ],
   "source": [
    "# MA ORDER 7\n",
    "ma7_model = ARMA(train_data.adjusted_close, order = (0,7))\n",
    "result_ma7 = ma7_model.fit()\n",
    "print(result_ma7.summary())\n",
    "\n",
    "print(\"n\\LLTest P-value = \" + str(LLR_test(result_ma6, result_ma7)))"
   ]
  },
  {
   "cell_type": "code",
   "execution_count": 64,
   "metadata": {},
   "outputs": [
    {
     "name": "stdout",
     "output_type": "stream",
     "text": [
      "                              ARMA Model Results                              \n",
      "==============================================================================\n",
      "Dep. Variable:         adjusted_close   No. Observations:                  102\n",
      "Model:                     ARMA(0, 8)   Log Likelihood                -171.572\n",
      "Method:                       css-mle   S.D. of innovations              1.289\n",
      "Date:                Mon, 27 Jul 2020   AIC                            363.143\n",
      "Time:                        16:18:14   BIC                            389.393\n",
      "Sample:                    01-23-2020   HQIC                           373.773\n",
      "                         - 06-17-2020                                         \n",
      "========================================================================================\n",
      "                           coef    std err          z      P>|z|      [0.025      0.975]\n",
      "----------------------------------------------------------------------------------------\n",
      "const                   46.9698      0.694     67.642      0.000      45.609      48.331\n",
      "ma.L1.adjusted_close     0.9130      0.117      7.790      0.000       0.683       1.143\n",
      "ma.L2.adjusted_close     0.8527      0.180      4.725      0.000       0.499       1.206\n",
      "ma.L3.adjusted_close     0.8062      0.205      3.931      0.000       0.404       1.208\n",
      "ma.L4.adjusted_close     0.5165      0.190      2.718      0.007       0.144       0.889\n",
      "ma.L5.adjusted_close     0.5596      0.122      4.575      0.000       0.320       0.799\n",
      "ma.L6.adjusted_close     0.4811      0.147      3.278      0.001       0.193       0.769\n",
      "ma.L7.adjusted_close     0.3280      0.183      1.794      0.073      -0.030       0.687\n",
      "ma.L8.adjusted_close     0.1347      0.142      0.946      0.344      -0.144       0.414\n",
      "                                    Roots                                    \n",
      "=============================================================================\n",
      "                  Real          Imaginary           Modulus         Frequency\n",
      "-----------------------------------------------------------------------------\n",
      "MA.1            0.8445           -0.8202j            1.1772           -0.1227\n",
      "MA.2            0.8445           +0.8202j            1.1772            0.1227\n",
      "MA.3            0.0067           -1.1801j            1.1801           -0.2491\n",
      "MA.4            0.0067           +1.1801j            1.1801            0.2491\n",
      "MA.5           -0.7209           -1.2384j            1.4329           -0.3339\n",
      "MA.6           -0.7209           +1.2384j            1.4329            0.3339\n",
      "MA.7           -1.3476           -0.2384j            1.3685           -0.4721\n",
      "MA.8           -1.3476           +0.2384j            1.3685            0.4721\n",
      "-----------------------------------------------------------------------------\n",
      "n\\LLTest P-value = 0.283\n"
     ]
    }
   ],
   "source": [
    "# MA ORDER 8\n",
    "ma8_model = ARMA(train_data.adjusted_close, order = (0,8))\n",
    "result_ma8 = ma8_model.fit()\n",
    "print(result_ma8.summary())\n",
    "\n",
    "print(\"n\\LLTest P-value = \" + str(LLR_test(result_ma7, result_ma8)))"
   ]
  },
  {
   "cell_type": "code",
   "execution_count": 65,
   "metadata": {},
   "outputs": [
    {
     "name": "stdout",
     "output_type": "stream",
     "text": [
      "                              ARMA Model Results                              \n",
      "==============================================================================\n",
      "Dep. Variable:         adjusted_close   No. Observations:                  102\n",
      "Model:                     ARMA(0, 9)   Log Likelihood                -165.451\n",
      "Method:                       css-mle   S.D. of innovations              1.166\n",
      "Date:                Mon, 27 Jul 2020   AIC                            352.902\n",
      "Time:                        16:18:28   BIC                            381.776\n",
      "Sample:                    01-23-2020   HQIC                           364.594\n",
      "                         - 06-17-2020                                         \n",
      "========================================================================================\n",
      "                           coef    std err          z      P>|z|      [0.025      0.975]\n",
      "----------------------------------------------------------------------------------------\n",
      "const                   47.0592      0.762     61.722      0.000      45.565      48.554\n",
      "ma.L1.adjusted_close     0.6320      0.104      6.090      0.000       0.429       0.835\n",
      "ma.L2.adjusted_close     0.6101      0.113      5.377      0.000       0.388       0.832\n",
      "ma.L3.adjusted_close     0.7558      0.120      6.292      0.000       0.520       0.991\n",
      "ma.L4.adjusted_close     0.6603      0.098      6.750      0.000       0.469       0.852\n",
      "ma.L5.adjusted_close     0.5996      0.092      6.505      0.000       0.419       0.780\n",
      "ma.L6.adjusted_close     0.5970      0.136      4.385      0.000       0.330       0.864\n",
      "ma.L7.adjusted_close     0.6814      0.158      4.326      0.000       0.373       0.990\n",
      "ma.L8.adjusted_close     0.7327      0.149      4.925      0.000       0.441       1.024\n",
      "ma.L9.adjusted_close     0.5955      0.115      5.201      0.000       0.371       0.820\n",
      "                                    Roots                                    \n",
      "=============================================================================\n",
      "                  Real          Imaginary           Modulus         Frequency\n",
      "-----------------------------------------------------------------------------\n",
      "MA.1            0.8351           -0.5732j            1.0129           -0.0957\n",
      "MA.2            0.8351           +0.5732j            1.0129            0.0957\n",
      "MA.3            0.3346           -0.9424j            1.0001           -0.1957\n",
      "MA.4            0.3346           +0.9424j            1.0001            0.1957\n",
      "MA.5           -0.3283           -1.0494j            1.0995           -0.2983\n",
      "MA.6           -0.3283           +1.0494j            1.0995            0.2983\n",
      "MA.7           -1.0879           -0.0000j            1.0879           -0.5000\n",
      "MA.8           -0.9127           -0.6413j            1.1155           -0.4025\n",
      "MA.9           -0.9127           +0.6413j            1.1155            0.4025\n",
      "-----------------------------------------------------------------------------\n",
      "n\\LLTest P-value = 0.0\n"
     ]
    }
   ],
   "source": [
    "# MA ORDER 9\n",
    "ma9_model = ARMA(train_data.adjusted_close, order = (0,9))\n",
    "result_ma9 = ma9_model.fit()\n",
    "print(result_ma9.summary())\n",
    "\n",
    "print(\"n\\LLTest P-value = \" + str(LLR_test(result_ma8, result_ma9)))"
   ]
  },
  {
   "cell_type": "code",
   "execution_count": null,
   "metadata": {},
   "outputs": [
    {
     "name": "stderr",
     "output_type": "stream",
     "text": [
      "C:\\ProgramData\\Anaconda3\\lib\\site-packages\\statsmodels\\base\\model.py:568: ConvergenceWarning: Maximum Likelihood optimization failed to converge. Check mle_retvals\n",
      "  \"Check mle_retvals\", ConvergenceWarning)\n",
      "C:\\ProgramData\\Anaconda3\\lib\\site-packages\\statsmodels\\base\\model.py:548: HessianInversionWarning: Inverting hessian failed, no bse or cov_params available\n",
      "  'available', HessianInversionWarning)\n",
      "C:\\ProgramData\\Anaconda3\\lib\\site-packages\\statsmodels\\base\\model.py:568: ConvergenceWarning: Maximum Likelihood optimization failed to converge. Check mle_retvals\n",
      "  \"Check mle_retvals\", ConvergenceWarning)\n",
      "C:\\ProgramData\\Anaconda3\\lib\\site-packages\\statsmodels\\base\\model.py:548: HessianInversionWarning: Inverting hessian failed, no bse or cov_params available\n",
      "  'available', HessianInversionWarning)\n",
      "C:\\ProgramData\\Anaconda3\\lib\\site-packages\\statsmodels\\base\\model.py:548: HessianInversionWarning: Inverting hessian failed, no bse or cov_params available\n",
      "  'available', HessianInversionWarning)\n",
      "C:\\ProgramData\\Anaconda3\\lib\\site-packages\\statsmodels\\base\\model.py:568: ConvergenceWarning: Maximum Likelihood optimization failed to converge. Check mle_retvals\n",
      "  \"Check mle_retvals\", ConvergenceWarning)\n",
      "C:\\ProgramData\\Anaconda3\\lib\\site-packages\\statsmodels\\base\\model.py:548: HessianInversionWarning: Inverting hessian failed, no bse or cov_params available\n",
      "  'available', HessianInversionWarning)\n",
      "C:\\ProgramData\\Anaconda3\\lib\\site-packages\\statsmodels\\base\\model.py:548: HessianInversionWarning: Inverting hessian failed, no bse or cov_params available\n",
      "  'available', HessianInversionWarning)\n",
      "C:\\ProgramData\\Anaconda3\\lib\\site-packages\\statsmodels\\base\\model.py:548: HessianInversionWarning: Inverting hessian failed, no bse or cov_params available\n",
      "  'available', HessianInversionWarning)\n",
      "C:\\ProgramData\\Anaconda3\\lib\\site-packages\\statsmodels\\base\\model.py:548: HessianInversionWarning: Inverting hessian failed, no bse or cov_params available\n",
      "  'available', HessianInversionWarning)\n",
      "C:\\ProgramData\\Anaconda3\\lib\\site-packages\\statsmodels\\tsa\\tsatools.py:689: RuntimeWarning: overflow encountered in exp\n",
      "  newparams = ((1-np.exp(-params))/(1+np.exp(-params))).copy()\n",
      "C:\\ProgramData\\Anaconda3\\lib\\site-packages\\statsmodels\\tsa\\tsatools.py:689: RuntimeWarning: invalid value encountered in true_divide\n",
      "  newparams = ((1-np.exp(-params))/(1+np.exp(-params))).copy()\n",
      "C:\\ProgramData\\Anaconda3\\lib\\site-packages\\statsmodels\\tsa\\tsatools.py:690: RuntimeWarning: overflow encountered in exp\n",
      "  tmp = ((1-np.exp(-params))/(1+np.exp(-params))).copy()\n",
      "C:\\ProgramData\\Anaconda3\\lib\\site-packages\\statsmodels\\tsa\\tsatools.py:690: RuntimeWarning: invalid value encountered in true_divide\n",
      "  tmp = ((1-np.exp(-params))/(1+np.exp(-params))).copy()\n",
      "C:\\ProgramData\\Anaconda3\\lib\\site-packages\\statsmodels\\base\\model.py:548: HessianInversionWarning: Inverting hessian failed, no bse or cov_params available\n",
      "  'available', HessianInversionWarning)\n"
     ]
    }
   ],
   "source": [
    "res = sm.tsa.arma_order_select_ic(train_data.adjusted_close, max_ar=10, max_ma=10, ic='bic')\n",
    "print(res)"
   ]
  },
  {
   "cell_type": "code",
   "execution_count": 90,
   "metadata": {},
   "outputs": [],
   "source": [
    "resDiff = sm.tsa.arma_order_select_ic(train_data.adjusted_close.values, max_ar=7, max_ma=7, ic='aic', trend='c')\n",
    "print('ARMA(p,q) =',resDiff['aic_min_order'],'is the best.')\n",
    "\n",
    "\n",
    "#sm.tsa.arma_order_select_ic(ts.values,max_ar=6,max_ma=4,ic='aic')['aic_min_order'] # AIC."
   ]
  },
  {
   "cell_type": "code",
   "execution_count": 93,
   "metadata": {},
   "outputs": [
    {
     "name": "stderr",
     "output_type": "stream",
     "text": [
      "C:\\ProgramData\\Anaconda3\\lib\\site-packages\\statsmodels\\base\\model.py:548: HessianInversionWarning: Inverting hessian failed, no bse or cov_params available\n",
      "  'available', HessianInversionWarning)\n",
      "C:\\ProgramData\\Anaconda3\\lib\\site-packages\\statsmodels\\base\\model.py:548: HessianInversionWarning: Inverting hessian failed, no bse or cov_params available\n",
      "  'available', HessianInversionWarning)\n",
      "C:\\ProgramData\\Anaconda3\\lib\\site-packages\\statsmodels\\base\\model.py:548: HessianInversionWarning: Inverting hessian failed, no bse or cov_params available\n",
      "  'available', HessianInversionWarning)\n",
      "C:\\ProgramData\\Anaconda3\\lib\\site-packages\\statsmodels\\tsa\\tsatools.py:689: RuntimeWarning: overflow encountered in exp\n",
      "  newparams = ((1-np.exp(-params))/(1+np.exp(-params))).copy()\n",
      "C:\\ProgramData\\Anaconda3\\lib\\site-packages\\statsmodels\\tsa\\tsatools.py:689: RuntimeWarning: invalid value encountered in true_divide\n",
      "  newparams = ((1-np.exp(-params))/(1+np.exp(-params))).copy()\n",
      "C:\\ProgramData\\Anaconda3\\lib\\site-packages\\statsmodels\\tsa\\tsatools.py:690: RuntimeWarning: overflow encountered in exp\n",
      "  tmp = ((1-np.exp(-params))/(1+np.exp(-params))).copy()\n",
      "C:\\ProgramData\\Anaconda3\\lib\\site-packages\\statsmodels\\tsa\\tsatools.py:690: RuntimeWarning: invalid value encountered in true_divide\n",
      "  tmp = ((1-np.exp(-params))/(1+np.exp(-params))).copy()\n",
      "C:\\ProgramData\\Anaconda3\\lib\\site-packages\\statsmodels\\base\\model.py:548: HessianInversionWarning: Inverting hessian failed, no bse or cov_params available\n",
      "  'available', HessianInversionWarning)\n",
      "C:\\ProgramData\\Anaconda3\\lib\\site-packages\\statsmodels\\base\\model.py:548: HessianInversionWarning: Inverting hessian failed, no bse or cov_params available\n",
      "  'available', HessianInversionWarning)\n",
      "C:\\ProgramData\\Anaconda3\\lib\\site-packages\\statsmodels\\base\\model.py:548: HessianInversionWarning: Inverting hessian failed, no bse or cov_params available\n",
      "  'available', HessianInversionWarning)\n",
      "C:\\ProgramData\\Anaconda3\\lib\\site-packages\\statsmodels\\base\\model.py:548: HessianInversionWarning: Inverting hessian failed, no bse or cov_params available\n",
      "  'available', HessianInversionWarning)\n",
      "C:\\ProgramData\\Anaconda3\\lib\\site-packages\\statsmodels\\base\\model.py:548: HessianInversionWarning: Inverting hessian failed, no bse or cov_params available\n",
      "  'available', HessianInversionWarning)\n",
      "C:\\ProgramData\\Anaconda3\\lib\\site-packages\\statsmodels\\base\\model.py:548: HessianInversionWarning: Inverting hessian failed, no bse or cov_params available\n",
      "  'available', HessianInversionWarning)\n",
      "C:\\ProgramData\\Anaconda3\\lib\\site-packages\\statsmodels\\base\\model.py:548: HessianInversionWarning: Inverting hessian failed, no bse or cov_params available\n",
      "  'available', HessianInversionWarning)\n",
      "C:\\ProgramData\\Anaconda3\\lib\\site-packages\\statsmodels\\base\\model.py:548: HessianInversionWarning: Inverting hessian failed, no bse or cov_params available\n",
      "  'available', HessianInversionWarning)\n",
      "C:\\ProgramData\\Anaconda3\\lib\\site-packages\\statsmodels\\base\\model.py:548: HessianInversionWarning: Inverting hessian failed, no bse or cov_params available\n",
      "  'available', HessianInversionWarning)\n",
      "C:\\ProgramData\\Anaconda3\\lib\\site-packages\\statsmodels\\base\\model.py:548: HessianInversionWarning: Inverting hessian failed, no bse or cov_params available\n",
      "  'available', HessianInversionWarning)\n"
     ]
    },
    {
     "data": {
      "text/plain": [
       "{'aic':             0           1           2           3           4           5  \\\n",
       " 0  524.073140  439.005417  411.393233  377.375477  373.735324  368.002103   \n",
       " 1  342.177201  342.721705  344.718962  346.539218  346.485200  346.118429   \n",
       " 2  342.750156  344.720355  345.281210  346.664592  347.405828  346.334844   \n",
       " 3  344.688384  344.820412  344.323696  348.197280  348.606622  346.040943   \n",
       " 4  346.094019  346.324371  348.294130  347.692149  349.011851  352.086071   \n",
       " 5  346.070870  347.966621  348.654146  349.950428  351.963075  353.502909   \n",
       " 6  347.836228  348.972063  350.585105  351.386536  353.962962  349.190791   \n",
       " 7  348.791803  350.369143  349.080622  351.680801  353.641624  352.695401   \n",
       " \n",
       "             6           7  \n",
       " 0  363.843316  362.294346  \n",
       " 1  346.984397  348.109278  \n",
       " 2  347.747887  350.334342  \n",
       " 3  345.877504  351.522347  \n",
       " 4  347.741477  349.763256  \n",
       " 5  348.827446  351.719759  \n",
       " 6  351.653164  352.644585  \n",
       " 7  351.767885  353.138387  ,\n",
       " 'aic_min_order': (1, 0)}"
      ]
     },
     "execution_count": 93,
     "metadata": {},
     "output_type": "execute_result"
    }
   ],
   "source": [
    "sm.tsa.arma_order_select_ic(train_data.adjusted_close, max_ar=7, max_ma=7, ic='aic', trend='c')"
   ]
  },
  {
   "cell_type": "code",
   "execution_count": 28,
   "metadata": {},
   "outputs": [],
   "source": [
    "# Note: MA order 6 is performing better than the other"
   ]
  },
  {
   "cell_type": "markdown",
   "metadata": {},
   "source": [
    "# ARIMA Model"
   ]
  },
  {
   "cell_type": "code",
   "execution_count": 30,
   "metadata": {},
   "outputs": [],
   "source": [
    "from statsmodels.tsa.arima_model import ARIMA"
   ]
  },
  {
   "cell_type": "code",
   "execution_count": 31,
   "metadata": {},
   "outputs": [
    {
     "data": {
      "text/html": [
       "<div>\n",
       "<style scoped>\n",
       "    .dataframe tbody tr th:only-of-type {\n",
       "        vertical-align: middle;\n",
       "    }\n",
       "\n",
       "    .dataframe tbody tr th {\n",
       "        vertical-align: top;\n",
       "    }\n",
       "\n",
       "    .dataframe thead th {\n",
       "        text-align: right;\n",
       "    }\n",
       "</style>\n",
       "<table border=\"1\" class=\"dataframe\">\n",
       "  <thead>\n",
       "    <tr style=\"text-align: right;\">\n",
       "      <th></th>\n",
       "      <th>confirmed</th>\n",
       "      <th>High</th>\n",
       "      <th>Volume</th>\n",
       "      <th>adjusted_close</th>\n",
       "      <th>first_diff_adj_stock</th>\n",
       "    </tr>\n",
       "    <tr>\n",
       "      <th>Date</th>\n",
       "      <th></th>\n",
       "      <th></th>\n",
       "      <th></th>\n",
       "      <th></th>\n",
       "      <th></th>\n",
       "    </tr>\n",
       "  </thead>\n",
       "  <tbody>\n",
       "    <tr>\n",
       "      <th>2020-01-23</th>\n",
       "      <td>1</td>\n",
       "      <td>57.980000</td>\n",
       "      <td>227900.0</td>\n",
       "      <td>54.500458</td>\n",
       "      <td>-0.386795</td>\n",
       "    </tr>\n",
       "    <tr>\n",
       "      <th>2020-01-24</th>\n",
       "      <td>2</td>\n",
       "      <td>57.799999</td>\n",
       "      <td>146200.0</td>\n",
       "      <td>53.924980</td>\n",
       "      <td>-0.575478</td>\n",
       "    </tr>\n",
       "    <tr>\n",
       "      <th>2020-01-27</th>\n",
       "      <td>5</td>\n",
       "      <td>55.689999</td>\n",
       "      <td>230600.0</td>\n",
       "      <td>52.151379</td>\n",
       "      <td>-1.773602</td>\n",
       "    </tr>\n",
       "    <tr>\n",
       "      <th>2020-01-28</th>\n",
       "      <td>5</td>\n",
       "      <td>56.090000</td>\n",
       "      <td>174400.0</td>\n",
       "      <td>52.358929</td>\n",
       "      <td>0.207550</td>\n",
       "    </tr>\n",
       "    <tr>\n",
       "      <th>2020-01-29</th>\n",
       "      <td>5</td>\n",
       "      <td>55.900002</td>\n",
       "      <td>214500.0</td>\n",
       "      <td>52.104210</td>\n",
       "      <td>-0.254719</td>\n",
       "    </tr>\n",
       "    <tr>\n",
       "      <th>...</th>\n",
       "      <td>...</td>\n",
       "      <td>...</td>\n",
       "      <td>...</td>\n",
       "      <td>...</td>\n",
       "      <td>...</td>\n",
       "    </tr>\n",
       "    <tr>\n",
       "      <th>2020-06-11</th>\n",
       "      <td>2023656</td>\n",
       "      <td>45.169998</td>\n",
       "      <td>247500.0</td>\n",
       "      <td>43.849998</td>\n",
       "      <td>-2.490002</td>\n",
       "    </tr>\n",
       "    <tr>\n",
       "      <th>2020-06-12</th>\n",
       "      <td>2048986</td>\n",
       "      <td>44.590000</td>\n",
       "      <td>244300.0</td>\n",
       "      <td>44.110001</td>\n",
       "      <td>0.260002</td>\n",
       "    </tr>\n",
       "    <tr>\n",
       "      <th>2020-06-15</th>\n",
       "      <td>2114026</td>\n",
       "      <td>44.090000</td>\n",
       "      <td>154800.0</td>\n",
       "      <td>43.599998</td>\n",
       "      <td>-0.510002</td>\n",
       "    </tr>\n",
       "    <tr>\n",
       "      <th>2020-06-16</th>\n",
       "      <td>2137731</td>\n",
       "      <td>45.029999</td>\n",
       "      <td>113200.0</td>\n",
       "      <td>44.230000</td>\n",
       "      <td>0.630001</td>\n",
       "    </tr>\n",
       "    <tr>\n",
       "      <th>2020-06-17</th>\n",
       "      <td>2163290</td>\n",
       "      <td>44.630001</td>\n",
       "      <td>145000.0</td>\n",
       "      <td>44.369999</td>\n",
       "      <td>0.139999</td>\n",
       "    </tr>\n",
       "  </tbody>\n",
       "</table>\n",
       "<p>102 rows × 5 columns</p>\n",
       "</div>"
      ],
      "text/plain": [
       "            confirmed       High    Volume  adjusted_close  \\\n",
       "Date                                                         \n",
       "2020-01-23          1  57.980000  227900.0       54.500458   \n",
       "2020-01-24          2  57.799999  146200.0       53.924980   \n",
       "2020-01-27          5  55.689999  230600.0       52.151379   \n",
       "2020-01-28          5  56.090000  174400.0       52.358929   \n",
       "2020-01-29          5  55.900002  214500.0       52.104210   \n",
       "...               ...        ...       ...             ...   \n",
       "2020-06-11    2023656  45.169998  247500.0       43.849998   \n",
       "2020-06-12    2048986  44.590000  244300.0       44.110001   \n",
       "2020-06-15    2114026  44.090000  154800.0       43.599998   \n",
       "2020-06-16    2137731  45.029999  113200.0       44.230000   \n",
       "2020-06-17    2163290  44.630001  145000.0       44.369999   \n",
       "\n",
       "            first_diff_adj_stock  \n",
       "Date                              \n",
       "2020-01-23             -0.386795  \n",
       "2020-01-24             -0.575478  \n",
       "2020-01-27             -1.773602  \n",
       "2020-01-28              0.207550  \n",
       "2020-01-29             -0.254719  \n",
       "...                          ...  \n",
       "2020-06-11             -2.490002  \n",
       "2020-06-12              0.260002  \n",
       "2020-06-15             -0.510002  \n",
       "2020-06-16              0.630001  \n",
       "2020-06-17              0.139999  \n",
       "\n",
       "[102 rows x 5 columns]"
      ]
     },
     "execution_count": 31,
     "metadata": {},
     "output_type": "execute_result"
    }
   ],
   "source": [
    "# ARIMA (1, 1, 1)\n",
    "train_data"
   ]
  },
  {
   "cell_type": "code",
   "execution_count": null,
   "metadata": {},
   "outputs": [],
   "source": [
    "# MA ORDER 8\n",
    "ma8_model = ARMA(train_data.adjusted_close, order = (0,8))\n",
    "result_ma8 = ma8_model.fit()\n",
    "print(result_ma8.summary())"
   ]
  },
  {
   "cell_type": "code",
   "execution_count": 67,
   "metadata": {},
   "outputs": [],
   "source": [
    "# install the package\n",
    "#!pip install pmdarima\n",
    "# from pmdarima.arima import auto_arima"
   ]
  },
  {
   "cell_type": "code",
   "execution_count": 69,
   "metadata": {},
   "outputs": [],
   "source": [
    "import pmdarima as pm"
   ]
  },
  {
   "cell_type": "code",
   "execution_count": 76,
   "metadata": {},
   "outputs": [
    {
     "name": "stderr",
     "output_type": "stream",
     "text": [
      "C:\\ProgramData\\Anaconda3\\lib\\site-packages\\statsmodels\\base\\model.py:568: ConvergenceWarning: Maximum Likelihood optimization failed to converge. Check mle_retvals\n",
      "  \"Check mle_retvals\", ConvergenceWarning)\n"
     ]
    }
   ],
   "source": [
    "# Fit your model\n",
    "model = pm.auto_arima(train_data.adjusted_close, exogen = train_data.confirmed)"
   ]
  },
  {
   "cell_type": "code",
   "execution_count": 74,
   "metadata": {},
   "outputs": [
    {
     "data": {
      "text/html": [
       "<table class=\"simpletable\">\n",
       "<caption>SARIMAX Results</caption>\n",
       "<tr>\n",
       "  <th>Dep. Variable:</th>           <td>y</td>        <th>  No. Observations:  </th>    <td>102</td>  \n",
       "</tr>\n",
       "<tr>\n",
       "  <th>Model:</th>           <td>SARIMAX(0, 1, 0)</td> <th>  Log Likelihood     </th> <td>-166.715</td>\n",
       "</tr>\n",
       "<tr>\n",
       "  <th>Date:</th>            <td>Mon, 27 Jul 2020</td> <th>  AIC                </th>  <td>335.429</td>\n",
       "</tr>\n",
       "<tr>\n",
       "  <th>Time:</th>                <td>16:29:12</td>     <th>  BIC                </th>  <td>338.045</td>\n",
       "</tr>\n",
       "<tr>\n",
       "  <th>Sample:</th>                  <td>0</td>        <th>  HQIC               </th>  <td>336.488</td>\n",
       "</tr>\n",
       "<tr>\n",
       "  <th></th>                      <td> - 102</td>      <th>                     </th>     <td> </td>   \n",
       "</tr>\n",
       "<tr>\n",
       "  <th>Covariance Type:</th>        <td>opg</td>       <th>                     </th>     <td> </td>   \n",
       "</tr>\n",
       "</table>\n",
       "<table class=\"simpletable\">\n",
       "<tr>\n",
       "     <td></td>       <th>coef</th>     <th>std err</th>      <th>z</th>      <th>P>|z|</th>  <th>[0.025</th>    <th>0.975]</th>  \n",
       "</tr>\n",
       "<tr>\n",
       "  <th>sigma2</th> <td>    1.5895</td> <td>    0.180</td> <td>    8.845</td> <td> 0.000</td> <td>    1.237</td> <td>    1.942</td>\n",
       "</tr>\n",
       "</table>\n",
       "<table class=\"simpletable\">\n",
       "<tr>\n",
       "  <th>Ljung-Box (Q):</th>          <td>33.51</td> <th>  Jarque-Bera (JB):  </th> <td>9.93</td>\n",
       "</tr>\n",
       "<tr>\n",
       "  <th>Prob(Q):</th>                <td>0.76</td>  <th>  Prob(JB):          </th> <td>0.01</td>\n",
       "</tr>\n",
       "<tr>\n",
       "  <th>Heteroskedasticity (H):</th> <td>0.89</td>  <th>  Skew:              </th> <td>0.44</td>\n",
       "</tr>\n",
       "<tr>\n",
       "  <th>Prob(H) (two-sided):</th>    <td>0.75</td>  <th>  Kurtosis:          </th> <td>4.25</td>\n",
       "</tr>\n",
       "</table><br/><br/>Warnings:<br/>[1] Covariance matrix calculated using the outer product of gradients (complex-step)."
      ],
      "text/plain": [
       "<class 'statsmodels.iolib.summary.Summary'>\n",
       "\"\"\"\n",
       "                               SARIMAX Results                                \n",
       "==============================================================================\n",
       "Dep. Variable:                      y   No. Observations:                  102\n",
       "Model:               SARIMAX(0, 1, 0)   Log Likelihood                -166.715\n",
       "Date:                Mon, 27 Jul 2020   AIC                            335.429\n",
       "Time:                        16:29:12   BIC                            338.045\n",
       "Sample:                             0   HQIC                           336.488\n",
       "                                - 102                                         \n",
       "Covariance Type:                  opg                                         \n",
       "==============================================================================\n",
       "                 coef    std err          z      P>|z|      [0.025      0.975]\n",
       "------------------------------------------------------------------------------\n",
       "sigma2         1.5895      0.180      8.845      0.000       1.237       1.942\n",
       "===================================================================================\n",
       "Ljung-Box (Q):                       33.51   Jarque-Bera (JB):                 9.93\n",
       "Prob(Q):                              0.76   Prob(JB):                         0.01\n",
       "Heteroskedasticity (H):               0.89   Skew:                             0.44\n",
       "Prob(H) (two-sided):                  0.75   Kurtosis:                         4.25\n",
       "===================================================================================\n",
       "\n",
       "Warnings:\n",
       "[1] Covariance matrix calculated using the outer product of gradients (complex-step).\n",
       "\"\"\""
      ]
     },
     "execution_count": 74,
     "metadata": {},
     "output_type": "execute_result"
    }
   ],
   "source": [
    "model.summary()"
   ]
  },
  {
   "cell_type": "code",
   "execution_count": null,
   "metadata": {},
   "outputs": [],
   "source": []
  }
 ],
 "metadata": {
  "kernelspec": {
   "display_name": "Python 3",
   "language": "python",
   "name": "python3"
  },
  "language_info": {
   "codemirror_mode": {
    "name": "ipython",
    "version": 3
   },
   "file_extension": ".py",
   "mimetype": "text/x-python",
   "name": "python",
   "nbconvert_exporter": "python",
   "pygments_lexer": "ipython3",
   "version": "3.7.6"
  }
 },
 "nbformat": 4,
 "nbformat_minor": 4
}

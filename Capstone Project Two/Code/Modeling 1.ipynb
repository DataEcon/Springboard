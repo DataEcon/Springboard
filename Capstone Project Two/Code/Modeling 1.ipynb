{
 "cells": [
  {
   "cell_type": "code",
   "execution_count": 1,
   "metadata": {},
   "outputs": [],
   "source": [
    "import pandas as pd\n",
    "import numpy as np\n",
    "import datetime as dt\n",
    "import matplotlib.pyplot as plt\n",
    "import seaborn as sns\n",
    "sns.set()"
   ]
  },
  {
   "cell_type": "code",
   "execution_count": 2,
   "metadata": {},
   "outputs": [],
   "source": [
    "file_path_train = r'C:\\\\Users\\\\mshus\\\\Google Drive\\\\Data Science - Springboard\\\\Git_GitHub\\\\Springboard\\\\Capstone Project Two\\\\Data\\train_data.csv'\n",
    "file_path_test = r'C:\\\\Users\\\\mshus\\\\Google Drive\\\\Data Science - Springboard\\\\Git_GitHub\\\\Springboard\\\\Capstone Project Two\\\\Data\\test_data.csv'"
   ]
  },
  {
   "cell_type": "code",
   "execution_count": 3,
   "metadata": {},
   "outputs": [],
   "source": [
    "train_data = pd.read_csv(file_path_train, index_col = ['Date'])\n",
    "test_data = pd.read_csv(file_path_test, index_col = ['Date'])"
   ]
  },
  {
   "cell_type": "code",
   "execution_count": 4,
   "metadata": {},
   "outputs": [
    {
     "data": {
      "text/html": [
       "<div>\n",
       "<style scoped>\n",
       "    .dataframe tbody tr th:only-of-type {\n",
       "        vertical-align: middle;\n",
       "    }\n",
       "\n",
       "    .dataframe tbody tr th {\n",
       "        vertical-align: top;\n",
       "    }\n",
       "\n",
       "    .dataframe thead th {\n",
       "        text-align: right;\n",
       "    }\n",
       "</style>\n",
       "<table border=\"1\" class=\"dataframe\">\n",
       "  <thead>\n",
       "    <tr style=\"text-align: right;\">\n",
       "      <th></th>\n",
       "      <th>confirmed</th>\n",
       "      <th>High</th>\n",
       "      <th>Volume</th>\n",
       "      <th>adjusted_close</th>\n",
       "      <th>first_diff_adj_stock</th>\n",
       "    </tr>\n",
       "    <tr>\n",
       "      <th>Date</th>\n",
       "      <th></th>\n",
       "      <th></th>\n",
       "      <th></th>\n",
       "      <th></th>\n",
       "      <th></th>\n",
       "    </tr>\n",
       "  </thead>\n",
       "  <tbody>\n",
       "    <tr>\n",
       "      <th>2020-01-23</th>\n",
       "      <td>1</td>\n",
       "      <td>57.980000</td>\n",
       "      <td>227900.0</td>\n",
       "      <td>54.500458</td>\n",
       "      <td>-0.386795</td>\n",
       "    </tr>\n",
       "    <tr>\n",
       "      <th>2020-01-24</th>\n",
       "      <td>2</td>\n",
       "      <td>57.799999</td>\n",
       "      <td>146200.0</td>\n",
       "      <td>53.924980</td>\n",
       "      <td>-0.575478</td>\n",
       "    </tr>\n",
       "    <tr>\n",
       "      <th>2020-01-27</th>\n",
       "      <td>5</td>\n",
       "      <td>55.689999</td>\n",
       "      <td>230600.0</td>\n",
       "      <td>52.151379</td>\n",
       "      <td>-1.773602</td>\n",
       "    </tr>\n",
       "    <tr>\n",
       "      <th>2020-01-28</th>\n",
       "      <td>5</td>\n",
       "      <td>56.090000</td>\n",
       "      <td>174400.0</td>\n",
       "      <td>52.358929</td>\n",
       "      <td>0.207550</td>\n",
       "    </tr>\n",
       "    <tr>\n",
       "      <th>2020-01-29</th>\n",
       "      <td>5</td>\n",
       "      <td>55.900002</td>\n",
       "      <td>214500.0</td>\n",
       "      <td>52.104210</td>\n",
       "      <td>-0.254719</td>\n",
       "    </tr>\n",
       "  </tbody>\n",
       "</table>\n",
       "</div>"
      ],
      "text/plain": [
       "            confirmed       High    Volume  adjusted_close  \\\n",
       "Date                                                         \n",
       "2020-01-23          1  57.980000  227900.0       54.500458   \n",
       "2020-01-24          2  57.799999  146200.0       53.924980   \n",
       "2020-01-27          5  55.689999  230600.0       52.151379   \n",
       "2020-01-28          5  56.090000  174400.0       52.358929   \n",
       "2020-01-29          5  55.900002  214500.0       52.104210   \n",
       "\n",
       "            first_diff_adj_stock  \n",
       "Date                              \n",
       "2020-01-23             -0.386795  \n",
       "2020-01-24             -0.575478  \n",
       "2020-01-27             -1.773602  \n",
       "2020-01-28              0.207550  \n",
       "2020-01-29             -0.254719  "
      ]
     },
     "execution_count": 4,
     "metadata": {},
     "output_type": "execute_result"
    }
   ],
   "source": [
    "train_data.head()"
   ]
  },
  {
   "cell_type": "code",
   "execution_count": 5,
   "metadata": {
    "scrolled": true
   },
   "outputs": [
    {
     "name": "stdout",
     "output_type": "stream",
     "text": [
      "<class 'pandas.core.frame.DataFrame'>\n",
      "Index: 102 entries, 2020-01-23 to 2020-06-17\n",
      "Data columns (total 5 columns):\n",
      " #   Column                Non-Null Count  Dtype  \n",
      "---  ------                --------------  -----  \n",
      " 0   confirmed             102 non-null    int64  \n",
      " 1   High                  102 non-null    float64\n",
      " 2   Volume                102 non-null    float64\n",
      " 3   adjusted_close        102 non-null    float64\n",
      " 4   first_diff_adj_stock  102 non-null    float64\n",
      "dtypes: float64(4), int64(1)\n",
      "memory usage: 4.8+ KB\n"
     ]
    }
   ],
   "source": [
    "train_data.info()"
   ]
  },
  {
   "cell_type": "code",
   "execution_count": 6,
   "metadata": {},
   "outputs": [
    {
     "data": {
      "text/plain": [
       "Index(['2020-01-23', '2020-01-24', '2020-01-27', '2020-01-28', '2020-01-29',\n",
       "       '2020-01-30', '2020-01-31', '2020-02-03', '2020-02-04', '2020-02-05',\n",
       "       ...\n",
       "       '2020-06-04', '2020-06-05', '2020-06-08', '2020-06-09', '2020-06-10',\n",
       "       '2020-06-11', '2020-06-12', '2020-06-15', '2020-06-16', '2020-06-17'],\n",
       "      dtype='object', name='Date', length=102)"
      ]
     },
     "execution_count": 6,
     "metadata": {},
     "output_type": "execute_result"
    }
   ],
   "source": [
    "train_data.index"
   ]
  },
  {
   "cell_type": "code",
   "execution_count": 7,
   "metadata": {},
   "outputs": [],
   "source": [
    "train_data.index = pd.DatetimeIndex(train_data.index).to_period('B').dropna()"
   ]
  },
  {
   "cell_type": "code",
   "execution_count": 8,
   "metadata": {},
   "outputs": [
    {
     "data": {
      "text/plain": [
       "PeriodIndex(['2020-01-23', '2020-01-24', '2020-01-27', '2020-01-28',\n",
       "             '2020-01-29', '2020-01-30', '2020-01-31', '2020-02-03',\n",
       "             '2020-02-04', '2020-02-05',\n",
       "             ...\n",
       "             '2020-06-04', '2020-06-05', '2020-06-08', '2020-06-09',\n",
       "             '2020-06-10', '2020-06-11', '2020-06-12', '2020-06-15',\n",
       "             '2020-06-16', '2020-06-17'],\n",
       "            dtype='period[B]', name='Date', length=102, freq='B')"
      ]
     },
     "execution_count": 8,
     "metadata": {},
     "output_type": "execute_result"
    }
   ],
   "source": [
    "train_data.index"
   ]
  },
  {
   "cell_type": "markdown",
   "metadata": {},
   "source": [
    "# AR Model "
   ]
  },
  {
   "cell_type": "markdown",
   "metadata": {},
   "source": [
    "### Optimal Lag Selection "
   ]
  },
  {
   "cell_type": "code",
   "execution_count": 9,
   "metadata": {},
   "outputs": [],
   "source": [
    "from statsmodels.graphics.tsaplots import plot_acf, plot_pacf"
   ]
  },
  {
   "cell_type": "code",
   "execution_count": 10,
   "metadata": {},
   "outputs": [
    {
     "data": {
      "text/plain": [
       "<Figure size 864x576 with 0 Axes>"
      ]
     },
     "metadata": {},
     "output_type": "display_data"
    },
    {
     "data": {
      "image/png": "[encoded data removed]",
      "text/plain": [
       "<Figure size 432x288 with 1 Axes>"
      ]
     },
     "metadata": {},
     "output_type": "display_data"
    }
   ],
   "source": [
    "# PACF of differenced data\n",
    "\n",
    "plt.figure(figsize = (12, 8))\n",
    "plot_pacf(train_data.first_diff_adj_stock, lags = 40, zero = False, method = ('ols'))\n",
    "plt.show()"
   ]
  },
  {
   "cell_type": "markdown",
   "metadata": {},
   "source": [
    "# Fiting the AR Model"
   ]
  },
  {
   "cell_type": "code",
   "execution_count": 11,
   "metadata": {},
   "outputs": [],
   "source": [
    "from statsmodels.tsa.arima_model import ARMA"
   ]
  },
  {
   "cell_type": "markdown",
   "metadata": {},
   "source": [
    "### Check the Model Performance"
   ]
  },
  {
   "cell_type": "code",
   "execution_count": 12,
   "metadata": {},
   "outputs": [],
   "source": [
    "from scipy.stats.distributions import chi2 \n",
    "\n",
    "# define function to compare the likelihood ratio\n",
    "\n",
    "def LLR_test(model1, model2, DF = 1):\n",
    "    L1 = model1.llf\n",
    "    L2 = model2.llf\n",
    "    LR = 2 *(L2 - L1)\n",
    "    p = chi2.sf(LR, DF).round(3)\n",
    "    \n",
    "    return p "
   ]
  },
  {
   "cell_type": "code",
   "execution_count": 13,
   "metadata": {},
   "outputs": [
    {
     "name": "stdout",
     "output_type": "stream",
     "text": [
      "                              ARMA Model Results                              \n",
      "==============================================================================\n",
      "Dep. Variable:         adjusted_close   No. Observations:                  102\n",
      "Model:                     ARMA(1, 0)   Log Likelihood                -168.089\n",
      "Method:                       css-mle   S.D. of innovations              1.245\n",
      "Date:                Mon, 27 Jul 2020   AIC                            342.177\n",
      "Time:                        15:12:43   BIC                            350.052\n",
      "Sample:                    01-23-2020   HQIC                           345.366\n",
      "                         - 06-17-2020                                         \n",
      "========================================================================================\n",
      "                           coef    std err          z      P>|z|      [0.025      0.975]\n",
      "----------------------------------------------------------------------------------------\n",
      "const                   47.3919      1.696     27.937      0.000      44.067      50.717\n",
      "ar.L1.adjusted_close     0.9350      0.037     24.960      0.000       0.862       1.008\n",
      "                                    Roots                                    \n",
      "=============================================================================\n",
      "                  Real          Imaginary           Modulus         Frequency\n",
      "-----------------------------------------------------------------------------\n",
      "AR.1            1.0696           +0.0000j            1.0696            0.0000\n",
      "-----------------------------------------------------------------------------\n"
     ]
    }
   ],
   "source": [
    "# AR ORDER 1\n",
    "ar1_model = ARMA(train_data.adjusted_close, order = (1, 0))\n",
    "result_ar1 = ar1_model.fit()\n",
    "print(result_ar1.summary())"
   ]
  },
  {
   "cell_type": "code",
   "execution_count": 14,
   "metadata": {},
   "outputs": [
    {
     "name": "stdout",
     "output_type": "stream",
     "text": [
      "                              ARMA Model Results                              \n",
      "==============================================================================\n",
      "Dep. Variable:         adjusted_close   No. Observations:                  102\n",
      "Model:                     ARMA(2, 0)   Log Likelihood                -167.375\n",
      "Method:                       css-mle   S.D. of innovations              1.235\n",
      "Date:                Mon, 27 Jul 2020   AIC                            342.750\n",
      "Time:                        15:12:43   BIC                            353.250\n",
      "Sample:                    01-23-2020   HQIC                           347.002\n",
      "                         - 06-17-2020                                         \n",
      "========================================================================================\n",
      "                           coef    std err          z      P>|z|      [0.025      0.975]\n",
      "----------------------------------------------------------------------------------------\n",
      "const                   47.5404      1.976     24.055      0.000      43.667      51.414\n",
      "ar.L1.adjusted_close     0.8264      0.098      8.456      0.000       0.635       1.018\n",
      "ar.L2.adjusted_close     0.1201      0.100      1.201      0.230      -0.076       0.316\n",
      "                                    Roots                                    \n",
      "=============================================================================\n",
      "                  Real          Imaginary           Modulus         Frequency\n",
      "-----------------------------------------------------------------------------\n",
      "AR.1            1.0499           +0.0000j            1.0499            0.0000\n",
      "AR.2           -7.9333           +0.0000j            7.9333            0.5000\n",
      "-----------------------------------------------------------------------------\n",
      "\n",
      "LLTest P-value = 0.232\n"
     ]
    }
   ],
   "source": [
    "# AR ORDER 2\n",
    "ar2_model = ARMA(train_data.adjusted_close, order = (2, 0))\n",
    "result_ar2 = ar2_model.fit()\n",
    "print(result_ar2.summary())\n",
    "\n",
    "print(\"\\nLLTest P-value = \" + str(LLR_test(result_ar1, result_ar2)))"
   ]
  },
  {
   "cell_type": "code",
   "execution_count": 15,
   "metadata": {},
   "outputs": [
    {
     "name": "stdout",
     "output_type": "stream",
     "text": [
      "                              ARMA Model Results                              \n",
      "==============================================================================\n",
      "Dep. Variable:         adjusted_close   No. Observations:                  102\n",
      "Model:                     ARMA(3, 0)   Log Likelihood                -167.344\n",
      "Method:                       css-mle   S.D. of innovations              1.235\n",
      "Date:                Mon, 27 Jul 2020   AIC                            344.688\n",
      "Time:                        15:12:44   BIC                            357.813\n",
      "Sample:                    01-23-2020   HQIC                           350.003\n",
      "                         - 06-17-2020                                         \n",
      "========================================================================================\n",
      "                           coef    std err          z      P>|z|      [0.025      0.975]\n",
      "----------------------------------------------------------------------------------------\n",
      "const                   47.5655      2.035     23.373      0.000      43.577      51.554\n",
      "ar.L1.adjusted_close     0.8231      0.099      8.348      0.000       0.630       1.016\n",
      "ar.L2.adjusted_close     0.1002      0.128      0.783      0.434      -0.151       0.351\n",
      "ar.L3.adjusted_close     0.0251      0.101      0.249      0.804      -0.173       0.223\n",
      "                                    Roots                                    \n",
      "=============================================================================\n",
      "                  Real          Imaginary           Modulus         Frequency\n",
      "-----------------------------------------------------------------------------\n",
      "AR.1            1.0466           -0.0000j            1.0466           -0.0000\n",
      "AR.2           -2.5183           -5.6308j            6.1683           -0.3169\n",
      "AR.3           -2.5183           +5.6308j            6.1683            0.3169\n",
      "-----------------------------------------------------------------------------\n",
      "\n",
      "LLTest P-value = 0.804\n"
     ]
    }
   ],
   "source": [
    "# AR ORDER 3\n",
    "ar3_model = ARMA(train_data.adjusted_close, order = (3, 0))\n",
    "result_ar3 = ar3_model.fit()\n",
    "print(result_ar3.summary())\n",
    "\n",
    "print(\"\\nLLTest P-value = \" + str(LLR_test(result_ar2, result_ar3)))"
   ]
  },
  {
   "cell_type": "code",
   "execution_count": 16,
   "metadata": {},
   "outputs": [
    {
     "name": "stdout",
     "output_type": "stream",
     "text": [
      "                              ARMA Model Results                              \n",
      "==============================================================================\n",
      "Dep. Variable:         adjusted_close   No. Observations:                  102\n",
      "Model:                     ARMA(5, 0)   Log Likelihood                -166.035\n",
      "Method:                       css-mle   S.D. of innovations              1.218\n",
      "Date:                Mon, 27 Jul 2020   AIC                            346.071\n",
      "Time:                        15:12:44   BIC                            364.446\n",
      "Sample:                    01-23-2020   HQIC                           353.511\n",
      "                         - 06-17-2020                                         \n",
      "========================================================================================\n",
      "                           coef    std err          z      P>|z|      [0.025      0.975]\n",
      "----------------------------------------------------------------------------------------\n",
      "const                   47.6359      2.200     21.654      0.000      43.324      51.948\n",
      "ar.L1.adjusted_close     0.8358      0.098      8.570      0.000       0.645       1.027\n",
      "ar.L2.adjusted_close     0.0960      0.127      0.755      0.450      -0.153       0.345\n",
      "ar.L3.adjusted_close     0.0708      0.127      0.556      0.579      -0.179       0.321\n",
      "ar.L4.adjusted_close    -0.1900      0.127     -1.501      0.133      -0.438       0.058\n",
      "ar.L5.adjusted_close     0.1417      0.099      1.433      0.152      -0.052       0.335\n",
      "                                    Roots                                    \n",
      "=============================================================================\n",
      "                  Real          Imaginary           Modulus         Frequency\n",
      "-----------------------------------------------------------------------------\n",
      "AR.1           -1.0540           -1.0742j            1.5050           -0.3735\n",
      "AR.2           -1.0540           +1.0742j            1.5050            0.3735\n",
      "AR.3            1.0377           -0.0000j            1.0377           -0.0000\n",
      "AR.4            1.2056           -1.2449j            1.7330           -0.1275\n",
      "AR.5            1.2056           +1.2449j            1.7330            0.1275\n",
      "-----------------------------------------------------------------------------\n",
      "\n",
      "LLTest P-value = 0.27\n"
     ]
    }
   ],
   "source": [
    "# AR ORDER 5\n",
    "ar5_model = ARMA(train_data.adjusted_close, order = (5, 0))\n",
    "result_ar5 = ar5_model.fit()\n",
    "print(result_ar5.summary())\n",
    "\n",
    "print(\"\\nLLTest P-value = \" + str(LLR_test(result_ar3, result_ar5, DF = 2)))"
   ]
  },
  {
   "cell_type": "code",
   "execution_count": 17,
   "metadata": {},
   "outputs": [
    {
     "name": "stdout",
     "output_type": "stream",
     "text": [
      "                              ARMA Model Results                              \n",
      "==============================================================================\n",
      "Dep. Variable:         adjusted_close   No. Observations:                  102\n",
      "Model:                    ARMA(10, 0)   Log Likelihood                -164.067\n",
      "Method:                       css-mle   S.D. of innovations              1.193\n",
      "Date:                Mon, 27 Jul 2020   AIC                            352.134\n",
      "Time:                        15:12:45   BIC                            383.634\n",
      "Sample:                    01-23-2020   HQIC                           364.890\n",
      "                         - 06-17-2020                                         \n",
      "=========================================================================================\n",
      "                            coef    std err          z      P>|z|      [0.025      0.975]\n",
      "-----------------------------------------------------------------------------------------\n",
      "const                    47.3100      1.635     28.928      0.000      44.105      50.515\n",
      "ar.L1.adjusted_close      0.8395      0.098      8.607      0.000       0.648       1.031\n",
      "ar.L2.adjusted_close      0.0944      0.128      0.735      0.462      -0.157       0.346\n",
      "ar.L3.adjusted_close      0.0610      0.129      0.474      0.635      -0.191       0.313\n",
      "ar.L4.adjusted_close     -0.1902      0.128     -1.485      0.138      -0.441       0.061\n",
      "ar.L5.adjusted_close      0.2320      0.131      1.777      0.076      -0.024       0.488\n",
      "ar.L6.adjusted_close      0.0107      0.131      0.081      0.935      -0.246       0.267\n",
      "ar.L7.adjusted_close     -0.0318      0.130     -0.245      0.806      -0.286       0.222\n",
      "ar.L8.adjusted_close     -0.0940      0.129     -0.727      0.467      -0.347       0.159\n",
      "ar.L9.adjusted_close      0.1499      0.129      1.165      0.244      -0.102       0.402\n",
      "ar.L10.adjusted_close    -0.1394      0.103     -1.359      0.174      -0.340       0.062\n",
      "                                    Roots                                     \n",
      "==============================================================================\n",
      "                   Real          Imaginary           Modulus         Frequency\n",
      "------------------------------------------------------------------------------\n",
      "AR.1            -1.1121           -0.4844j            1.2130           -0.4346\n",
      "AR.2            -1.1121           +0.4844j            1.2130            0.4346\n",
      "AR.3            -0.6322           -1.0015j            1.1844           -0.3396\n",
      "AR.4            -0.6322           +1.0015j            1.1844            0.3396\n",
      "AR.5             1.0928           -0.0801j            1.0958           -0.0117\n",
      "AR.6             1.0928           +0.0801j            1.0958            0.0117\n",
      "AR.7             0.8727           -0.9259j            1.2724           -0.1297\n",
      "AR.8             0.8727           +0.9259j            1.2724            0.1297\n",
      "AR.9             0.3164           -1.2990j            1.3370           -0.2120\n",
      "AR.10            0.3164           +1.2990j            1.3370            0.2120\n",
      "------------------------------------------------------------------------------\n",
      "\n",
      "LLTest P-value = 0.559\n"
     ]
    }
   ],
   "source": [
    "# AR ORDER 10\n",
    "ar10_model = ARMA(train_data.adjusted_close, order = (10, 0))\n",
    "result_ar10 = ar10_model.fit()\n",
    "print(result_ar10.summary())\n",
    "\n",
    "print(\"\\nLLTest P-value = \" + str(LLR_test(result_ar5, result_ar10, DF = 5)))"
   ]
  },
  {
   "cell_type": "code",
   "execution_count": null,
   "metadata": {},
   "outputs": [],
   "source": [
    "# AR ORDER 15\n",
    "ar15_model = ARMA(train_data.adjusted_close, order = (15, 0))\n",
    "result_ar15 = ar15_model.fit()\n",
    "print(result_ar15.summary())\n",
    "\n",
    "print(\"n\\LLTest P-value = \" + str(LLR_test(result_ar10, result_ar15, DF = 5)))"
   ]
  },
  {
   "cell_type": "markdown",
   "metadata": {},
   "source": [
    "# MA Model"
   ]
  },
  {
   "cell_type": "code",
   "execution_count": null,
   "metadata": {},
   "outputs": [],
   "source": [
    "# ACF of differenced data\n",
    "\n",
    "plt.figure(figsize = (12, 8))\n",
    "plot_acf(train_data.first_diff_adj_stock, lags = 40, zero = False)\n",
    "plt.show()"
   ]
  },
  {
   "cell_type": "code",
   "execution_count": null,
   "metadata": {},
   "outputs": [],
   "source": [
    "# MA ORDER 1\n",
    "ma1_model = ARMA(train_data.adjusted_close, order = (0,1))\n",
    "result_ma1 = ma1_model.fit()\n",
    "print(result_ma1.summary())"
   ]
  },
  {
   "cell_type": "code",
   "execution_count": null,
   "metadata": {},
   "outputs": [],
   "source": [
    "# MA ORDER 2\n",
    "ma2_model = ARMA(train_data.adjusted_close, order = (0,2))\n",
    "result_ma2 = ma2_model.fit()\n",
    "print(result_ma2.summary())\n",
    "\n",
    "print(\"n\\LLTest P-value = \" + str(LLR_test(result_ma1, result_ma2)))"
   ]
  },
  {
   "cell_type": "code",
   "execution_count": null,
   "metadata": {},
   "outputs": [],
   "source": [
    "# MA ORDER 3\n",
    "ma3_model = ARMA(train_data.adjusted_close, order = (0,3))\n",
    "result_ma3 = ma3_model.fit()\n",
    "print(result_ma3.summary())\n",
    "\n",
    "print(\"n\\LLTest P-value = \" + str(LLR_test(result_ma2, result_ma3)))"
   ]
  },
  {
   "cell_type": "code",
   "execution_count": null,
   "metadata": {},
   "outputs": [],
   "source": [
    "# MA ORDER 4\n",
    "ma4_model = ARMA(train_data.adjusted_close, order = (0,4))\n",
    "result_ma4 = ma4_model.fit()\n",
    "print(result_ma4.summary())\n",
    "\n",
    "print(\"n\\LLTest P-value = \" + str(LLR_test(result_ma3, result_ma4)))"
   ]
  },
  {
   "cell_type": "code",
   "execution_count": null,
   "metadata": {},
   "outputs": [],
   "source": [
    "# MA ORDER 5\n",
    "ma5_model = ARMA(train_data.adjusted_close, order = (0,5))\n",
    "result_ma5 = ma5_model.fit()\n",
    "print(result_ma5.summary())\n",
    "\n",
    "print(\"n\\LLTest P-value = \" + str(LLR_test(result_ma4, result_ma5)))"
   ]
  },
  {
   "cell_type": "code",
   "execution_count": null,
   "metadata": {},
   "outputs": [],
   "source": [
    "# MA ORDER 6\n",
    "ma6_model = ARMA(train_data.adjusted_close, order = (0,6))\n",
    "result_ma6 = ma6_model.fit()\n",
    "print(result_ma6.summary())\n",
    "\n",
    "print(\"n\\LLTest P-value = \" + str(LLR_test(result_ma5, result_ma6)))"
   ]
  },
  {
   "cell_type": "code",
   "execution_count": null,
   "metadata": {},
   "outputs": [],
   "source": [
    "# MA ORDER 7\n",
    "ma7_model = ARMA(train_data.adjusted_close, order = (0,7))\n",
    "result_ma7 = ma7_model.fit()\n",
    "print(result_ma7.summary())\n",
    "\n",
    "print(\"n\\LLTest P-value = \" + str(LLR_test(result_ma6, result_ma7)))"
   ]
  },
  {
   "cell_type": "code",
   "execution_count": null,
   "metadata": {},
   "outputs": [],
   "source": [
    "# MA ORDER 8\n",
    "ma8_model = ARMA(train_data.adjusted_close, order = (0,8))\n",
    "result_ma8 = ma8_model.fit()\n",
    "print(result_ma8.summary())\n",
    "\n",
    "print(\"n\\LLTest P-value = \" + str(LLR_test(result_ma7, result_ma8)))"
   ]
  },
  {
   "cell_type": "code",
   "execution_count": null,
   "metadata": {},
   "outputs": [],
   "source": [
    "# Note: MA order 6 is performing better than the other"
   ]
  },
  {
   "cell_type": "markdown",
   "metadata": {},
   "source": [
    "# ARMA Model"
   ]
  }
 ],
 "metadata": {
  "kernelspec": {
   "display_name": "Python 3",
   "language": "python",
   "name": "python3"
  },
  "language_info": {
   "codemirror_mode": {
    "name": "ipython",
    "version": 3
   },
   "file_extension": ".py",
   "mimetype": "text/x-python",
   "name": "python",
   "nbconvert_exporter": "python",
   "pygments_lexer": "ipython3",
   "version": "3.7.6"
  }
 },
 "nbformat": 4,
 "nbformat_minor": 4
}

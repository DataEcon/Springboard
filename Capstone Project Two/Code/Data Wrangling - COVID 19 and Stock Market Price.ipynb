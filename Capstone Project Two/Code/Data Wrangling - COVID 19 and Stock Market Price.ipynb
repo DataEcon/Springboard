{
 "cells": [
  {
   "cell_type": "code",
   "execution_count": 1,
   "metadata": {},
   "outputs": [],
   "source": [
    "# import the required packages\n",
    "import pandas as pd\n",
    "import numpy as np\n",
    "import datetime as dt\n",
    "import matplotlib.pyplot as plt\n",
    "import seaborn as sns\n",
    "sns.set()"
   ]
  },
  {
   "cell_type": "markdown",
   "metadata": {},
   "source": [
    "# 1. Data"
   ]
  },
  {
   "cell_type": "markdown",
   "metadata": {},
   "source": [
    "## 1.1 World Covid 19 Data"
   ]
  },
  {
   "cell_type": "code",
   "execution_count": 2,
   "metadata": {},
   "outputs": [],
   "source": [
    "# Link to access data from John Hopkins University Github\n",
    "time_series_covid19_confirmed_global = 'https://raw.githubusercontent.com/CSSEGISandData/COVID-19/master/csse_covid_19_data/csse_covid_19_time_series/time_series_covid19_confirmed_global.csv'\n",
    "time_series_covid19_deaths_global = 'https://raw.githubusercontent.com/CSSEGISandData/COVID-19/master/csse_covid_19_data/csse_covid_19_time_series/time_series_covid19_deaths_global.csv'\n",
    "time_series_covid19_recovered_global = 'https://raw.githubusercontent.com/CSSEGISandData/COVID-19/master/csse_covid_19_data/csse_covid_19_time_series/time_series_covid19_recovered_global.csv'"
   ]
  },
  {
   "cell_type": "code",
   "execution_count": 3,
   "metadata": {},
   "outputs": [],
   "source": [
    "# Read file to the Pandas DataFrame \n",
    "confirmed_global = pd.read_csv(time_series_covid19_confirmed_global)\n",
    "death_global = pd.read_csv(time_series_covid19_deaths_global)\n",
    "recovered_global = pd.read_csv(time_series_covid19_recovered_global)"
   ]
  },
  {
   "cell_type": "markdown",
   "metadata": {},
   "source": [
    "## 1.1.1 Checking the Data"
   ]
  },
  {
   "cell_type": "code",
   "execution_count": 4,
   "metadata": {},
   "outputs": [
    {
     "name": "stdout",
     "output_type": "stream",
     "text": [
      "The shpe of Global confirmed cases are : (266, 192)\n",
      "The shpe of Global death cases are : (266, 192)\n",
      "The shpe of Global recovered cases are : (253, 192)\n",
      "Note:\n",
      " There are some discripencies in the three dataframe\n"
     ]
    }
   ],
   "source": [
    "# Shape of Global Covid 19 files\n",
    "print(\"The shpe of Global confirmed cases are :\", confirmed_global.shape)\n",
    "print(\"The shpe of Global death cases are :\", death_global.shape)\n",
    "print(\"The shpe of Global recovered cases are :\", recovered_global.shape)\n",
    "\n",
    "#Note:\n",
    "print(\"Note:\")\n",
    "print(\" There are some discripencies in the three dataframe\")"
   ]
  },
  {
   "cell_type": "code",
   "execution_count": 5,
   "metadata": {},
   "outputs": [
    {
     "data": {
      "text/html": [
       "<div>\n",
       "<style scoped>\n",
       "    .dataframe tbody tr th:only-of-type {\n",
       "        vertical-align: middle;\n",
       "    }\n",
       "\n",
       "    .dataframe tbody tr th {\n",
       "        vertical-align: top;\n",
       "    }\n",
       "\n",
       "    .dataframe thead th {\n",
       "        text-align: right;\n",
       "    }\n",
       "</style>\n",
       "<table border=\"1\" class=\"dataframe\">\n",
       "  <thead>\n",
       "    <tr style=\"text-align: right;\">\n",
       "      <th></th>\n",
       "      <th>Province/State</th>\n",
       "      <th>Country/Region</th>\n",
       "      <th>Lat</th>\n",
       "      <th>Long</th>\n",
       "      <th>1/22/20</th>\n",
       "      <th>1/23/20</th>\n",
       "      <th>1/24/20</th>\n",
       "      <th>1/25/20</th>\n",
       "      <th>1/26/20</th>\n",
       "      <th>1/27/20</th>\n",
       "      <th>...</th>\n",
       "      <th>7/18/20</th>\n",
       "      <th>7/19/20</th>\n",
       "      <th>7/20/20</th>\n",
       "      <th>7/21/20</th>\n",
       "      <th>7/22/20</th>\n",
       "      <th>7/23/20</th>\n",
       "      <th>7/24/20</th>\n",
       "      <th>7/25/20</th>\n",
       "      <th>7/26/20</th>\n",
       "      <th>7/27/20</th>\n",
       "    </tr>\n",
       "  </thead>\n",
       "  <tbody>\n",
       "    <tr>\n",
       "      <th>0</th>\n",
       "      <td>NaN</td>\n",
       "      <td>Afghanistan</td>\n",
       "      <td>33.93911</td>\n",
       "      <td>67.709953</td>\n",
       "      <td>0</td>\n",
       "      <td>0</td>\n",
       "      <td>0</td>\n",
       "      <td>0</td>\n",
       "      <td>0</td>\n",
       "      <td>0</td>\n",
       "      <td>...</td>\n",
       "      <td>35301</td>\n",
       "      <td>35475</td>\n",
       "      <td>35526</td>\n",
       "      <td>35615</td>\n",
       "      <td>35727</td>\n",
       "      <td>35928</td>\n",
       "      <td>35981</td>\n",
       "      <td>36036</td>\n",
       "      <td>36157</td>\n",
       "      <td>36263</td>\n",
       "    </tr>\n",
       "    <tr>\n",
       "      <th>1</th>\n",
       "      <td>NaN</td>\n",
       "      <td>Albania</td>\n",
       "      <td>41.15330</td>\n",
       "      <td>20.168300</td>\n",
       "      <td>0</td>\n",
       "      <td>0</td>\n",
       "      <td>0</td>\n",
       "      <td>0</td>\n",
       "      <td>0</td>\n",
       "      <td>0</td>\n",
       "      <td>...</td>\n",
       "      <td>4008</td>\n",
       "      <td>4090</td>\n",
       "      <td>4171</td>\n",
       "      <td>4290</td>\n",
       "      <td>4358</td>\n",
       "      <td>4466</td>\n",
       "      <td>4570</td>\n",
       "      <td>4637</td>\n",
       "      <td>4763</td>\n",
       "      <td>4880</td>\n",
       "    </tr>\n",
       "    <tr>\n",
       "      <th>2</th>\n",
       "      <td>NaN</td>\n",
       "      <td>Algeria</td>\n",
       "      <td>28.03390</td>\n",
       "      <td>1.659600</td>\n",
       "      <td>0</td>\n",
       "      <td>0</td>\n",
       "      <td>0</td>\n",
       "      <td>0</td>\n",
       "      <td>0</td>\n",
       "      <td>0</td>\n",
       "      <td>...</td>\n",
       "      <td>22549</td>\n",
       "      <td>23084</td>\n",
       "      <td>23691</td>\n",
       "      <td>24278</td>\n",
       "      <td>24872</td>\n",
       "      <td>25484</td>\n",
       "      <td>26159</td>\n",
       "      <td>26764</td>\n",
       "      <td>27357</td>\n",
       "      <td>27973</td>\n",
       "    </tr>\n",
       "    <tr>\n",
       "      <th>3</th>\n",
       "      <td>NaN</td>\n",
       "      <td>Andorra</td>\n",
       "      <td>42.50630</td>\n",
       "      <td>1.521800</td>\n",
       "      <td>0</td>\n",
       "      <td>0</td>\n",
       "      <td>0</td>\n",
       "      <td>0</td>\n",
       "      <td>0</td>\n",
       "      <td>0</td>\n",
       "      <td>...</td>\n",
       "      <td>880</td>\n",
       "      <td>880</td>\n",
       "      <td>884</td>\n",
       "      <td>884</td>\n",
       "      <td>889</td>\n",
       "      <td>889</td>\n",
       "      <td>897</td>\n",
       "      <td>897</td>\n",
       "      <td>897</td>\n",
       "      <td>907</td>\n",
       "    </tr>\n",
       "    <tr>\n",
       "      <th>4</th>\n",
       "      <td>NaN</td>\n",
       "      <td>Angola</td>\n",
       "      <td>-11.20270</td>\n",
       "      <td>17.873900</td>\n",
       "      <td>0</td>\n",
       "      <td>0</td>\n",
       "      <td>0</td>\n",
       "      <td>0</td>\n",
       "      <td>0</td>\n",
       "      <td>0</td>\n",
       "      <td>...</td>\n",
       "      <td>687</td>\n",
       "      <td>705</td>\n",
       "      <td>749</td>\n",
       "      <td>779</td>\n",
       "      <td>812</td>\n",
       "      <td>851</td>\n",
       "      <td>880</td>\n",
       "      <td>916</td>\n",
       "      <td>932</td>\n",
       "      <td>950</td>\n",
       "    </tr>\n",
       "  </tbody>\n",
       "</table>\n",
       "<p>5 rows × 192 columns</p>\n",
       "</div>"
      ],
      "text/plain": [
       "  Province/State Country/Region       Lat       Long  1/22/20  1/23/20  \\\n",
       "0            NaN    Afghanistan  33.93911  67.709953        0        0   \n",
       "1            NaN        Albania  41.15330  20.168300        0        0   \n",
       "2            NaN        Algeria  28.03390   1.659600        0        0   \n",
       "3            NaN        Andorra  42.50630   1.521800        0        0   \n",
       "4            NaN         Angola -11.20270  17.873900        0        0   \n",
       "\n",
       "   1/24/20  1/25/20  1/26/20  1/27/20  ...  7/18/20  7/19/20  7/20/20  \\\n",
       "0        0        0        0        0  ...    35301    35475    35526   \n",
       "1        0        0        0        0  ...     4008     4090     4171   \n",
       "2        0        0        0        0  ...    22549    23084    23691   \n",
       "3        0        0        0        0  ...      880      880      884   \n",
       "4        0        0        0        0  ...      687      705      749   \n",
       "\n",
       "   7/21/20  7/22/20  7/23/20  7/24/20  7/25/20  7/26/20  7/27/20  \n",
       "0    35615    35727    35928    35981    36036    36157    36263  \n",
       "1     4290     4358     4466     4570     4637     4763     4880  \n",
       "2    24278    24872    25484    26159    26764    27357    27973  \n",
       "3      884      889      889      897      897      897      907  \n",
       "4      779      812      851      880      916      932      950  \n",
       "\n",
       "[5 rows x 192 columns]"
      ]
     },
     "execution_count": 5,
     "metadata": {},
     "output_type": "execute_result"
    }
   ],
   "source": [
    "confirmed_global.head()"
   ]
  },
  {
   "cell_type": "code",
   "execution_count": 6,
   "metadata": {},
   "outputs": [
    {
     "data": {
      "text/html": [
       "<div>\n",
       "<style scoped>\n",
       "    .dataframe tbody tr th:only-of-type {\n",
       "        vertical-align: middle;\n",
       "    }\n",
       "\n",
       "    .dataframe tbody tr th {\n",
       "        vertical-align: top;\n",
       "    }\n",
       "\n",
       "    .dataframe thead th {\n",
       "        text-align: right;\n",
       "    }\n",
       "</style>\n",
       "<table border=\"1\" class=\"dataframe\">\n",
       "  <thead>\n",
       "    <tr style=\"text-align: right;\">\n",
       "      <th></th>\n",
       "      <th>Province/State</th>\n",
       "      <th>Country/Region</th>\n",
       "      <th>Lat</th>\n",
       "      <th>Long</th>\n",
       "      <th>1/22/20</th>\n",
       "      <th>1/23/20</th>\n",
       "      <th>1/24/20</th>\n",
       "      <th>1/25/20</th>\n",
       "      <th>1/26/20</th>\n",
       "      <th>1/27/20</th>\n",
       "      <th>...</th>\n",
       "      <th>7/18/20</th>\n",
       "      <th>7/19/20</th>\n",
       "      <th>7/20/20</th>\n",
       "      <th>7/21/20</th>\n",
       "      <th>7/22/20</th>\n",
       "      <th>7/23/20</th>\n",
       "      <th>7/24/20</th>\n",
       "      <th>7/25/20</th>\n",
       "      <th>7/26/20</th>\n",
       "      <th>7/27/20</th>\n",
       "    </tr>\n",
       "  </thead>\n",
       "  <tbody>\n",
       "    <tr>\n",
       "      <th>0</th>\n",
       "      <td>NaN</td>\n",
       "      <td>Afghanistan</td>\n",
       "      <td>33.93911</td>\n",
       "      <td>67.709953</td>\n",
       "      <td>0</td>\n",
       "      <td>0</td>\n",
       "      <td>0</td>\n",
       "      <td>0</td>\n",
       "      <td>0</td>\n",
       "      <td>0</td>\n",
       "      <td>...</td>\n",
       "      <td>1164</td>\n",
       "      <td>1181</td>\n",
       "      <td>1185</td>\n",
       "      <td>1186</td>\n",
       "      <td>1190</td>\n",
       "      <td>1211</td>\n",
       "      <td>1225</td>\n",
       "      <td>1248</td>\n",
       "      <td>1259</td>\n",
       "      <td>1269</td>\n",
       "    </tr>\n",
       "    <tr>\n",
       "      <th>1</th>\n",
       "      <td>NaN</td>\n",
       "      <td>Albania</td>\n",
       "      <td>41.15330</td>\n",
       "      <td>20.168300</td>\n",
       "      <td>0</td>\n",
       "      <td>0</td>\n",
       "      <td>0</td>\n",
       "      <td>0</td>\n",
       "      <td>0</td>\n",
       "      <td>0</td>\n",
       "      <td>...</td>\n",
       "      <td>111</td>\n",
       "      <td>112</td>\n",
       "      <td>113</td>\n",
       "      <td>117</td>\n",
       "      <td>120</td>\n",
       "      <td>123</td>\n",
       "      <td>128</td>\n",
       "      <td>134</td>\n",
       "      <td>138</td>\n",
       "      <td>144</td>\n",
       "    </tr>\n",
       "    <tr>\n",
       "      <th>2</th>\n",
       "      <td>NaN</td>\n",
       "      <td>Algeria</td>\n",
       "      <td>28.03390</td>\n",
       "      <td>1.659600</td>\n",
       "      <td>0</td>\n",
       "      <td>0</td>\n",
       "      <td>0</td>\n",
       "      <td>0</td>\n",
       "      <td>0</td>\n",
       "      <td>0</td>\n",
       "      <td>...</td>\n",
       "      <td>1068</td>\n",
       "      <td>1078</td>\n",
       "      <td>1087</td>\n",
       "      <td>1100</td>\n",
       "      <td>1111</td>\n",
       "      <td>1124</td>\n",
       "      <td>1136</td>\n",
       "      <td>1146</td>\n",
       "      <td>1155</td>\n",
       "      <td>1163</td>\n",
       "    </tr>\n",
       "    <tr>\n",
       "      <th>3</th>\n",
       "      <td>NaN</td>\n",
       "      <td>Andorra</td>\n",
       "      <td>42.50630</td>\n",
       "      <td>1.521800</td>\n",
       "      <td>0</td>\n",
       "      <td>0</td>\n",
       "      <td>0</td>\n",
       "      <td>0</td>\n",
       "      <td>0</td>\n",
       "      <td>0</td>\n",
       "      <td>...</td>\n",
       "      <td>52</td>\n",
       "      <td>52</td>\n",
       "      <td>52</td>\n",
       "      <td>52</td>\n",
       "      <td>52</td>\n",
       "      <td>52</td>\n",
       "      <td>52</td>\n",
       "      <td>52</td>\n",
       "      <td>52</td>\n",
       "      <td>52</td>\n",
       "    </tr>\n",
       "    <tr>\n",
       "      <th>4</th>\n",
       "      <td>NaN</td>\n",
       "      <td>Angola</td>\n",
       "      <td>-11.20270</td>\n",
       "      <td>17.873900</td>\n",
       "      <td>0</td>\n",
       "      <td>0</td>\n",
       "      <td>0</td>\n",
       "      <td>0</td>\n",
       "      <td>0</td>\n",
       "      <td>0</td>\n",
       "      <td>...</td>\n",
       "      <td>29</td>\n",
       "      <td>29</td>\n",
       "      <td>29</td>\n",
       "      <td>30</td>\n",
       "      <td>33</td>\n",
       "      <td>33</td>\n",
       "      <td>35</td>\n",
       "      <td>39</td>\n",
       "      <td>40</td>\n",
       "      <td>41</td>\n",
       "    </tr>\n",
       "  </tbody>\n",
       "</table>\n",
       "<p>5 rows × 192 columns</p>\n",
       "</div>"
      ],
      "text/plain": [
       "  Province/State Country/Region       Lat       Long  1/22/20  1/23/20  \\\n",
       "0            NaN    Afghanistan  33.93911  67.709953        0        0   \n",
       "1            NaN        Albania  41.15330  20.168300        0        0   \n",
       "2            NaN        Algeria  28.03390   1.659600        0        0   \n",
       "3            NaN        Andorra  42.50630   1.521800        0        0   \n",
       "4            NaN         Angola -11.20270  17.873900        0        0   \n",
       "\n",
       "   1/24/20  1/25/20  1/26/20  1/27/20  ...  7/18/20  7/19/20  7/20/20  \\\n",
       "0        0        0        0        0  ...     1164     1181     1185   \n",
       "1        0        0        0        0  ...      111      112      113   \n",
       "2        0        0        0        0  ...     1068     1078     1087   \n",
       "3        0        0        0        0  ...       52       52       52   \n",
       "4        0        0        0        0  ...       29       29       29   \n",
       "\n",
       "   7/21/20  7/22/20  7/23/20  7/24/20  7/25/20  7/26/20  7/27/20  \n",
       "0     1186     1190     1211     1225     1248     1259     1269  \n",
       "1      117      120      123      128      134      138      144  \n",
       "2     1100     1111     1124     1136     1146     1155     1163  \n",
       "3       52       52       52       52       52       52       52  \n",
       "4       30       33       33       35       39       40       41  \n",
       "\n",
       "[5 rows x 192 columns]"
      ]
     },
     "execution_count": 6,
     "metadata": {},
     "output_type": "execute_result"
    }
   ],
   "source": [
    "death_global.head()"
   ]
  },
  {
   "cell_type": "code",
   "execution_count": 7,
   "metadata": {},
   "outputs": [
    {
     "data": {
      "text/html": [
       "<div>\n",
       "<style scoped>\n",
       "    .dataframe tbody tr th:only-of-type {\n",
       "        vertical-align: middle;\n",
       "    }\n",
       "\n",
       "    .dataframe tbody tr th {\n",
       "        vertical-align: top;\n",
       "    }\n",
       "\n",
       "    .dataframe thead th {\n",
       "        text-align: right;\n",
       "    }\n",
       "</style>\n",
       "<table border=\"1\" class=\"dataframe\">\n",
       "  <thead>\n",
       "    <tr style=\"text-align: right;\">\n",
       "      <th></th>\n",
       "      <th>Province/State</th>\n",
       "      <th>Country/Region</th>\n",
       "      <th>Lat</th>\n",
       "      <th>Long</th>\n",
       "      <th>1/22/20</th>\n",
       "      <th>1/23/20</th>\n",
       "      <th>1/24/20</th>\n",
       "      <th>1/25/20</th>\n",
       "      <th>1/26/20</th>\n",
       "      <th>1/27/20</th>\n",
       "      <th>...</th>\n",
       "      <th>7/18/20</th>\n",
       "      <th>7/19/20</th>\n",
       "      <th>7/20/20</th>\n",
       "      <th>7/21/20</th>\n",
       "      <th>7/22/20</th>\n",
       "      <th>7/23/20</th>\n",
       "      <th>7/24/20</th>\n",
       "      <th>7/25/20</th>\n",
       "      <th>7/26/20</th>\n",
       "      <th>7/27/20</th>\n",
       "    </tr>\n",
       "  </thead>\n",
       "  <tbody>\n",
       "    <tr>\n",
       "      <th>0</th>\n",
       "      <td>NaN</td>\n",
       "      <td>Afghanistan</td>\n",
       "      <td>33.93911</td>\n",
       "      <td>67.709953</td>\n",
       "      <td>0</td>\n",
       "      <td>0</td>\n",
       "      <td>0</td>\n",
       "      <td>0</td>\n",
       "      <td>0</td>\n",
       "      <td>0</td>\n",
       "      <td>...</td>\n",
       "      <td>23273</td>\n",
       "      <td>23634</td>\n",
       "      <td>23741</td>\n",
       "      <td>23741</td>\n",
       "      <td>23924</td>\n",
       "      <td>24550</td>\n",
       "      <td>24602</td>\n",
       "      <td>24793</td>\n",
       "      <td>25180</td>\n",
       "      <td>25198</td>\n",
       "    </tr>\n",
       "    <tr>\n",
       "      <th>1</th>\n",
       "      <td>NaN</td>\n",
       "      <td>Albania</td>\n",
       "      <td>41.15330</td>\n",
       "      <td>20.168300</td>\n",
       "      <td>0</td>\n",
       "      <td>0</td>\n",
       "      <td>0</td>\n",
       "      <td>0</td>\n",
       "      <td>0</td>\n",
       "      <td>0</td>\n",
       "      <td>...</td>\n",
       "      <td>2264</td>\n",
       "      <td>2311</td>\n",
       "      <td>2352</td>\n",
       "      <td>2397</td>\n",
       "      <td>2463</td>\n",
       "      <td>2523</td>\n",
       "      <td>2608</td>\n",
       "      <td>2637</td>\n",
       "      <td>2682</td>\n",
       "      <td>2745</td>\n",
       "    </tr>\n",
       "    <tr>\n",
       "      <th>2</th>\n",
       "      <td>NaN</td>\n",
       "      <td>Algeria</td>\n",
       "      <td>28.03390</td>\n",
       "      <td>1.659600</td>\n",
       "      <td>0</td>\n",
       "      <td>0</td>\n",
       "      <td>0</td>\n",
       "      <td>0</td>\n",
       "      <td>0</td>\n",
       "      <td>0</td>\n",
       "      <td>...</td>\n",
       "      <td>15744</td>\n",
       "      <td>16051</td>\n",
       "      <td>16400</td>\n",
       "      <td>16646</td>\n",
       "      <td>16983</td>\n",
       "      <td>17369</td>\n",
       "      <td>17369</td>\n",
       "      <td>18076</td>\n",
       "      <td>18088</td>\n",
       "      <td>18837</td>\n",
       "    </tr>\n",
       "    <tr>\n",
       "      <th>3</th>\n",
       "      <td>NaN</td>\n",
       "      <td>Andorra</td>\n",
       "      <td>42.50630</td>\n",
       "      <td>1.521800</td>\n",
       "      <td>0</td>\n",
       "      <td>0</td>\n",
       "      <td>0</td>\n",
       "      <td>0</td>\n",
       "      <td>0</td>\n",
       "      <td>0</td>\n",
       "      <td>...</td>\n",
       "      <td>803</td>\n",
       "      <td>803</td>\n",
       "      <td>803</td>\n",
       "      <td>803</td>\n",
       "      <td>803</td>\n",
       "      <td>803</td>\n",
       "      <td>803</td>\n",
       "      <td>803</td>\n",
       "      <td>803</td>\n",
       "      <td>803</td>\n",
       "    </tr>\n",
       "    <tr>\n",
       "      <th>4</th>\n",
       "      <td>NaN</td>\n",
       "      <td>Angola</td>\n",
       "      <td>-11.20270</td>\n",
       "      <td>17.873900</td>\n",
       "      <td>0</td>\n",
       "      <td>0</td>\n",
       "      <td>0</td>\n",
       "      <td>0</td>\n",
       "      <td>0</td>\n",
       "      <td>0</td>\n",
       "      <td>...</td>\n",
       "      <td>210</td>\n",
       "      <td>221</td>\n",
       "      <td>221</td>\n",
       "      <td>221</td>\n",
       "      <td>221</td>\n",
       "      <td>236</td>\n",
       "      <td>241</td>\n",
       "      <td>242</td>\n",
       "      <td>242</td>\n",
       "      <td>242</td>\n",
       "    </tr>\n",
       "  </tbody>\n",
       "</table>\n",
       "<p>5 rows × 192 columns</p>\n",
       "</div>"
      ],
      "text/plain": [
       "  Province/State Country/Region       Lat       Long  1/22/20  1/23/20  \\\n",
       "0            NaN    Afghanistan  33.93911  67.709953        0        0   \n",
       "1            NaN        Albania  41.15330  20.168300        0        0   \n",
       "2            NaN        Algeria  28.03390   1.659600        0        0   \n",
       "3            NaN        Andorra  42.50630   1.521800        0        0   \n",
       "4            NaN         Angola -11.20270  17.873900        0        0   \n",
       "\n",
       "   1/24/20  1/25/20  1/26/20  1/27/20  ...  7/18/20  7/19/20  7/20/20  \\\n",
       "0        0        0        0        0  ...    23273    23634    23741   \n",
       "1        0        0        0        0  ...     2264     2311     2352   \n",
       "2        0        0        0        0  ...    15744    16051    16400   \n",
       "3        0        0        0        0  ...      803      803      803   \n",
       "4        0        0        0        0  ...      210      221      221   \n",
       "\n",
       "   7/21/20  7/22/20  7/23/20  7/24/20  7/25/20  7/26/20  7/27/20  \n",
       "0    23741    23924    24550    24602    24793    25180    25198  \n",
       "1     2397     2463     2523     2608     2637     2682     2745  \n",
       "2    16646    16983    17369    17369    18076    18088    18837  \n",
       "3      803      803      803      803      803      803      803  \n",
       "4      221      221      236      241      242      242      242  \n",
       "\n",
       "[5 rows x 192 columns]"
      ]
     },
     "execution_count": 7,
     "metadata": {},
     "output_type": "execute_result"
    }
   ],
   "source": [
    "recovered_global.head()"
   ]
  },
  {
   "cell_type": "markdown",
   "metadata": {},
   "source": [
    "# 1.1.2.  Exploring the Worldwide COVID 19 Data "
   ]
  },
  {
   "cell_type": "markdown",
   "metadata": {},
   "source": [
    "## 1.1. 2.1 Agregating the Worldwide Data by country"
   ]
  },
  {
   "cell_type": "raw",
   "metadata": {},
   "source": [
    "Note:\n",
    "Some countries have several tereritories. Hence, it shows several records for one countries.\n",
    "inorder to solve this problem, let's aggreate the date by the country/region"
   ]
  },
  {
   "cell_type": "code",
   "execution_count": 8,
   "metadata": {},
   "outputs": [],
   "source": [
    "agg_confirmed = confirmed_global.groupby(['Country/Region']).sum().reset_index()\n",
    "agg_death = death_global.groupby(['Country/Region']).sum().reset_index()\n",
    "agg_recovered = recovered_global.groupby(['Country/Region']).sum().reset_index()"
   ]
  },
  {
   "cell_type": "code",
   "execution_count": 9,
   "metadata": {},
   "outputs": [
    {
     "data": {
      "text/html": [
       "<div>\n",
       "<style scoped>\n",
       "    .dataframe tbody tr th:only-of-type {\n",
       "        vertical-align: middle;\n",
       "    }\n",
       "\n",
       "    .dataframe tbody tr th {\n",
       "        vertical-align: top;\n",
       "    }\n",
       "\n",
       "    .dataframe thead th {\n",
       "        text-align: right;\n",
       "    }\n",
       "</style>\n",
       "<table border=\"1\" class=\"dataframe\">\n",
       "  <thead>\n",
       "    <tr style=\"text-align: right;\">\n",
       "      <th></th>\n",
       "      <th>Country/Region</th>\n",
       "      <th>Lat</th>\n",
       "      <th>Long</th>\n",
       "      <th>1/22/20</th>\n",
       "      <th>1/23/20</th>\n",
       "      <th>1/24/20</th>\n",
       "      <th>1/25/20</th>\n",
       "      <th>1/26/20</th>\n",
       "      <th>1/27/20</th>\n",
       "      <th>1/28/20</th>\n",
       "      <th>...</th>\n",
       "      <th>7/18/20</th>\n",
       "      <th>7/19/20</th>\n",
       "      <th>7/20/20</th>\n",
       "      <th>7/21/20</th>\n",
       "      <th>7/22/20</th>\n",
       "      <th>7/23/20</th>\n",
       "      <th>7/24/20</th>\n",
       "      <th>7/25/20</th>\n",
       "      <th>7/26/20</th>\n",
       "      <th>7/27/20</th>\n",
       "    </tr>\n",
       "  </thead>\n",
       "  <tbody>\n",
       "    <tr>\n",
       "      <th>0</th>\n",
       "      <td>Afghanistan</td>\n",
       "      <td>33.93911</td>\n",
       "      <td>67.709953</td>\n",
       "      <td>0</td>\n",
       "      <td>0</td>\n",
       "      <td>0</td>\n",
       "      <td>0</td>\n",
       "      <td>0</td>\n",
       "      <td>0</td>\n",
       "      <td>0</td>\n",
       "      <td>...</td>\n",
       "      <td>35301</td>\n",
       "      <td>35475</td>\n",
       "      <td>35526</td>\n",
       "      <td>35615</td>\n",
       "      <td>35727</td>\n",
       "      <td>35928</td>\n",
       "      <td>35981</td>\n",
       "      <td>36036</td>\n",
       "      <td>36157</td>\n",
       "      <td>36263</td>\n",
       "    </tr>\n",
       "    <tr>\n",
       "      <th>1</th>\n",
       "      <td>Albania</td>\n",
       "      <td>41.15330</td>\n",
       "      <td>20.168300</td>\n",
       "      <td>0</td>\n",
       "      <td>0</td>\n",
       "      <td>0</td>\n",
       "      <td>0</td>\n",
       "      <td>0</td>\n",
       "      <td>0</td>\n",
       "      <td>0</td>\n",
       "      <td>...</td>\n",
       "      <td>4008</td>\n",
       "      <td>4090</td>\n",
       "      <td>4171</td>\n",
       "      <td>4290</td>\n",
       "      <td>4358</td>\n",
       "      <td>4466</td>\n",
       "      <td>4570</td>\n",
       "      <td>4637</td>\n",
       "      <td>4763</td>\n",
       "      <td>4880</td>\n",
       "    </tr>\n",
       "    <tr>\n",
       "      <th>2</th>\n",
       "      <td>Algeria</td>\n",
       "      <td>28.03390</td>\n",
       "      <td>1.659600</td>\n",
       "      <td>0</td>\n",
       "      <td>0</td>\n",
       "      <td>0</td>\n",
       "      <td>0</td>\n",
       "      <td>0</td>\n",
       "      <td>0</td>\n",
       "      <td>0</td>\n",
       "      <td>...</td>\n",
       "      <td>22549</td>\n",
       "      <td>23084</td>\n",
       "      <td>23691</td>\n",
       "      <td>24278</td>\n",
       "      <td>24872</td>\n",
       "      <td>25484</td>\n",
       "      <td>26159</td>\n",
       "      <td>26764</td>\n",
       "      <td>27357</td>\n",
       "      <td>27973</td>\n",
       "    </tr>\n",
       "    <tr>\n",
       "      <th>3</th>\n",
       "      <td>Andorra</td>\n",
       "      <td>42.50630</td>\n",
       "      <td>1.521800</td>\n",
       "      <td>0</td>\n",
       "      <td>0</td>\n",
       "      <td>0</td>\n",
       "      <td>0</td>\n",
       "      <td>0</td>\n",
       "      <td>0</td>\n",
       "      <td>0</td>\n",
       "      <td>...</td>\n",
       "      <td>880</td>\n",
       "      <td>880</td>\n",
       "      <td>884</td>\n",
       "      <td>884</td>\n",
       "      <td>889</td>\n",
       "      <td>889</td>\n",
       "      <td>897</td>\n",
       "      <td>897</td>\n",
       "      <td>897</td>\n",
       "      <td>907</td>\n",
       "    </tr>\n",
       "    <tr>\n",
       "      <th>4</th>\n",
       "      <td>Angola</td>\n",
       "      <td>-11.20270</td>\n",
       "      <td>17.873900</td>\n",
       "      <td>0</td>\n",
       "      <td>0</td>\n",
       "      <td>0</td>\n",
       "      <td>0</td>\n",
       "      <td>0</td>\n",
       "      <td>0</td>\n",
       "      <td>0</td>\n",
       "      <td>...</td>\n",
       "      <td>687</td>\n",
       "      <td>705</td>\n",
       "      <td>749</td>\n",
       "      <td>779</td>\n",
       "      <td>812</td>\n",
       "      <td>851</td>\n",
       "      <td>880</td>\n",
       "      <td>916</td>\n",
       "      <td>932</td>\n",
       "      <td>950</td>\n",
       "    </tr>\n",
       "  </tbody>\n",
       "</table>\n",
       "<p>5 rows × 191 columns</p>\n",
       "</div>"
      ],
      "text/plain": [
       "  Country/Region       Lat       Long  1/22/20  1/23/20  1/24/20  1/25/20  \\\n",
       "0    Afghanistan  33.93911  67.709953        0        0        0        0   \n",
       "1        Albania  41.15330  20.168300        0        0        0        0   \n",
       "2        Algeria  28.03390   1.659600        0        0        0        0   \n",
       "3        Andorra  42.50630   1.521800        0        0        0        0   \n",
       "4         Angola -11.20270  17.873900        0        0        0        0   \n",
       "\n",
       "   1/26/20  1/27/20  1/28/20  ...  7/18/20  7/19/20  7/20/20  7/21/20  \\\n",
       "0        0        0        0  ...    35301    35475    35526    35615   \n",
       "1        0        0        0  ...     4008     4090     4171     4290   \n",
       "2        0        0        0  ...    22549    23084    23691    24278   \n",
       "3        0        0        0  ...      880      880      884      884   \n",
       "4        0        0        0  ...      687      705      749      779   \n",
       "\n",
       "   7/22/20  7/23/20  7/24/20  7/25/20  7/26/20  7/27/20  \n",
       "0    35727    35928    35981    36036    36157    36263  \n",
       "1     4358     4466     4570     4637     4763     4880  \n",
       "2    24872    25484    26159    26764    27357    27973  \n",
       "3      889      889      897      897      897      907  \n",
       "4      812      851      880      916      932      950  \n",
       "\n",
       "[5 rows x 191 columns]"
      ]
     },
     "execution_count": 9,
     "metadata": {},
     "output_type": "execute_result"
    }
   ],
   "source": [
    "agg_confirmed.head()"
   ]
  },
  {
   "cell_type": "code",
   "execution_count": 10,
   "metadata": {},
   "outputs": [
    {
     "name": "stdout",
     "output_type": "stream",
     "text": [
      "The shpe of Agregated global confirmed cases are : (188, 191)\n",
      "The shpe of Agregated global death cases are : (188, 191)\n",
      "The shpe of Agregated global recovered cases are : (188, 191)\n",
      "Note:\n",
      " The discripencies are solved at the agregate level\n"
     ]
    }
   ],
   "source": [
    "# Shape of the Agregated Data at the country level\n",
    "print(\"The shpe of Agregated global confirmed cases are :\", agg_confirmed.shape)\n",
    "print(\"The shpe of Agregated global death cases are :\", agg_death.shape)\n",
    "print(\"The shpe of Agregated global recovered cases are :\", agg_recovered.shape)\n",
    "\n",
    "#Note:\n",
    "print(\"Note:\")\n",
    "print(\" The discripencies are solved at the agregate level\")"
   ]
  },
  {
   "cell_type": "code",
   "execution_count": 11,
   "metadata": {},
   "outputs": [
    {
     "data": {
      "text/plain": [
       "Index(['Country/Region', 'Lat', 'Long', '1/22/20', '1/23/20', '1/24/20',\n",
       "       '1/25/20', '1/26/20', '1/27/20', '1/28/20',\n",
       "       ...\n",
       "       '7/18/20', '7/19/20', '7/20/20', '7/21/20', '7/22/20', '7/23/20',\n",
       "       '7/24/20', '7/25/20', '7/26/20', '7/27/20'],\n",
       "      dtype='object', length=191)"
      ]
     },
     "execution_count": 11,
     "metadata": {},
     "output_type": "execute_result"
    }
   ],
   "source": [
    "agg_confirmed.columns"
   ]
  },
  {
   "cell_type": "code",
   "execution_count": 12,
   "metadata": {},
   "outputs": [
    {
     "data": {
      "text/plain": [
       "Index(['Country/Region', 'Lat', 'Long', '1/22/20', '1/23/20', '1/24/20',\n",
       "       '1/25/20', '1/26/20', '1/27/20', '1/28/20',\n",
       "       ...\n",
       "       '7/18/20', '7/19/20', '7/20/20', '7/21/20', '7/22/20', '7/23/20',\n",
       "       '7/24/20', '7/25/20', '7/26/20', '7/27/20'],\n",
       "      dtype='object', length=191)"
      ]
     },
     "execution_count": 12,
     "metadata": {},
     "output_type": "execute_result"
    }
   ],
   "source": [
    "agg_death.columns"
   ]
  },
  {
   "cell_type": "code",
   "execution_count": 13,
   "metadata": {},
   "outputs": [
    {
     "data": {
      "text/plain": [
       "Index(['Country/Region', 'Lat', 'Long', '1/22/20', '1/23/20', '1/24/20',\n",
       "       '1/25/20', '1/26/20', '1/27/20', '1/28/20',\n",
       "       ...\n",
       "       '7/18/20', '7/19/20', '7/20/20', '7/21/20', '7/22/20', '7/23/20',\n",
       "       '7/24/20', '7/25/20', '7/26/20', '7/27/20'],\n",
       "      dtype='object', length=191)"
      ]
     },
     "execution_count": 13,
     "metadata": {},
     "output_type": "execute_result"
    }
   ],
   "source": [
    "agg_recovered.columns"
   ]
  },
  {
   "cell_type": "markdown",
   "metadata": {},
   "source": [
    "# 1.1. 3 Check Missing Values"
   ]
  },
  {
   "cell_type": "code",
   "execution_count": 14,
   "metadata": {},
   "outputs": [
    {
     "data": {
      "text/plain": [
       "Country/Region    0\n",
       "Lat               0\n",
       "Long              0\n",
       "1/22/20           0\n",
       "1/23/20           0\n",
       "                 ..\n",
       "7/23/20           0\n",
       "7/24/20           0\n",
       "7/25/20           0\n",
       "7/26/20           0\n",
       "7/27/20           0\n",
       "Length: 191, dtype: int64"
      ]
     },
     "execution_count": 14,
     "metadata": {},
     "output_type": "execute_result"
    }
   ],
   "source": [
    "agg_confirmed.isnull().sum()"
   ]
  },
  {
   "cell_type": "code",
   "execution_count": 15,
   "metadata": {},
   "outputs": [
    {
     "data": {
      "text/plain": [
       "Country/Region    0\n",
       "Lat               0\n",
       "Long              0\n",
       "1/22/20           0\n",
       "1/23/20           0\n",
       "                 ..\n",
       "7/23/20           0\n",
       "7/24/20           0\n",
       "7/25/20           0\n",
       "7/26/20           0\n",
       "7/27/20           0\n",
       "Length: 191, dtype: int64"
      ]
     },
     "execution_count": 15,
     "metadata": {},
     "output_type": "execute_result"
    }
   ],
   "source": [
    "agg_death.isnull().sum()"
   ]
  },
  {
   "cell_type": "code",
   "execution_count": 16,
   "metadata": {},
   "outputs": [
    {
     "data": {
      "text/plain": [
       "Country/Region    0\n",
       "Lat               0\n",
       "Long              0\n",
       "1/22/20           0\n",
       "1/23/20           0\n",
       "                 ..\n",
       "7/23/20           0\n",
       "7/24/20           0\n",
       "7/25/20           0\n",
       "7/26/20           0\n",
       "7/27/20           0\n",
       "Length: 191, dtype: int64"
      ]
     },
     "execution_count": 16,
     "metadata": {},
     "output_type": "execute_result"
    }
   ],
   "source": [
    "agg_recovered.isnull().sum()"
   ]
  },
  {
   "cell_type": "markdown",
   "metadata": {},
   "source": [
    "## 1.1.4 Calculating the Total Cases arround the World"
   ]
  },
  {
   "cell_type": "code",
   "execution_count": 17,
   "metadata": {},
   "outputs": [
    {
     "data": {
      "text/plain": [
       "Index(['Country/Region', 'Lat', 'Long', '1/22/20', '1/23/20', '1/24/20',\n",
       "       '1/25/20', '1/26/20', '1/27/20', '1/28/20',\n",
       "       ...\n",
       "       '7/18/20', '7/19/20', '7/20/20', '7/21/20', '7/22/20', '7/23/20',\n",
       "       '7/24/20', '7/25/20', '7/26/20', '7/27/20'],\n",
       "      dtype='object', length=191)"
      ]
     },
     "execution_count": 17,
     "metadata": {},
     "output_type": "execute_result"
    }
   ],
   "source": [
    "# Get the list of columns in confirmed Dataset\n",
    "agg_confirmed.keys()"
   ]
  },
  {
   "cell_type": "code",
   "execution_count": 18,
   "metadata": {},
   "outputs": [],
   "source": [
    "#for iteration need to have the dates only.\n",
    "col = agg_confirmed.keys() # Store names of column\n",
    "\n",
    "# select only the dates\n",
    "confirmed_df = agg_confirmed.loc[ :, col[3]: col[-1]] # drop the first few columns that are not date\n",
    "death_df = agg_death.loc[ :, col[3]: col[-1]] # drop the first few columns that are not date\n",
    "recovered_df = agg_recovered.loc[ :, col[3]: col[-1]] # drop the first few columns that are not date"
   ]
  },
  {
   "cell_type": "code",
   "execution_count": 19,
   "metadata": {
    "scrolled": true
   },
   "outputs": [
    {
     "data": {
      "text/html": [
       "<div>\n",
       "<style scoped>\n",
       "    .dataframe tbody tr th:only-of-type {\n",
       "        vertical-align: middle;\n",
       "    }\n",
       "\n",
       "    .dataframe tbody tr th {\n",
       "        vertical-align: top;\n",
       "    }\n",
       "\n",
       "    .dataframe thead th {\n",
       "        text-align: right;\n",
       "    }\n",
       "</style>\n",
       "<table border=\"1\" class=\"dataframe\">\n",
       "  <thead>\n",
       "    <tr style=\"text-align: right;\">\n",
       "      <th></th>\n",
       "      <th>1/22/20</th>\n",
       "      <th>1/23/20</th>\n",
       "      <th>1/24/20</th>\n",
       "      <th>1/25/20</th>\n",
       "      <th>1/26/20</th>\n",
       "      <th>1/27/20</th>\n",
       "      <th>1/28/20</th>\n",
       "      <th>1/29/20</th>\n",
       "      <th>1/30/20</th>\n",
       "      <th>1/31/20</th>\n",
       "      <th>...</th>\n",
       "      <th>7/18/20</th>\n",
       "      <th>7/19/20</th>\n",
       "      <th>7/20/20</th>\n",
       "      <th>7/21/20</th>\n",
       "      <th>7/22/20</th>\n",
       "      <th>7/23/20</th>\n",
       "      <th>7/24/20</th>\n",
       "      <th>7/25/20</th>\n",
       "      <th>7/26/20</th>\n",
       "      <th>7/27/20</th>\n",
       "    </tr>\n",
       "  </thead>\n",
       "  <tbody>\n",
       "    <tr>\n",
       "      <th>0</th>\n",
       "      <td>0</td>\n",
       "      <td>0</td>\n",
       "      <td>0</td>\n",
       "      <td>0</td>\n",
       "      <td>0</td>\n",
       "      <td>0</td>\n",
       "      <td>0</td>\n",
       "      <td>0</td>\n",
       "      <td>0</td>\n",
       "      <td>0</td>\n",
       "      <td>...</td>\n",
       "      <td>35301</td>\n",
       "      <td>35475</td>\n",
       "      <td>35526</td>\n",
       "      <td>35615</td>\n",
       "      <td>35727</td>\n",
       "      <td>35928</td>\n",
       "      <td>35981</td>\n",
       "      <td>36036</td>\n",
       "      <td>36157</td>\n",
       "      <td>36263</td>\n",
       "    </tr>\n",
       "    <tr>\n",
       "      <th>1</th>\n",
       "      <td>0</td>\n",
       "      <td>0</td>\n",
       "      <td>0</td>\n",
       "      <td>0</td>\n",
       "      <td>0</td>\n",
       "      <td>0</td>\n",
       "      <td>0</td>\n",
       "      <td>0</td>\n",
       "      <td>0</td>\n",
       "      <td>0</td>\n",
       "      <td>...</td>\n",
       "      <td>4008</td>\n",
       "      <td>4090</td>\n",
       "      <td>4171</td>\n",
       "      <td>4290</td>\n",
       "      <td>4358</td>\n",
       "      <td>4466</td>\n",
       "      <td>4570</td>\n",
       "      <td>4637</td>\n",
       "      <td>4763</td>\n",
       "      <td>4880</td>\n",
       "    </tr>\n",
       "    <tr>\n",
       "      <th>2</th>\n",
       "      <td>0</td>\n",
       "      <td>0</td>\n",
       "      <td>0</td>\n",
       "      <td>0</td>\n",
       "      <td>0</td>\n",
       "      <td>0</td>\n",
       "      <td>0</td>\n",
       "      <td>0</td>\n",
       "      <td>0</td>\n",
       "      <td>0</td>\n",
       "      <td>...</td>\n",
       "      <td>22549</td>\n",
       "      <td>23084</td>\n",
       "      <td>23691</td>\n",
       "      <td>24278</td>\n",
       "      <td>24872</td>\n",
       "      <td>25484</td>\n",
       "      <td>26159</td>\n",
       "      <td>26764</td>\n",
       "      <td>27357</td>\n",
       "      <td>27973</td>\n",
       "    </tr>\n",
       "    <tr>\n",
       "      <th>3</th>\n",
       "      <td>0</td>\n",
       "      <td>0</td>\n",
       "      <td>0</td>\n",
       "      <td>0</td>\n",
       "      <td>0</td>\n",
       "      <td>0</td>\n",
       "      <td>0</td>\n",
       "      <td>0</td>\n",
       "      <td>0</td>\n",
       "      <td>0</td>\n",
       "      <td>...</td>\n",
       "      <td>880</td>\n",
       "      <td>880</td>\n",
       "      <td>884</td>\n",
       "      <td>884</td>\n",
       "      <td>889</td>\n",
       "      <td>889</td>\n",
       "      <td>897</td>\n",
       "      <td>897</td>\n",
       "      <td>897</td>\n",
       "      <td>907</td>\n",
       "    </tr>\n",
       "    <tr>\n",
       "      <th>4</th>\n",
       "      <td>0</td>\n",
       "      <td>0</td>\n",
       "      <td>0</td>\n",
       "      <td>0</td>\n",
       "      <td>0</td>\n",
       "      <td>0</td>\n",
       "      <td>0</td>\n",
       "      <td>0</td>\n",
       "      <td>0</td>\n",
       "      <td>0</td>\n",
       "      <td>...</td>\n",
       "      <td>687</td>\n",
       "      <td>705</td>\n",
       "      <td>749</td>\n",
       "      <td>779</td>\n",
       "      <td>812</td>\n",
       "      <td>851</td>\n",
       "      <td>880</td>\n",
       "      <td>916</td>\n",
       "      <td>932</td>\n",
       "      <td>950</td>\n",
       "    </tr>\n",
       "  </tbody>\n",
       "</table>\n",
       "<p>5 rows × 188 columns</p>\n",
       "</div>"
      ],
      "text/plain": [
       "   1/22/20  1/23/20  1/24/20  1/25/20  1/26/20  1/27/20  1/28/20  1/29/20  \\\n",
       "0        0        0        0        0        0        0        0        0   \n",
       "1        0        0        0        0        0        0        0        0   \n",
       "2        0        0        0        0        0        0        0        0   \n",
       "3        0        0        0        0        0        0        0        0   \n",
       "4        0        0        0        0        0        0        0        0   \n",
       "\n",
       "   1/30/20  1/31/20  ...  7/18/20  7/19/20  7/20/20  7/21/20  7/22/20  \\\n",
       "0        0        0  ...    35301    35475    35526    35615    35727   \n",
       "1        0        0  ...     4008     4090     4171     4290     4358   \n",
       "2        0        0  ...    22549    23084    23691    24278    24872   \n",
       "3        0        0  ...      880      880      884      884      889   \n",
       "4        0        0  ...      687      705      749      779      812   \n",
       "\n",
       "   7/23/20  7/24/20  7/25/20  7/26/20  7/27/20  \n",
       "0    35928    35981    36036    36157    36263  \n",
       "1     4466     4570     4637     4763     4880  \n",
       "2    25484    26159    26764    27357    27973  \n",
       "3      889      897      897      897      907  \n",
       "4      851      880      916      932      950  \n",
       "\n",
       "[5 rows x 188 columns]"
      ]
     },
     "execution_count": 19,
     "metadata": {},
     "output_type": "execute_result"
    }
   ],
   "source": [
    "confirmed_df.head()"
   ]
  },
  {
   "cell_type": "code",
   "execution_count": 20,
   "metadata": {},
   "outputs": [],
   "source": [
    "dates = confirmed_df.keys() # store the dates \n",
    "\n",
    "# List to sore total confirmed, death and recovered cases\n",
    "total_confirmed = []\n",
    "total_death = []\n",
    "total_recovered = []"
   ]
  },
  {
   "cell_type": "markdown",
   "metadata": {},
   "source": [
    "# 1.1.4.1 Total Cases"
   ]
  },
  {
   "cell_type": "code",
   "execution_count": 21,
   "metadata": {},
   "outputs": [],
   "source": [
    "# Iterate over each DataFrame\n",
    "for i in dates:\n",
    "    confirmed_sum = confirmed_df[i].sum()\n",
    "    death_sum = death_df[i].sum()\n",
    "    recovered_sum = recovered_df[i].sum()\n",
    "   \n",
    "#Total confirmed, death and recovered cases\n",
    "    total_confirmed.append(confirmed_sum)\n",
    "    total_death.append(death_sum)\n",
    "    total_recovered.append(recovered_sum)"
   ]
  },
  {
   "cell_type": "code",
   "execution_count": 22,
   "metadata": {},
   "outputs": [
    {
     "name": "stdout",
     "output_type": "stream",
     "text": [
      "The total number of confirmed Covide 19 cases so far are:  16481230\n",
      "The total number of individual death due to the Covide 19 so far are:  654052\n",
      "The total number of individual from the Covide 19 so far are:  9572619\n"
     ]
    }
   ],
   "source": [
    "print(\"The total number of confirmed Covide 19 cases so far are: \", confirmed_sum)\n",
    "print(\"The total number of individual death due to the Covide 19 so far are: \", death_sum)\n",
    "print(\"The total number of individual from the Covide 19 so far are: \", recovered_sum)"
   ]
  },
  {
   "cell_type": "markdown",
   "metadata": {},
   "source": [
    "# 1.1.4.2 Ratios"
   ]
  },
  {
   "cell_type": "markdown",
   "metadata": {},
   "source": [
    "# 1.1.4.2.1 Mortality Rate"
   ]
  },
  {
   "cell_type": "code",
   "execution_count": 23,
   "metadata": {},
   "outputs": [
    {
     "name": "stdout",
     "output_type": "stream",
     "text": [
      "The overall mortality rate is;  0.04856939690898564\n"
     ]
    }
   ],
   "source": [
    "#total_death/total_confirmed\n",
    "\n",
    "mortality_rate = np.array(total_death)/ np.array(total_confirmed) # Mortality Rate for each country\n",
    "total_mortality = np.mean(mortality_rate) # Overall Mortality rate\n",
    "print('The overall mortality rate is; ', total_mortality)"
   ]
  },
  {
   "cell_type": "markdown",
   "metadata": {},
   "source": [
    "# 1.1.4.2.2 Recover Rate"
   ]
  },
  {
   "cell_type": "code",
   "execution_count": 24,
   "metadata": {},
   "outputs": [
    {
     "name": "stdout",
     "output_type": "stream",
     "text": [
      "The overall recovery rate is;  0.3502629292238223\n"
     ]
    }
   ],
   "source": [
    "recover_rate = np.array(total_recovered)/ np.array(total_confirmed)\n",
    "total_recovery = np.mean(recover_rate)\n",
    "print('The overall recovery rate is; ', total_recovery)"
   ]
  },
  {
   "cell_type": "code",
   "execution_count": 25,
   "metadata": {},
   "outputs": [],
   "source": [
    "agg_confirmed = agg_confirmed.drop(['Lat', 'Long'], axis = 1)\n",
    "agg_death = agg_death.drop(['Lat', 'Long'], axis = 1)\n",
    "agg_recovered = agg_recovered.drop(['Lat', 'Long'], axis = 1)\n",
    "\n",
    "#agg_death = death_global.groupby(['Country/Region']).sum().reset_index()\n",
    "#agg_recovered = recovered_global.groupby(['Country/Region']).sum().reset_index()"
   ]
  },
  {
   "cell_type": "markdown",
   "metadata": {},
   "source": [
    "# 1.1.3 Visualization of Covid 19 arround the World"
   ]
  },
  {
   "cell_type": "code",
   "execution_count": 26,
   "metadata": {},
   "outputs": [],
   "source": [
    "#Drop the latitude and longitude columns\n",
    "confirmed = confirmed_global.drop(['Lat', 'Long'], axis = 1)"
   ]
  },
  {
   "cell_type": "code",
   "execution_count": 27,
   "metadata": {},
   "outputs": [
    {
     "data": {
      "text/plain": [
       "China                   33\n",
       "Canada                  14\n",
       "United Kingdom          11\n",
       "France                  11\n",
       "Australia                8\n",
       "                        ..\n",
       "Bangladesh               1\n",
       "United Arab Emirates     1\n",
       "Cyprus                   1\n",
       "Zambia                   1\n",
       "Croatia                  1\n",
       "Name: Country/Region, Length: 188, dtype: int64"
      ]
     },
     "execution_count": 27,
     "metadata": {},
     "output_type": "execute_result"
    }
   ],
   "source": [
    "#Check Number countries and territories  \n",
    "confirmed['Country/Region'].value_counts()"
   ]
  },
  {
   "cell_type": "code",
   "execution_count": 28,
   "metadata": {},
   "outputs": [],
   "source": [
    "# Aggregating the number of cases at the country level - using groupby and sum \n",
    "confirmed = confirmed.groupby('Country/Region').sum()"
   ]
  },
  {
   "cell_type": "code",
   "execution_count": 29,
   "metadata": {},
   "outputs": [],
   "source": [
    "# Top 10 countries with the highest confirmed COVID 19 cases \n",
    "top_10 = confirmed.sum(axis = 1)\n",
    "top_10 = top_10.sort_values(ascending = False)\n",
    "\n",
    "# Creating filters to identify the top 10 countries\n",
    "top = top_10.head(10).index.tolist()\n",
    "confirmed_10 = confirmed.loc[top, :]"
   ]
  },
  {
   "cell_type": "code",
   "execution_count": 30,
   "metadata": {},
   "outputs": [
    {
     "data": {
      "image/png": "[encoded data removed]",
      "text/plain": [
       "<Figure size 1080x720 with 1 Axes>"
      ]
     },
     "metadata": {},
     "output_type": "display_data"
    }
   ],
   "source": [
    "# Plot the Top 10 countries that has the most COVID 19 cases\n",
    "confirmed_10.T.plot(figsize = (15, 10), linewidth=0.9, marker='.')\n",
    "plt.title('Top 10 Countries Most impacted by the COVID 19 - Confrimed Cases', size = 22)\n",
    "plt.xlabel('Time', size = 22)\n",
    "plt.ylabel('Number of Cases', size = 22)\n",
    "plt.show()"
   ]
  },
  {
   "cell_type": "raw",
   "metadata": {},
   "source": [
    "The US Has Highest Numbers of COVID 19 cases. \n",
    "Next section will specifically focus on the US."
   ]
  },
  {
   "cell_type": "markdown",
   "metadata": {},
   "source": [
    "# 1.2 US Covid 19 Data"
   ]
  },
  {
   "cell_type": "code",
   "execution_count": 32,
   "metadata": {},
   "outputs": [],
   "source": [
    "US_confirmed = agg_confirmed[agg_confirmed['Country/Region'] == 'US']\n",
    "US_death = agg_death[agg_death['Country/Region'] == 'US']\n",
    "US_recovered = agg_recovered[agg_recovered['Country/Region'] == 'US']"
   ]
  },
  {
   "cell_type": "code",
   "execution_count": 33,
   "metadata": {},
   "outputs": [],
   "source": [
    "# Transpose Data and drop the unnecessary rows\n",
    "US_confirmed_t = US_confirmed.T.drop('Country/Region')\n",
    "US_death_t = US_death.T.drop('Country/Region')\n",
    "US_recovered_t = US_recovered.T.drop('Country/Region')"
   ]
  },
  {
   "cell_type": "code",
   "execution_count": 34,
   "metadata": {},
   "outputs": [],
   "source": [
    "pd.set_option('display.max_columns', 500)\n",
    "pd.set_option('display.max_rows', 500)"
   ]
  },
  {
   "cell_type": "markdown",
   "metadata": {},
   "source": [
    "##  Checking lenght of the datasets"
   ]
  },
  {
   "cell_type": "code",
   "execution_count": 35,
   "metadata": {},
   "outputs": [],
   "source": [
    "# Check lenght data points in the three dataset\n",
    "def check_data_pooints(df1, df2, df3):\n",
    "    if len(df1) == len(df2) == len(df3):\n",
    "        print(\"Yes, data in the three datasets are for the same dates\")\n",
    "    else:\n",
    "        print(\"No, data in the three datasets ARE NOTE for the same dates\")"
   ]
  },
  {
   "cell_type": "code",
   "execution_count": 36,
   "metadata": {},
   "outputs": [
    {
     "name": "stdout",
     "output_type": "stream",
     "text": [
      "Yes, data in the three datasets are for the same dates\n"
     ]
    }
   ],
   "source": [
    "check_data_pooints(US_confirmed_t, US_death_t, US_recovered_t)"
   ]
  },
  {
   "cell_type": "markdown",
   "metadata": {},
   "source": [
    "##  Comparing datapoints in each dataset"
   ]
  },
  {
   "cell_type": "code",
   "execution_count": 37,
   "metadata": {},
   "outputs": [],
   "source": [
    "# Creating Numpy Arry for comaprison\n",
    "c_index=np.array(list(US_confirmed_t.index))\n",
    "d_index=np.array(list(US_death_t.index))\n",
    "r_index = np.array(list(US_recovered_t.index))"
   ]
  },
  {
   "cell_type": "code",
   "execution_count": 38,
   "metadata": {},
   "outputs": [
    {
     "name": "stdout",
     "output_type": "stream",
     "text": [
      "Data are for the same date - MATCHING\n"
     ]
    }
   ],
   "source": [
    "# Zip function to returns data points that are not matching \n",
    "for i, j, k in zip(r_index,c_index, r_index):\n",
    "    if i != j and i != k:\n",
    "        print(i, j, k)\n",
    "    else:\n",
    "        pass\n",
    "print('Data are for the same date - MATCHING')"
   ]
  },
  {
   "cell_type": "code",
   "execution_count": 39,
   "metadata": {},
   "outputs": [
    {
     "data": {
      "text/plain": [
       "True"
      ]
     },
     "execution_count": 39,
     "metadata": {},
     "output_type": "execute_result"
    }
   ],
   "source": [
    "# Further, match data with Numpy array equal function\n",
    "np.array_equal(c_index, d_index) and np.array_equal(d_index, r_index)"
   ]
  },
  {
   "cell_type": "markdown",
   "metadata": {},
   "source": [
    "##  Concate the three dataset"
   ]
  },
  {
   "cell_type": "code",
   "execution_count": 40,
   "metadata": {},
   "outputs": [],
   "source": [
    "# concet the the three dataset if had the same data points\n",
    "if np.array_equal(c_index, d_index) and np.array_equal(d_index, r_index):\n",
    "    US_total = pd.concat([US_confirmed, US_death, US_recovered]).T.drop('Country/Region')"
   ]
  },
  {
   "cell_type": "code",
   "execution_count": 41,
   "metadata": {},
   "outputs": [],
   "source": [
    "# Rename column and index\n",
    "US_total.columns = ['confirmed', 'death', 'recovered']\n",
    "US_total.index.name = 'Date'"
   ]
  },
  {
   "cell_type": "code",
   "execution_count": 42,
   "metadata": {},
   "outputs": [
    {
     "data": {
      "text/html": [
       "<div>\n",
       "<style scoped>\n",
       "    .dataframe tbody tr th:only-of-type {\n",
       "        vertical-align: middle;\n",
       "    }\n",
       "\n",
       "    .dataframe tbody tr th {\n",
       "        vertical-align: top;\n",
       "    }\n",
       "\n",
       "    .dataframe thead th {\n",
       "        text-align: right;\n",
       "    }\n",
       "</style>\n",
       "<table border=\"1\" class=\"dataframe\">\n",
       "  <thead>\n",
       "    <tr style=\"text-align: right;\">\n",
       "      <th></th>\n",
       "      <th>confirmed</th>\n",
       "      <th>death</th>\n",
       "      <th>recovered</th>\n",
       "    </tr>\n",
       "    <tr>\n",
       "      <th>Date</th>\n",
       "      <th></th>\n",
       "      <th></th>\n",
       "      <th></th>\n",
       "    </tr>\n",
       "  </thead>\n",
       "  <tbody>\n",
       "    <tr>\n",
       "      <th>1/22/20</th>\n",
       "      <td>1</td>\n",
       "      <td>0</td>\n",
       "      <td>0</td>\n",
       "    </tr>\n",
       "    <tr>\n",
       "      <th>1/23/20</th>\n",
       "      <td>1</td>\n",
       "      <td>0</td>\n",
       "      <td>0</td>\n",
       "    </tr>\n",
       "    <tr>\n",
       "      <th>1/24/20</th>\n",
       "      <td>2</td>\n",
       "      <td>0</td>\n",
       "      <td>0</td>\n",
       "    </tr>\n",
       "    <tr>\n",
       "      <th>1/25/20</th>\n",
       "      <td>2</td>\n",
       "      <td>0</td>\n",
       "      <td>0</td>\n",
       "    </tr>\n",
       "    <tr>\n",
       "      <th>1/26/20</th>\n",
       "      <td>5</td>\n",
       "      <td>0</td>\n",
       "      <td>0</td>\n",
       "    </tr>\n",
       "  </tbody>\n",
       "</table>\n",
       "</div>"
      ],
      "text/plain": [
       "        confirmed death recovered\n",
       "Date                             \n",
       "1/22/20         1     0         0\n",
       "1/23/20         1     0         0\n",
       "1/24/20         2     0         0\n",
       "1/25/20         2     0         0\n",
       "1/26/20         5     0         0"
      ]
     },
     "execution_count": 42,
     "metadata": {},
     "output_type": "execute_result"
    }
   ],
   "source": [
    "US_total.head()"
   ]
  },
  {
   "cell_type": "code",
   "execution_count": 43,
   "metadata": {},
   "outputs": [],
   "source": [
    "# Date is the index - convert it to date and time formate\n",
    "US_total.index = pd.to_datetime(US_total.index)"
   ]
  },
  {
   "cell_type": "code",
   "execution_count": 44,
   "metadata": {},
   "outputs": [
    {
     "data": {
      "text/html": [
       "<div>\n",
       "<style scoped>\n",
       "    .dataframe tbody tr th:only-of-type {\n",
       "        vertical-align: middle;\n",
       "    }\n",
       "\n",
       "    .dataframe tbody tr th {\n",
       "        vertical-align: top;\n",
       "    }\n",
       "\n",
       "    .dataframe thead th {\n",
       "        text-align: right;\n",
       "    }\n",
       "</style>\n",
       "<table border=\"1\" class=\"dataframe\">\n",
       "  <thead>\n",
       "    <tr style=\"text-align: right;\">\n",
       "      <th></th>\n",
       "      <th>confirmed</th>\n",
       "      <th>death</th>\n",
       "      <th>recovered</th>\n",
       "    </tr>\n",
       "    <tr>\n",
       "      <th>Date</th>\n",
       "      <th></th>\n",
       "      <th></th>\n",
       "      <th></th>\n",
       "    </tr>\n",
       "  </thead>\n",
       "  <tbody>\n",
       "    <tr>\n",
       "      <th>2020-01-22</th>\n",
       "      <td>1</td>\n",
       "      <td>0</td>\n",
       "      <td>0</td>\n",
       "    </tr>\n",
       "    <tr>\n",
       "      <th>2020-01-23</th>\n",
       "      <td>1</td>\n",
       "      <td>0</td>\n",
       "      <td>0</td>\n",
       "    </tr>\n",
       "    <tr>\n",
       "      <th>2020-01-24</th>\n",
       "      <td>2</td>\n",
       "      <td>0</td>\n",
       "      <td>0</td>\n",
       "    </tr>\n",
       "    <tr>\n",
       "      <th>2020-01-25</th>\n",
       "      <td>2</td>\n",
       "      <td>0</td>\n",
       "      <td>0</td>\n",
       "    </tr>\n",
       "    <tr>\n",
       "      <th>2020-01-26</th>\n",
       "      <td>5</td>\n",
       "      <td>0</td>\n",
       "      <td>0</td>\n",
       "    </tr>\n",
       "  </tbody>\n",
       "</table>\n",
       "</div>"
      ],
      "text/plain": [
       "           confirmed death recovered\n",
       "Date                                \n",
       "2020-01-22         1     0         0\n",
       "2020-01-23         1     0         0\n",
       "2020-01-24         2     0         0\n",
       "2020-01-25         2     0         0\n",
       "2020-01-26         5     0         0"
      ]
     },
     "execution_count": 44,
     "metadata": {},
     "output_type": "execute_result"
    }
   ],
   "source": [
    "US_total.head()"
   ]
  },
  {
   "cell_type": "code",
   "execution_count": 45,
   "metadata": {},
   "outputs": [
    {
     "name": "stdout",
     "output_type": "stream",
     "text": [
      "<class 'pandas.core.frame.DataFrame'>\n",
      "DatetimeIndex: 188 entries, 2020-01-22 to 2020-07-27\n",
      "Data columns (total 3 columns):\n",
      " #   Column     Non-Null Count  Dtype \n",
      "---  ------     --------------  ----- \n",
      " 0   confirmed  188 non-null    object\n",
      " 1   death      188 non-null    object\n",
      " 2   recovered  188 non-null    object\n",
      "dtypes: object(3)\n",
      "memory usage: 5.9+ KB\n"
     ]
    }
   ],
   "source": [
    "US_total.info()"
   ]
  },
  {
   "cell_type": "markdown",
   "metadata": {},
   "source": [
    "# 2. Stock Market Data"
   ]
  },
  {
   "cell_type": "code",
   "execution_count": 46,
   "metadata": {},
   "outputs": [
    {
     "name": "stderr",
     "output_type": "stream",
     "text": [
      "C:\\ProgramData\\Anaconda3\\lib\\site-packages\\pandas_datareader\\compat\\__init__.py:7: FutureWarning: pandas.util.testing is deprecated. Use the functions in the public API at pandas.testing instead.\n",
      "  from pandas.util.testing import assert_frame_equal\n"
     ]
    }
   ],
   "source": [
    "import yfinance as yf\n",
    "import pandas_datareader as dr\n",
    "import datetime"
   ]
  },
  {
   "cell_type": "code",
   "execution_count": 47,
   "metadata": {},
   "outputs": [],
   "source": [
    "# Defining endpoint time stamp for extracting data\n",
    "end = datetime.datetime.now().strftime('%Y-%m-%d')"
   ]
  },
  {
   "cell_type": "code",
   "execution_count": 48,
   "metadata": {},
   "outputs": [],
   "source": [
    "# SMP 500 data  from Yahoo Finance\n",
    "smp500 = dr.get_data_yahoo(\"SNP\", start=\"2020-01-22\", end= end)"
   ]
  },
  {
   "cell_type": "code",
   "execution_count": 49,
   "metadata": {},
   "outputs": [
    {
     "data": {
      "text/plain": [
       "(131, 6)"
      ]
     },
     "execution_count": 49,
     "metadata": {},
     "output_type": "execute_result"
    }
   ],
   "source": [
    "smp500.shape"
   ]
  },
  {
   "cell_type": "code",
   "execution_count": 50,
   "metadata": {},
   "outputs": [
    {
     "data": {
      "text/plain": [
       "High         0\n",
       "Low          0\n",
       "Open         0\n",
       "Close        0\n",
       "Volume       0\n",
       "Adj Close    0\n",
       "dtype: int64"
      ]
     },
     "execution_count": 50,
     "metadata": {},
     "output_type": "execute_result"
    }
   ],
   "source": [
    "smp500.isnull().sum()"
   ]
  },
  {
   "cell_type": "code",
   "execution_count": 51,
   "metadata": {},
   "outputs": [
    {
     "data": {
      "text/html": [
       "<div>\n",
       "<style scoped>\n",
       "    .dataframe tbody tr th:only-of-type {\n",
       "        vertical-align: middle;\n",
       "    }\n",
       "\n",
       "    .dataframe tbody tr th {\n",
       "        vertical-align: top;\n",
       "    }\n",
       "\n",
       "    .dataframe thead th {\n",
       "        text-align: right;\n",
       "    }\n",
       "</style>\n",
       "<table border=\"1\" class=\"dataframe\">\n",
       "  <thead>\n",
       "    <tr style=\"text-align: right;\">\n",
       "      <th></th>\n",
       "      <th>High</th>\n",
       "      <th>Low</th>\n",
       "      <th>Open</th>\n",
       "      <th>Close</th>\n",
       "      <th>Volume</th>\n",
       "      <th>Adj Close</th>\n",
       "    </tr>\n",
       "    <tr>\n",
       "      <th>Date</th>\n",
       "      <th></th>\n",
       "      <th></th>\n",
       "      <th></th>\n",
       "      <th></th>\n",
       "      <th></th>\n",
       "      <th></th>\n",
       "    </tr>\n",
       "  </thead>\n",
       "  <tbody>\n",
       "    <tr>\n",
       "      <th>2020-01-22</th>\n",
       "      <td>58.970001</td>\n",
       "      <td>58.02</td>\n",
       "      <td>58.950001</td>\n",
       "      <td>58.180000</td>\n",
       "      <td>169600.0</td>\n",
       "      <td>54.887253</td>\n",
       "    </tr>\n",
       "    <tr>\n",
       "      <th>2020-01-23</th>\n",
       "      <td>57.980000</td>\n",
       "      <td>57.02</td>\n",
       "      <td>57.599998</td>\n",
       "      <td>57.770000</td>\n",
       "      <td>227900.0</td>\n",
       "      <td>54.500458</td>\n",
       "    </tr>\n",
       "    <tr>\n",
       "      <th>2020-01-24</th>\n",
       "      <td>57.799999</td>\n",
       "      <td>56.84</td>\n",
       "      <td>57.730000</td>\n",
       "      <td>57.160000</td>\n",
       "      <td>146200.0</td>\n",
       "      <td>53.924980</td>\n",
       "    </tr>\n",
       "    <tr>\n",
       "      <th>2020-01-27</th>\n",
       "      <td>55.689999</td>\n",
       "      <td>54.82</td>\n",
       "      <td>55.139999</td>\n",
       "      <td>55.279999</td>\n",
       "      <td>230600.0</td>\n",
       "      <td>52.151379</td>\n",
       "    </tr>\n",
       "    <tr>\n",
       "      <th>2020-01-28</th>\n",
       "      <td>56.090000</td>\n",
       "      <td>55.16</td>\n",
       "      <td>55.490002</td>\n",
       "      <td>55.500000</td>\n",
       "      <td>174400.0</td>\n",
       "      <td>52.358929</td>\n",
       "    </tr>\n",
       "  </tbody>\n",
       "</table>\n",
       "</div>"
      ],
      "text/plain": [
       "                 High    Low       Open      Close    Volume  Adj Close\n",
       "Date                                                                   \n",
       "2020-01-22  58.970001  58.02  58.950001  58.180000  169600.0  54.887253\n",
       "2020-01-23  57.980000  57.02  57.599998  57.770000  227900.0  54.500458\n",
       "2020-01-24  57.799999  56.84  57.730000  57.160000  146200.0  53.924980\n",
       "2020-01-27  55.689999  54.82  55.139999  55.279999  230600.0  52.151379\n",
       "2020-01-28  56.090000  55.16  55.490002  55.500000  174400.0  52.358929"
      ]
     },
     "execution_count": 51,
     "metadata": {},
     "output_type": "execute_result"
    }
   ],
   "source": [
    "# checking the first five rows of dataset\n",
    "smp500.head()"
   ]
  },
  {
   "cell_type": "code",
   "execution_count": 52,
   "metadata": {},
   "outputs": [
    {
     "data": {
      "text/plain": [
       "DatetimeIndex(['2020-01-22', '2020-01-23', '2020-01-24', '2020-01-27',\n",
       "               '2020-01-28', '2020-01-29', '2020-01-30', '2020-01-31',\n",
       "               '2020-02-03', '2020-02-04',\n",
       "               ...\n",
       "               '2020-07-15', '2020-07-16', '2020-07-17', '2020-07-20',\n",
       "               '2020-07-21', '2020-07-22', '2020-07-23', '2020-07-24',\n",
       "               '2020-07-27', '2020-07-28'],\n",
       "              dtype='datetime64[ns]', name='Date', length=131, freq=None)"
      ]
     },
     "execution_count": 52,
     "metadata": {},
     "output_type": "execute_result"
    }
   ],
   "source": [
    "smp500.index"
   ]
  },
  {
   "cell_type": "markdown",
   "metadata": {},
   "source": [
    "# 3. Merge COVID 19 and Stock Market prices data "
   ]
  },
  {
   "cell_type": "code",
   "execution_count": 53,
   "metadata": {},
   "outputs": [],
   "source": [
    "# SElecting Covid 19 data based on the stock market frequency\n",
    "US_covid = US_total[US_total.index.isin(smp500.index)]"
   ]
  },
  {
   "cell_type": "code",
   "execution_count": 54,
   "metadata": {},
   "outputs": [
    {
     "data": {
      "text/html": [
       "<div>\n",
       "<style scoped>\n",
       "    .dataframe tbody tr th:only-of-type {\n",
       "        vertical-align: middle;\n",
       "    }\n",
       "\n",
       "    .dataframe tbody tr th {\n",
       "        vertical-align: top;\n",
       "    }\n",
       "\n",
       "    .dataframe thead th {\n",
       "        text-align: right;\n",
       "    }\n",
       "</style>\n",
       "<table border=\"1\" class=\"dataframe\">\n",
       "  <thead>\n",
       "    <tr style=\"text-align: right;\">\n",
       "      <th></th>\n",
       "      <th>confirmed</th>\n",
       "      <th>death</th>\n",
       "      <th>recovered</th>\n",
       "    </tr>\n",
       "    <tr>\n",
       "      <th>Date</th>\n",
       "      <th></th>\n",
       "      <th></th>\n",
       "      <th></th>\n",
       "    </tr>\n",
       "  </thead>\n",
       "  <tbody>\n",
       "    <tr>\n",
       "      <th>2020-01-22</th>\n",
       "      <td>1</td>\n",
       "      <td>0</td>\n",
       "      <td>0</td>\n",
       "    </tr>\n",
       "    <tr>\n",
       "      <th>2020-01-23</th>\n",
       "      <td>1</td>\n",
       "      <td>0</td>\n",
       "      <td>0</td>\n",
       "    </tr>\n",
       "    <tr>\n",
       "      <th>2020-01-24</th>\n",
       "      <td>2</td>\n",
       "      <td>0</td>\n",
       "      <td>0</td>\n",
       "    </tr>\n",
       "    <tr>\n",
       "      <th>2020-01-27</th>\n",
       "      <td>5</td>\n",
       "      <td>0</td>\n",
       "      <td>0</td>\n",
       "    </tr>\n",
       "    <tr>\n",
       "      <th>2020-01-28</th>\n",
       "      <td>5</td>\n",
       "      <td>0</td>\n",
       "      <td>0</td>\n",
       "    </tr>\n",
       "  </tbody>\n",
       "</table>\n",
       "</div>"
      ],
      "text/plain": [
       "           confirmed death recovered\n",
       "Date                                \n",
       "2020-01-22         1     0         0\n",
       "2020-01-23         1     0         0\n",
       "2020-01-24         2     0         0\n",
       "2020-01-27         5     0         0\n",
       "2020-01-28         5     0         0"
      ]
     },
     "execution_count": 54,
     "metadata": {},
     "output_type": "execute_result"
    }
   ],
   "source": [
    "US_covid.head()"
   ]
  },
  {
   "cell_type": "code",
   "execution_count": 55,
   "metadata": {},
   "outputs": [
    {
     "data": {
      "text/plain": [
       "confirmed    0\n",
       "death        0\n",
       "recovered    0\n",
       "dtype: int64"
      ]
     },
     "execution_count": 55,
     "metadata": {},
     "output_type": "execute_result"
    }
   ],
   "source": [
    "US_covid.isnull().sum()"
   ]
  },
  {
   "cell_type": "code",
   "execution_count": 56,
   "metadata": {},
   "outputs": [
    {
     "name": "stdout",
     "output_type": "stream",
     "text": [
      "<class 'pandas.core.frame.DataFrame'>\n",
      "DatetimeIndex: 130 entries, 2020-01-22 to 2020-07-27\n",
      "Data columns (total 3 columns):\n",
      " #   Column     Non-Null Count  Dtype \n",
      "---  ------     --------------  ----- \n",
      " 0   confirmed  130 non-null    object\n",
      " 1   death      130 non-null    object\n",
      " 2   recovered  130 non-null    object\n",
      "dtypes: object(3)\n",
      "memory usage: 4.1+ KB\n"
     ]
    }
   ],
   "source": [
    "US_covid.info()"
   ]
  },
  {
   "cell_type": "markdown",
   "metadata": {},
   "source": [
    "## Match the data points in the COVID 19 and Stock Market Data "
   ]
  },
  {
   "cell_type": "markdown",
   "metadata": {},
   "source": [
    "## 3.2 Merge the COVID 19 and Stock Market data "
   ]
  },
  {
   "cell_type": "code",
   "execution_count": 57,
   "metadata": {},
   "outputs": [],
   "source": [
    "US_stock_covid_df = pd.concat([US_covid, smp500], axis = 1).dropna()"
   ]
  },
  {
   "cell_type": "code",
   "execution_count": 58,
   "metadata": {},
   "outputs": [
    {
     "data": {
      "text/html": [
       "<div>\n",
       "<style scoped>\n",
       "    .dataframe tbody tr th:only-of-type {\n",
       "        vertical-align: middle;\n",
       "    }\n",
       "\n",
       "    .dataframe tbody tr th {\n",
       "        vertical-align: top;\n",
       "    }\n",
       "\n",
       "    .dataframe thead th {\n",
       "        text-align: right;\n",
       "    }\n",
       "</style>\n",
       "<table border=\"1\" class=\"dataframe\">\n",
       "  <thead>\n",
       "    <tr style=\"text-align: right;\">\n",
       "      <th></th>\n",
       "      <th>confirmed</th>\n",
       "      <th>death</th>\n",
       "      <th>recovered</th>\n",
       "      <th>High</th>\n",
       "      <th>Low</th>\n",
       "      <th>Open</th>\n",
       "      <th>Close</th>\n",
       "      <th>Volume</th>\n",
       "      <th>Adj Close</th>\n",
       "    </tr>\n",
       "    <tr>\n",
       "      <th>Date</th>\n",
       "      <th></th>\n",
       "      <th></th>\n",
       "      <th></th>\n",
       "      <th></th>\n",
       "      <th></th>\n",
       "      <th></th>\n",
       "      <th></th>\n",
       "      <th></th>\n",
       "      <th></th>\n",
       "    </tr>\n",
       "  </thead>\n",
       "  <tbody>\n",
       "    <tr>\n",
       "      <th>2020-01-22</th>\n",
       "      <td>1</td>\n",
       "      <td>0</td>\n",
       "      <td>0</td>\n",
       "      <td>58.970001</td>\n",
       "      <td>58.02</td>\n",
       "      <td>58.950001</td>\n",
       "      <td>58.180000</td>\n",
       "      <td>169600.0</td>\n",
       "      <td>54.887253</td>\n",
       "    </tr>\n",
       "    <tr>\n",
       "      <th>2020-01-23</th>\n",
       "      <td>1</td>\n",
       "      <td>0</td>\n",
       "      <td>0</td>\n",
       "      <td>57.980000</td>\n",
       "      <td>57.02</td>\n",
       "      <td>57.599998</td>\n",
       "      <td>57.770000</td>\n",
       "      <td>227900.0</td>\n",
       "      <td>54.500458</td>\n",
       "    </tr>\n",
       "    <tr>\n",
       "      <th>2020-01-24</th>\n",
       "      <td>2</td>\n",
       "      <td>0</td>\n",
       "      <td>0</td>\n",
       "      <td>57.799999</td>\n",
       "      <td>56.84</td>\n",
       "      <td>57.730000</td>\n",
       "      <td>57.160000</td>\n",
       "      <td>146200.0</td>\n",
       "      <td>53.924980</td>\n",
       "    </tr>\n",
       "    <tr>\n",
       "      <th>2020-01-27</th>\n",
       "      <td>5</td>\n",
       "      <td>0</td>\n",
       "      <td>0</td>\n",
       "      <td>55.689999</td>\n",
       "      <td>54.82</td>\n",
       "      <td>55.139999</td>\n",
       "      <td>55.279999</td>\n",
       "      <td>230600.0</td>\n",
       "      <td>52.151379</td>\n",
       "    </tr>\n",
       "    <tr>\n",
       "      <th>2020-01-28</th>\n",
       "      <td>5</td>\n",
       "      <td>0</td>\n",
       "      <td>0</td>\n",
       "      <td>56.090000</td>\n",
       "      <td>55.16</td>\n",
       "      <td>55.490002</td>\n",
       "      <td>55.500000</td>\n",
       "      <td>174400.0</td>\n",
       "      <td>52.358929</td>\n",
       "    </tr>\n",
       "  </tbody>\n",
       "</table>\n",
       "</div>"
      ],
      "text/plain": [
       "           confirmed death recovered       High    Low       Open      Close  \\\n",
       "Date                                                                           \n",
       "2020-01-22         1     0         0  58.970001  58.02  58.950001  58.180000   \n",
       "2020-01-23         1     0         0  57.980000  57.02  57.599998  57.770000   \n",
       "2020-01-24         2     0         0  57.799999  56.84  57.730000  57.160000   \n",
       "2020-01-27         5     0         0  55.689999  54.82  55.139999  55.279999   \n",
       "2020-01-28         5     0         0  56.090000  55.16  55.490002  55.500000   \n",
       "\n",
       "              Volume  Adj Close  \n",
       "Date                             \n",
       "2020-01-22  169600.0  54.887253  \n",
       "2020-01-23  227900.0  54.500458  \n",
       "2020-01-24  146200.0  53.924980  \n",
       "2020-01-27  230600.0  52.151379  \n",
       "2020-01-28  174400.0  52.358929  "
      ]
     },
     "execution_count": 58,
     "metadata": {},
     "output_type": "execute_result"
    }
   ],
   "source": [
    "US_stock_covid_df.head()"
   ]
  },
  {
   "cell_type": "code",
   "execution_count": 59,
   "metadata": {},
   "outputs": [],
   "source": [
    "# Setting the frequency of data to business dasy\n",
    "US_stock_covid_df.index = pd.DatetimeIndex(US_stock_covid_df.index).to_period('B').dropna()"
   ]
  },
  {
   "cell_type": "code",
   "execution_count": null,
   "metadata": {},
   "outputs": [],
   "source": []
  },
  {
   "cell_type": "code",
   "execution_count": 60,
   "metadata": {},
   "outputs": [
    {
     "data": {
      "text/plain": [
       "confirmed    0\n",
       "death        0\n",
       "recovered    0\n",
       "High         0\n",
       "Low          0\n",
       "Open         0\n",
       "Close        0\n",
       "Volume       0\n",
       "Adj Close    0\n",
       "dtype: int64"
      ]
     },
     "execution_count": 60,
     "metadata": {},
     "output_type": "execute_result"
    }
   ],
   "source": [
    "# First 5 rows of the combined datasets\n",
    "US_stock_covid_df.isnull().sum()"
   ]
  },
  {
   "cell_type": "markdown",
   "metadata": {},
   "source": [
    "## 3. 3 Exploring the merged dataset"
   ]
  },
  {
   "cell_type": "code",
   "execution_count": 61,
   "metadata": {},
   "outputs": [
    {
     "name": "stdout",
     "output_type": "stream",
     "text": [
      "<class 'pandas.core.frame.DataFrame'>\n",
      "PeriodIndex: 130 entries, 2020-01-22 to 2020-07-27\n",
      "Freq: B\n",
      "Data columns (total 9 columns):\n",
      " #   Column     Non-Null Count  Dtype  \n",
      "---  ------     --------------  -----  \n",
      " 0   confirmed  130 non-null    object \n",
      " 1   death      130 non-null    object \n",
      " 2   recovered  130 non-null    object \n",
      " 3   High       130 non-null    float64\n",
      " 4   Low        130 non-null    float64\n",
      " 5   Open       130 non-null    float64\n",
      " 6   Close      130 non-null    float64\n",
      " 7   Volume     130 non-null    float64\n",
      " 8   Adj Close  130 non-null    float64\n",
      "dtypes: float64(6), object(3)\n",
      "memory usage: 10.2+ KB\n"
     ]
    }
   ],
   "source": [
    "US_stock_covid_df.info()"
   ]
  },
  {
   "cell_type": "code",
   "execution_count": 62,
   "metadata": {},
   "outputs": [
    {
     "data": {
      "text/plain": [
       "0"
      ]
     },
     "execution_count": 62,
     "metadata": {},
     "output_type": "execute_result"
    }
   ],
   "source": [
    "# Check the duplicate\n",
    "US_stock_covid_df.duplicated().sum()"
   ]
  },
  {
   "cell_type": "markdown",
   "metadata": {},
   "source": [
    "# Export Merge Dataset - Save file to CSV for Explortort Data Analyses"
   ]
  },
  {
   "cell_type": "code",
   "execution_count": 63,
   "metadata": {},
   "outputs": [],
   "source": [
    "US_stock_covid_df.to_csv(r'C:\\\\Users\\\\mshus\\\\Google Drive\\\\Data Science - Springboard\\\\Git_GitHub\\\\Springboard\\\\Capstone Project Two\\\\Data\\US_stock_covid_df.csv')"
   ]
  }
 ],
 "metadata": {
  "kernelspec": {
   "display_name": "Python 3",
   "language": "python",
   "name": "python3"
  },
  "language_info": {
   "codemirror_mode": {
    "name": "ipython",
    "version": 3
   },
   "file_extension": ".py",
   "mimetype": "text/x-python",
   "name": "python",
   "nbconvert_exporter": "python",
   "pygments_lexer": "ipython3",
   "version": "3.7.6"
  }
 },
 "nbformat": 4,
 "nbformat_minor": 4
}
